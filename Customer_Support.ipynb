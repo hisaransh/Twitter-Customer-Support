{
  "nbformat": 4,
  "nbformat_minor": 0,
  "metadata": {
    "colab": {
      "name": "Customer Support.ipynb",
      "provenance": [],
      "collapsed_sections": [],
      "include_colab_link": true
    },
    "kernelspec": {
      "name": "python3",
      "display_name": "Python 3"
    },
    "accelerator": "GPU",
    "widgets": {
      "application/vnd.jupyter.widget-state+json": {
        "5a25a052946b4903a348dce0b21c772a": {
          "model_module": "@jupyter-widgets/controls",
          "model_name": "HBoxModel",
          "state": {
            "_view_name": "HBoxView",
            "_dom_classes": [],
            "_model_name": "HBoxModel",
            "_view_module": "@jupyter-widgets/controls",
            "_model_module_version": "1.5.0",
            "_view_count": null,
            "_view_module_version": "1.5.0",
            "box_style": "",
            "layout": "IPY_MODEL_9c468c82b047461180c48e8c077d3d3b",
            "_model_module": "@jupyter-widgets/controls",
            "children": [
              "IPY_MODEL_13c9bbb4fe7d422a8aadd024ac53b3ef",
              "IPY_MODEL_cee4875ee0774dedb098a51af96d767a"
            ]
          }
        },
        "9c468c82b047461180c48e8c077d3d3b": {
          "model_module": "@jupyter-widgets/base",
          "model_name": "LayoutModel",
          "state": {
            "_view_name": "LayoutView",
            "grid_template_rows": null,
            "right": null,
            "justify_content": null,
            "_view_module": "@jupyter-widgets/base",
            "overflow": null,
            "_model_module_version": "1.2.0",
            "_view_count": null,
            "flex_flow": null,
            "width": null,
            "min_width": null,
            "border": null,
            "align_items": null,
            "bottom": null,
            "_model_module": "@jupyter-widgets/base",
            "top": null,
            "grid_column": null,
            "overflow_y": null,
            "overflow_x": null,
            "grid_auto_flow": null,
            "grid_area": null,
            "grid_template_columns": null,
            "flex": null,
            "_model_name": "LayoutModel",
            "justify_items": null,
            "grid_row": null,
            "max_height": null,
            "align_content": null,
            "visibility": null,
            "align_self": null,
            "height": null,
            "min_height": null,
            "padding": null,
            "grid_auto_rows": null,
            "grid_gap": null,
            "max_width": null,
            "order": null,
            "_view_module_version": "1.2.0",
            "grid_template_areas": null,
            "object_position": null,
            "object_fit": null,
            "grid_auto_columns": null,
            "margin": null,
            "display": null,
            "left": null
          }
        },
        "13c9bbb4fe7d422a8aadd024ac53b3ef": {
          "model_module": "@jupyter-widgets/controls",
          "model_name": "FloatProgressModel",
          "state": {
            "_view_name": "ProgressView",
            "style": "IPY_MODEL_b20ffc5283da430bb7279c0dab2ca0b1",
            "_dom_classes": [],
            "description": "100%",
            "_model_name": "FloatProgressModel",
            "bar_style": "success",
            "max": 754225,
            "_view_module": "@jupyter-widgets/controls",
            "_model_module_version": "1.5.0",
            "value": 754225,
            "_view_count": null,
            "_view_module_version": "1.5.0",
            "orientation": "horizontal",
            "min": 0,
            "description_tooltip": null,
            "_model_module": "@jupyter-widgets/controls",
            "layout": "IPY_MODEL_1ffc788fe61b4b3caf90f5bb83182cc8"
          }
        },
        "cee4875ee0774dedb098a51af96d767a": {
          "model_module": "@jupyter-widgets/controls",
          "model_name": "HTMLModel",
          "state": {
            "_view_name": "HTMLView",
            "style": "IPY_MODEL_c5972c0349fc45f1b694c80b7212e8b5",
            "_dom_classes": [],
            "description": "",
            "_model_name": "HTMLModel",
            "placeholder": "​",
            "_view_module": "@jupyter-widgets/controls",
            "_model_module_version": "1.5.0",
            "value": " 754225/754225 [16:59&lt;00:00, 740.02it/s]",
            "_view_count": null,
            "_view_module_version": "1.5.0",
            "description_tooltip": null,
            "_model_module": "@jupyter-widgets/controls",
            "layout": "IPY_MODEL_7d41c14b68704c53bac3d8b950b9f227"
          }
        },
        "b20ffc5283da430bb7279c0dab2ca0b1": {
          "model_module": "@jupyter-widgets/controls",
          "model_name": "ProgressStyleModel",
          "state": {
            "_view_name": "StyleView",
            "_model_name": "ProgressStyleModel",
            "description_width": "initial",
            "_view_module": "@jupyter-widgets/base",
            "_model_module_version": "1.5.0",
            "_view_count": null,
            "_view_module_version": "1.2.0",
            "bar_color": null,
            "_model_module": "@jupyter-widgets/controls"
          }
        },
        "1ffc788fe61b4b3caf90f5bb83182cc8": {
          "model_module": "@jupyter-widgets/base",
          "model_name": "LayoutModel",
          "state": {
            "_view_name": "LayoutView",
            "grid_template_rows": null,
            "right": null,
            "justify_content": null,
            "_view_module": "@jupyter-widgets/base",
            "overflow": null,
            "_model_module_version": "1.2.0",
            "_view_count": null,
            "flex_flow": null,
            "width": null,
            "min_width": null,
            "border": null,
            "align_items": null,
            "bottom": null,
            "_model_module": "@jupyter-widgets/base",
            "top": null,
            "grid_column": null,
            "overflow_y": null,
            "overflow_x": null,
            "grid_auto_flow": null,
            "grid_area": null,
            "grid_template_columns": null,
            "flex": null,
            "_model_name": "LayoutModel",
            "justify_items": null,
            "grid_row": null,
            "max_height": null,
            "align_content": null,
            "visibility": null,
            "align_self": null,
            "height": null,
            "min_height": null,
            "padding": null,
            "grid_auto_rows": null,
            "grid_gap": null,
            "max_width": null,
            "order": null,
            "_view_module_version": "1.2.0",
            "grid_template_areas": null,
            "object_position": null,
            "object_fit": null,
            "grid_auto_columns": null,
            "margin": null,
            "display": null,
            "left": null
          }
        },
        "c5972c0349fc45f1b694c80b7212e8b5": {
          "model_module": "@jupyter-widgets/controls",
          "model_name": "DescriptionStyleModel",
          "state": {
            "_view_name": "StyleView",
            "_model_name": "DescriptionStyleModel",
            "description_width": "",
            "_view_module": "@jupyter-widgets/base",
            "_model_module_version": "1.5.0",
            "_view_count": null,
            "_view_module_version": "1.2.0",
            "_model_module": "@jupyter-widgets/controls"
          }
        },
        "7d41c14b68704c53bac3d8b950b9f227": {
          "model_module": "@jupyter-widgets/base",
          "model_name": "LayoutModel",
          "state": {
            "_view_name": "LayoutView",
            "grid_template_rows": null,
            "right": null,
            "justify_content": null,
            "_view_module": "@jupyter-widgets/base",
            "overflow": null,
            "_model_module_version": "1.2.0",
            "_view_count": null,
            "flex_flow": null,
            "width": null,
            "min_width": null,
            "border": null,
            "align_items": null,
            "bottom": null,
            "_model_module": "@jupyter-widgets/base",
            "top": null,
            "grid_column": null,
            "overflow_y": null,
            "overflow_x": null,
            "grid_auto_flow": null,
            "grid_area": null,
            "grid_template_columns": null,
            "flex": null,
            "_model_name": "LayoutModel",
            "justify_items": null,
            "grid_row": null,
            "max_height": null,
            "align_content": null,
            "visibility": null,
            "align_self": null,
            "height": null,
            "min_height": null,
            "padding": null,
            "grid_auto_rows": null,
            "grid_gap": null,
            "max_width": null,
            "order": null,
            "_view_module_version": "1.2.0",
            "grid_template_areas": null,
            "object_position": null,
            "object_fit": null,
            "grid_auto_columns": null,
            "margin": null,
            "display": null,
            "left": null
          }
        }
      }
    }
  },
  "cells": [
    {
      "cell_type": "markdown",
      "metadata": {
        "id": "view-in-github",
        "colab_type": "text"
      },
      "source": [
        "<a href=\"https://colab.research.google.com/github/saransh2320/Twiiter-Customer-Support/blob/master/Customer_Support.ipynb\" target=\"_parent\"><img src=\"https://colab.research.google.com/assets/colab-badge.svg\" alt=\"Open In Colab\"/></a>"
      ]
    },
    {
      "cell_type": "code",
      "metadata": {
        "id": "9a0xa6uiaOQI",
        "colab_type": "code",
        "colab": {}
      },
      "source": [
        "import os\n",
        "import json\n",
        "import re\n",
        "import random\n",
        "import time"
      ],
      "execution_count": 1,
      "outputs": []
    },
    {
      "cell_type": "code",
      "metadata": {
        "id": "r6fsgMZNRz0M",
        "colab_type": "code",
        "colab": {
          "base_uri": "https://localhost:8080/",
          "height": 187
        },
        "outputId": "71dda476-bba9-445e-99bd-b949ab8de9a2"
      },
      "source": [
        "# for language Detection\n",
        "!pip install pycld2"
      ],
      "execution_count": 2,
      "outputs": [
        {
          "output_type": "stream",
          "text": [
            "Collecting pycld2\n",
            "\u001b[?25l  Downloading https://files.pythonhosted.org/packages/21/d2/8b0def84a53c88d0eb27c67b05269fbd16ad68df8c78849e7b5d65e6aec3/pycld2-0.41.tar.gz (41.4MB)\n",
            "\u001b[K     |████████████████████████████████| 41.4MB 73kB/s \n",
            "\u001b[?25hBuilding wheels for collected packages: pycld2\n",
            "  Building wheel for pycld2 (setup.py) ... \u001b[?25l\u001b[?25hdone\n",
            "  Created wheel for pycld2: filename=pycld2-0.41-cp36-cp36m-linux_x86_64.whl size=9833536 sha256=6a980d2dafda9d19e512178715ae2bfeb33e1f7df57c8c6cc2915dc0193f9d7d\n",
            "  Stored in directory: /root/.cache/pip/wheels/c6/8f/e9/08a1a8932a490175bd140206cd86a3dbcfc70498100de11079\n",
            "Successfully built pycld2\n",
            "Installing collected packages: pycld2\n",
            "Successfully installed pycld2-0.41\n"
          ],
          "name": "stdout"
        }
      ]
    },
    {
      "cell_type": "code",
      "metadata": {
        "id": "wX9B5T_pcCvy",
        "colab_type": "code",
        "colab": {}
      },
      "source": [
        "!pip install -q kaggle"
      ],
      "execution_count": 3,
      "outputs": []
    },
    {
      "cell_type": "code",
      "metadata": {
        "id": "W42eBPb-awQP",
        "colab_type": "code",
        "colab": {}
      },
      "source": [
        "kaggle_api_key = '{\"username\":\"hsaransh\",\"key\":\"d751f4719ec73f12f570241faafd19c9\"}'\n",
        "kaggle_api_key = json.loads(kaggle_api_key)"
      ],
      "execution_count": 4,
      "outputs": []
    },
    {
      "cell_type": "code",
      "metadata": {
        "id": "w9FrSKYSoO5B",
        "colab_type": "code",
        "colab": {}
      },
      "source": [
        "!mkdir -p ~/.kaggle"
      ],
      "execution_count": 5,
      "outputs": []
    },
    {
      "cell_type": "code",
      "metadata": {
        "id": "-7Z2imLmbOYo",
        "colab_type": "code",
        "colab": {}
      },
      "source": [
        "with open('kaggle.json', 'w') as json_file:\n",
        "    json.dump(kaggle_api_key, json_file)"
      ],
      "execution_count": 6,
      "outputs": []
    },
    {
      "cell_type": "code",
      "metadata": {
        "id": "3ajWC4dloSy3",
        "colab_type": "code",
        "colab": {}
      },
      "source": [
        "!cp kaggle.json ~/.kaggle/"
      ],
      "execution_count": 7,
      "outputs": []
    },
    {
      "cell_type": "code",
      "metadata": {
        "id": "Rc7Rq39in5EB",
        "colab_type": "code",
        "colab": {}
      },
      "source": [
        "!chmod 600 /root/.kaggle/kaggle.json"
      ],
      "execution_count": 8,
      "outputs": []
    },
    {
      "cell_type": "code",
      "metadata": {
        "id": "wKb8tf3LavZD",
        "colab_type": "code",
        "colab": {
          "base_uri": "https://localhost:8080/",
          "height": 68
        },
        "outputId": "8b0bef8a-d378-4ac7-895d-6032cf8a60fb"
      },
      "source": [
        "!kaggle datasets download -d thoughtvector/customer-support-on-twitter"
      ],
      "execution_count": 9,
      "outputs": [
        {
          "output_type": "stream",
          "text": [
            "Downloading customer-support-on-twitter.zip to /content\n",
            " 91% 153M/169M [00:04<00:00, 23.3MB/s]\n",
            "100% 169M/169M [00:04<00:00, 40.4MB/s]\n"
          ],
          "name": "stdout"
        }
      ]
    },
    {
      "cell_type": "code",
      "metadata": {
        "id": "fjXWqsRhnV5Y",
        "colab_type": "code",
        "colab": {
          "base_uri": "https://localhost:8080/",
          "height": 68
        },
        "outputId": "619d2021-fdaa-4588-fd7e-cc4d058f6d46"
      },
      "source": [
        "!unzip '/content/customer-support-on-twitter.zip'"
      ],
      "execution_count": 10,
      "outputs": [
        {
          "output_type": "stream",
          "text": [
            "Archive:  /content/customer-support-on-twitter.zip\n",
            "  inflating: sample.csv              \n",
            "  inflating: twcs/twcs.csv           \n"
          ],
          "name": "stdout"
        }
      ]
    },
    {
      "cell_type": "code",
      "metadata": {
        "id": "QQIkeP8WpG8c",
        "colab_type": "code",
        "colab": {
          "base_uri": "https://localhost:8080/",
          "height": 34
        },
        "outputId": "e2303b30-ab9c-4ec1-ffc7-f711dc618789"
      },
      "source": [
        "import numpy as np\n",
        "import pandas as pd\n",
        "import string\n",
        "\n",
        "import keras\n",
        "import sklearn\n",
        "import nltk\n",
        "\n",
        "from sklearn.feature_extraction.text import CountVectorizer\n",
        "from nltk.tokenize import casual_tokenize\n",
        "\n",
        "from tqdm import tqdm_notebook as tqdm"
      ],
      "execution_count": 11,
      "outputs": [
        {
          "output_type": "stream",
          "text": [
            "Using TensorFlow backend.\n"
          ],
          "name": "stderr"
        }
      ]
    },
    {
      "cell_type": "code",
      "metadata": {
        "id": "A0JFFo9ApK73",
        "colab_type": "code",
        "colab": {}
      },
      "source": [
        "tweets = pd.read_csv('/content/twcs/twcs.csv')"
      ],
      "execution_count": 12,
      "outputs": []
    },
    {
      "cell_type": "code",
      "metadata": {
        "id": "cLifmmGUpSfG",
        "colab_type": "code",
        "colab": {
          "base_uri": "https://localhost:8080/",
          "height": 204
        },
        "outputId": "a0919842-b1cd-45c3-aac1-c6953defdd50"
      },
      "source": [
        "tweets.head()"
      ],
      "execution_count": 13,
      "outputs": [
        {
          "output_type": "execute_result",
          "data": {
            "text/html": [
              "<div>\n",
              "<style scoped>\n",
              "    .dataframe tbody tr th:only-of-type {\n",
              "        vertical-align: middle;\n",
              "    }\n",
              "\n",
              "    .dataframe tbody tr th {\n",
              "        vertical-align: top;\n",
              "    }\n",
              "\n",
              "    .dataframe thead th {\n",
              "        text-align: right;\n",
              "    }\n",
              "</style>\n",
              "<table border=\"1\" class=\"dataframe\">\n",
              "  <thead>\n",
              "    <tr style=\"text-align: right;\">\n",
              "      <th></th>\n",
              "      <th>tweet_id</th>\n",
              "      <th>author_id</th>\n",
              "      <th>inbound</th>\n",
              "      <th>created_at</th>\n",
              "      <th>text</th>\n",
              "      <th>response_tweet_id</th>\n",
              "      <th>in_response_to_tweet_id</th>\n",
              "    </tr>\n",
              "  </thead>\n",
              "  <tbody>\n",
              "    <tr>\n",
              "      <th>0</th>\n",
              "      <td>1</td>\n",
              "      <td>sprintcare</td>\n",
              "      <td>False</td>\n",
              "      <td>Tue Oct 31 22:10:47 +0000 2017</td>\n",
              "      <td>@115712 I understand. I would like to assist y...</td>\n",
              "      <td>2</td>\n",
              "      <td>3.0</td>\n",
              "    </tr>\n",
              "    <tr>\n",
              "      <th>1</th>\n",
              "      <td>2</td>\n",
              "      <td>115712</td>\n",
              "      <td>True</td>\n",
              "      <td>Tue Oct 31 22:11:45 +0000 2017</td>\n",
              "      <td>@sprintcare and how do you propose we do that</td>\n",
              "      <td>NaN</td>\n",
              "      <td>1.0</td>\n",
              "    </tr>\n",
              "    <tr>\n",
              "      <th>2</th>\n",
              "      <td>3</td>\n",
              "      <td>115712</td>\n",
              "      <td>True</td>\n",
              "      <td>Tue Oct 31 22:08:27 +0000 2017</td>\n",
              "      <td>@sprintcare I have sent several private messag...</td>\n",
              "      <td>1</td>\n",
              "      <td>4.0</td>\n",
              "    </tr>\n",
              "    <tr>\n",
              "      <th>3</th>\n",
              "      <td>4</td>\n",
              "      <td>sprintcare</td>\n",
              "      <td>False</td>\n",
              "      <td>Tue Oct 31 21:54:49 +0000 2017</td>\n",
              "      <td>@115712 Please send us a Private Message so th...</td>\n",
              "      <td>3</td>\n",
              "      <td>5.0</td>\n",
              "    </tr>\n",
              "    <tr>\n",
              "      <th>4</th>\n",
              "      <td>5</td>\n",
              "      <td>115712</td>\n",
              "      <td>True</td>\n",
              "      <td>Tue Oct 31 21:49:35 +0000 2017</td>\n",
              "      <td>@sprintcare I did.</td>\n",
              "      <td>4</td>\n",
              "      <td>6.0</td>\n",
              "    </tr>\n",
              "  </tbody>\n",
              "</table>\n",
              "</div>"
            ],
            "text/plain": [
              "   tweet_id   author_id  ...  response_tweet_id in_response_to_tweet_id\n",
              "0         1  sprintcare  ...                  2                     3.0\n",
              "1         2      115712  ...                NaN                     1.0\n",
              "2         3      115712  ...                  1                     4.0\n",
              "3         4  sprintcare  ...                  3                     5.0\n",
              "4         5      115712  ...                  4                     6.0\n",
              "\n",
              "[5 rows x 7 columns]"
            ]
          },
          "metadata": {
            "tags": []
          },
          "execution_count": 13
        }
      ]
    },
    {
      "cell_type": "code",
      "metadata": {
        "id": "Zt-tg6_SpmYJ",
        "colab_type": "code",
        "colab": {
          "base_uri": "https://localhost:8080/",
          "height": 219
        },
        "outputId": "15799db0-d674-43c2-da1d-5429a8a11d28"
      },
      "source": [
        "tweets.loc[lambda tf: tf['tweet_id'] == 81]"
      ],
      "execution_count": null,
      "outputs": [
        {
          "output_type": "execute_result",
          "data": {
            "text/html": [
              "<div>\n",
              "<style scoped>\n",
              "    .dataframe tbody tr th:only-of-type {\n",
              "        vertical-align: middle;\n",
              "    }\n",
              "\n",
              "    .dataframe tbody tr th {\n",
              "        vertical-align: top;\n",
              "    }\n",
              "\n",
              "    .dataframe thead th {\n",
              "        text-align: right;\n",
              "    }\n",
              "</style>\n",
              "<table border=\"1\" class=\"dataframe\">\n",
              "  <thead>\n",
              "    <tr style=\"text-align: right;\">\n",
              "      <th></th>\n",
              "      <th>tweet_id</th>\n",
              "      <th>author_id</th>\n",
              "      <th>inbound</th>\n",
              "      <th>created_at</th>\n",
              "      <th>text</th>\n",
              "      <th>response_tweet_id</th>\n",
              "      <th>in_response_to_tweet_id</th>\n",
              "    </tr>\n",
              "  </thead>\n",
              "  <tbody>\n",
              "    <tr>\n",
              "      <th>73</th>\n",
              "      <td>81</td>\n",
              "      <td>ChipotleTweets</td>\n",
              "      <td>False</td>\n",
              "      <td>Mon Oct 30 15:00:02 +0000 2017</td>\n",
              "      <td>Just stop by in costume 10/31 3pm-close. Offic...</td>\n",
              "      <td>80,82,83,84,85,86,87,88,89,90,91,92,93,94,95,9...</td>\n",
              "      <td>NaN</td>\n",
              "    </tr>\n",
              "  </tbody>\n",
              "</table>\n",
              "</div>"
            ],
            "text/plain": [
              "    tweet_id  ... in_response_to_tweet_id\n",
              "73        81  ...                     NaN\n",
              "\n",
              "[1 rows x 7 columns]"
            ]
          },
          "metadata": {
            "tags": []
          },
          "execution_count": 14
        }
      ]
    },
    {
      "cell_type": "code",
      "metadata": {
        "id": "2ZgMRjbPp3KP",
        "colab_type": "code",
        "colab": {
          "base_uri": "https://localhost:8080/",
          "height": 151
        },
        "outputId": "fe8496a3-4c1b-4d76-d0a7-3046d8dd0241"
      },
      "source": [
        "tweets.loc[lambda tf: tf['tweet_id'] == 409]"
      ],
      "execution_count": null,
      "outputs": [
        {
          "output_type": "execute_result",
          "data": {
            "text/html": [
              "<div>\n",
              "<style scoped>\n",
              "    .dataframe tbody tr th:only-of-type {\n",
              "        vertical-align: middle;\n",
              "    }\n",
              "\n",
              "    .dataframe tbody tr th {\n",
              "        vertical-align: top;\n",
              "    }\n",
              "\n",
              "    .dataframe thead th {\n",
              "        text-align: right;\n",
              "    }\n",
              "</style>\n",
              "<table border=\"1\" class=\"dataframe\">\n",
              "  <thead>\n",
              "    <tr style=\"text-align: right;\">\n",
              "      <th></th>\n",
              "      <th>tweet_id</th>\n",
              "      <th>author_id</th>\n",
              "      <th>inbound</th>\n",
              "      <th>created_at</th>\n",
              "      <th>text</th>\n",
              "      <th>response_tweet_id</th>\n",
              "      <th>in_response_to_tweet_id</th>\n",
              "    </tr>\n",
              "  </thead>\n",
              "  <tbody>\n",
              "    <tr>\n",
              "      <th>301</th>\n",
              "      <td>409</td>\n",
              "      <td>McDonalds</td>\n",
              "      <td>False</td>\n",
              "      <td>Tue Oct 31 16:02:50 +0000 2017</td>\n",
              "      <td>So what’ll it be this #Halloween: a trick or a...</td>\n",
              "      <td>410,411,412,413,414,415,416,417,418,419,420,42...</td>\n",
              "      <td>NaN</td>\n",
              "    </tr>\n",
              "  </tbody>\n",
              "</table>\n",
              "</div>"
            ],
            "text/plain": [
              "     tweet_id  ... in_response_to_tweet_id\n",
              "301       409  ...                     NaN\n",
              "\n",
              "[1 rows x 7 columns]"
            ]
          },
          "metadata": {
            "tags": []
          },
          "execution_count": 15
        }
      ]
    },
    {
      "cell_type": "code",
      "metadata": {
        "id": "oePiSnlIAxHy",
        "colab_type": "code",
        "colab": {
          "base_uri": "https://localhost:8080/",
          "height": 34
        },
        "outputId": "b8fb3b7b-8d19-45de-f279-7ee9fa9fe27d"
      },
      "source": [
        "tweets.shape"
      ],
      "execution_count": 14,
      "outputs": [
        {
          "output_type": "execute_result",
          "data": {
            "text/plain": [
              "(2811774, 7)"
            ]
          },
          "metadata": {
            "tags": []
          },
          "execution_count": 14
        }
      ]
    },
    {
      "cell_type": "code",
      "metadata": {
        "id": "iImRzTjWpVdb",
        "colab_type": "code",
        "colab": {}
      },
      "source": [
        "# First_inbound have all the tweets in_response_to_tweet_id is null (i.e. starting of converstion) and tweets.inbound == true (i.e. started by customer)\n",
        "first_inbound = tweets[pd.isnull(tweets.in_response_to_tweet_id) & tweets.inbound == True]\n",
        "\n",
        "# Mergeing above with the whole dataset to get que -> ans\n",
        "inbounds_and_outbounds = pd.merge(first_inbound,tweets,left_on='tweet_id',right_on='in_response_to_tweet_id')\n",
        "\n",
        "# Filtering inbound_y == false for only company replies\n",
        "inbounds_and_outbounds = inbounds_and_outbounds[inbounds_and_outbounds.inbound_y ^ True]"
      ],
      "execution_count": 15,
      "outputs": []
    },
    {
      "cell_type": "code",
      "metadata": {
        "id": "DHBjdNRRuWaI",
        "colab_type": "code",
        "colab": {
          "base_uri": "https://localhost:8080/",
          "height": 649
        },
        "outputId": "15b82f08-2975-49e5-eb46-1ec0290fa023"
      },
      "source": [
        "inbounds_and_outbounds.head()"
      ],
      "execution_count": null,
      "outputs": [
        {
          "output_type": "execute_result",
          "data": {
            "text/html": [
              "<div>\n",
              "<style scoped>\n",
              "    .dataframe tbody tr th:only-of-type {\n",
              "        vertical-align: middle;\n",
              "    }\n",
              "\n",
              "    .dataframe tbody tr th {\n",
              "        vertical-align: top;\n",
              "    }\n",
              "\n",
              "    .dataframe thead th {\n",
              "        text-align: right;\n",
              "    }\n",
              "</style>\n",
              "<table border=\"1\" class=\"dataframe\">\n",
              "  <thead>\n",
              "    <tr style=\"text-align: right;\">\n",
              "      <th></th>\n",
              "      <th>tweet_id_x</th>\n",
              "      <th>author_id_x</th>\n",
              "      <th>inbound_x</th>\n",
              "      <th>created_at_x</th>\n",
              "      <th>text_x</th>\n",
              "      <th>response_tweet_id_x</th>\n",
              "      <th>in_response_to_tweet_id_x</th>\n",
              "      <th>tweet_id_y</th>\n",
              "      <th>author_id_y</th>\n",
              "      <th>inbound_y</th>\n",
              "      <th>created_at_y</th>\n",
              "      <th>text_y</th>\n",
              "      <th>response_tweet_id_y</th>\n",
              "      <th>in_response_to_tweet_id_y</th>\n",
              "    </tr>\n",
              "  </thead>\n",
              "  <tbody>\n",
              "    <tr>\n",
              "      <th>0</th>\n",
              "      <td>8</td>\n",
              "      <td>115712</td>\n",
              "      <td>True</td>\n",
              "      <td>Tue Oct 31 21:45:10 +0000 2017</td>\n",
              "      <td>@sprintcare is the worst customer service</td>\n",
              "      <td>9,6,10</td>\n",
              "      <td>NaN</td>\n",
              "      <td>6</td>\n",
              "      <td>sprintcare</td>\n",
              "      <td>False</td>\n",
              "      <td>Tue Oct 31 21:46:24 +0000 2017</td>\n",
              "      <td>@115712 Can you please send us a private messa...</td>\n",
              "      <td>5,7</td>\n",
              "      <td>8.0</td>\n",
              "    </tr>\n",
              "    <tr>\n",
              "      <th>1</th>\n",
              "      <td>8</td>\n",
              "      <td>115712</td>\n",
              "      <td>True</td>\n",
              "      <td>Tue Oct 31 21:45:10 +0000 2017</td>\n",
              "      <td>@sprintcare is the worst customer service</td>\n",
              "      <td>9,6,10</td>\n",
              "      <td>NaN</td>\n",
              "      <td>9</td>\n",
              "      <td>sprintcare</td>\n",
              "      <td>False</td>\n",
              "      <td>Tue Oct 31 21:46:14 +0000 2017</td>\n",
              "      <td>@115712 I would love the chance to review the ...</td>\n",
              "      <td>NaN</td>\n",
              "      <td>8.0</td>\n",
              "    </tr>\n",
              "    <tr>\n",
              "      <th>2</th>\n",
              "      <td>8</td>\n",
              "      <td>115712</td>\n",
              "      <td>True</td>\n",
              "      <td>Tue Oct 31 21:45:10 +0000 2017</td>\n",
              "      <td>@sprintcare is the worst customer service</td>\n",
              "      <td>9,6,10</td>\n",
              "      <td>NaN</td>\n",
              "      <td>10</td>\n",
              "      <td>sprintcare</td>\n",
              "      <td>False</td>\n",
              "      <td>Tue Oct 31 21:45:59 +0000 2017</td>\n",
              "      <td>@115712 Hello! We never like our customers to ...</td>\n",
              "      <td>NaN</td>\n",
              "      <td>8.0</td>\n",
              "    </tr>\n",
              "    <tr>\n",
              "      <th>3</th>\n",
              "      <td>18</td>\n",
              "      <td>115713</td>\n",
              "      <td>True</td>\n",
              "      <td>Tue Oct 31 19:56:01 +0000 2017</td>\n",
              "      <td>@115714 y’all lie about your “great” connectio...</td>\n",
              "      <td>17</td>\n",
              "      <td>NaN</td>\n",
              "      <td>17</td>\n",
              "      <td>sprintcare</td>\n",
              "      <td>False</td>\n",
              "      <td>Tue Oct 31 19:59:13 +0000 2017</td>\n",
              "      <td>@115713 H there! We'd definitely like to work ...</td>\n",
              "      <td>16</td>\n",
              "      <td>18.0</td>\n",
              "    </tr>\n",
              "    <tr>\n",
              "      <th>4</th>\n",
              "      <td>20</td>\n",
              "      <td>115715</td>\n",
              "      <td>True</td>\n",
              "      <td>Tue Oct 31 22:03:34 +0000 2017</td>\n",
              "      <td>@115714 whenever I contact customer support, t...</td>\n",
              "      <td>19</td>\n",
              "      <td>NaN</td>\n",
              "      <td>19</td>\n",
              "      <td>sprintcare</td>\n",
              "      <td>False</td>\n",
              "      <td>Tue Oct 31 22:10:10 +0000 2017</td>\n",
              "      <td>@115715 Please send me a private message so th...</td>\n",
              "      <td>NaN</td>\n",
              "      <td>20.0</td>\n",
              "    </tr>\n",
              "  </tbody>\n",
              "</table>\n",
              "</div>"
            ],
            "text/plain": [
              "   tweet_id_x author_id_x  ...  response_tweet_id_y in_response_to_tweet_id_y\n",
              "0           8      115712  ...                  5,7                       8.0\n",
              "1           8      115712  ...                  NaN                       8.0\n",
              "2           8      115712  ...                  NaN                       8.0\n",
              "3          18      115713  ...                   16                      18.0\n",
              "4          20      115715  ...                  NaN                      20.0\n",
              "\n",
              "[5 rows x 14 columns]"
            ]
          },
          "metadata": {
            "tags": []
          },
          "execution_count": 18
        }
      ]
    },
    {
      "cell_type": "code",
      "metadata": {
        "id": "HTD53sUOkkTz",
        "colab_type": "code",
        "colab": {
          "base_uri": "https://localhost:8080/",
          "height": 34
        },
        "outputId": "6135d3cf-406a-409f-f389-7cb33d73cd01"
      },
      "source": [
        "inbounds_and_outbounds.shape"
      ],
      "execution_count": 16,
      "outputs": [
        {
          "output_type": "execute_result",
          "data": {
            "text/plain": [
              "(794299, 14)"
            ]
          },
          "metadata": {
            "tags": []
          },
          "execution_count": 16
        }
      ]
    },
    {
      "cell_type": "code",
      "metadata": {
        "id": "y2lPq7HCAH_i",
        "colab_type": "code",
        "colab": {
          "base_uri": "https://localhost:8080/",
          "height": 204
        },
        "outputId": "40e8cb0b-6e32-4b37-de87-0bf38b7f8652"
      },
      "source": [
        "# dropping unnecessary Columns\n",
        "query_and_response = inbounds_and_outbounds[[\"text_x\",\"text_y\"]]\n",
        "query_and_response.head()"
      ],
      "execution_count": 19,
      "outputs": [
        {
          "output_type": "execute_result",
          "data": {
            "text/html": [
              "<div>\n",
              "<style scoped>\n",
              "    .dataframe tbody tr th:only-of-type {\n",
              "        vertical-align: middle;\n",
              "    }\n",
              "\n",
              "    .dataframe tbody tr th {\n",
              "        vertical-align: top;\n",
              "    }\n",
              "\n",
              "    .dataframe thead th {\n",
              "        text-align: right;\n",
              "    }\n",
              "</style>\n",
              "<table border=\"1\" class=\"dataframe\">\n",
              "  <thead>\n",
              "    <tr style=\"text-align: right;\">\n",
              "      <th></th>\n",
              "      <th>text_x</th>\n",
              "      <th>text_y</th>\n",
              "    </tr>\n",
              "  </thead>\n",
              "  <tbody>\n",
              "    <tr>\n",
              "      <th>0</th>\n",
              "      <td>@sprintcare is the worst customer service</td>\n",
              "      <td>@115712 Can you please send us a private messa...</td>\n",
              "    </tr>\n",
              "    <tr>\n",
              "      <th>1</th>\n",
              "      <td>@sprintcare is the worst customer service</td>\n",
              "      <td>@115712 I would love the chance to review the ...</td>\n",
              "    </tr>\n",
              "    <tr>\n",
              "      <th>2</th>\n",
              "      <td>@sprintcare is the worst customer service</td>\n",
              "      <td>@115712 Hello! We never like our customers to ...</td>\n",
              "    </tr>\n",
              "    <tr>\n",
              "      <th>3</th>\n",
              "      <td>@115714 y’all lie about your “great” connectio...</td>\n",
              "      <td>@115713 H there! We'd definitely like to work ...</td>\n",
              "    </tr>\n",
              "    <tr>\n",
              "      <th>4</th>\n",
              "      <td>@115714 whenever I contact customer support, t...</td>\n",
              "      <td>@115715 Please send me a private message so th...</td>\n",
              "    </tr>\n",
              "  </tbody>\n",
              "</table>\n",
              "</div>"
            ],
            "text/plain": [
              "                                              text_x                                             text_y\n",
              "0          @sprintcare is the worst customer service  @115712 Can you please send us a private messa...\n",
              "1          @sprintcare is the worst customer service  @115712 I would love the chance to review the ...\n",
              "2          @sprintcare is the worst customer service  @115712 Hello! We never like our customers to ...\n",
              "3  @115714 y’all lie about your “great” connectio...  @115713 H there! We'd definitely like to work ...\n",
              "4  @115714 whenever I contact customer support, t...  @115715 Please send me a private message so th..."
            ]
          },
          "metadata": {
            "tags": []
          },
          "execution_count": 19
        }
      ]
    },
    {
      "cell_type": "code",
      "metadata": {
        "id": "K9uZkAaKmOBx",
        "colab_type": "code",
        "colab": {
          "base_uri": "https://localhost:8080/",
          "height": 34
        },
        "outputId": "b3d1fdd6-8c93-48d2-c3e0-0471d20df032"
      },
      "source": [
        "query_and_response.shape"
      ],
      "execution_count": 20,
      "outputs": [
        {
          "output_type": "execute_result",
          "data": {
            "text/plain": [
              "(794299, 2)"
            ]
          },
          "metadata": {
            "tags": []
          },
          "execution_count": 20
        }
      ]
    },
    {
      "cell_type": "code",
      "metadata": {
        "id": "Yc6TwnRmHVVo",
        "colab_type": "code",
        "colab": {
          "base_uri": "https://localhost:8080/",
          "height": 102
        },
        "outputId": "b91ab79b-8ead-416b-a307-9e069a635b7e"
      },
      "source": [
        "# Removing @username\n",
        "\n",
        "query_and_response['text_x'].replace(to_replace=\"@[A-Za-z0-9]+\", value=\"\", regex=True,inplace=True)\n",
        "\n",
        "query_and_response['text_y'].replace(to_replace=\"@[A-Za-z0-9]+\", value=\"\", regex=True,inplace=True)"
      ],
      "execution_count": 21,
      "outputs": [
        {
          "output_type": "stream",
          "text": [
            "/usr/local/lib/python3.6/dist-packages/pandas/core/generic.py:6746: SettingWithCopyWarning: \n",
            "A value is trying to be set on a copy of a slice from a DataFrame\n",
            "\n",
            "See the caveats in the documentation: https://pandas.pydata.org/pandas-docs/stable/user_guide/indexing.html#returning-a-view-versus-a-copy\n",
            "  self._update_inplace(new_data)\n"
          ],
          "name": "stderr"
        }
      ]
    },
    {
      "cell_type": "code",
      "metadata": {
        "id": "S0Jnv5_ECMHN",
        "colab_type": "code",
        "colab": {
          "base_uri": "https://localhost:8080/",
          "height": 204
        },
        "outputId": "bd0515f0-1f64-4512-936a-53586c2b1f70"
      },
      "source": [
        "query_and_response.head()"
      ],
      "execution_count": null,
      "outputs": [
        {
          "output_type": "execute_result",
          "data": {
            "text/html": [
              "<div>\n",
              "<style scoped>\n",
              "    .dataframe tbody tr th:only-of-type {\n",
              "        vertical-align: middle;\n",
              "    }\n",
              "\n",
              "    .dataframe tbody tr th {\n",
              "        vertical-align: top;\n",
              "    }\n",
              "\n",
              "    .dataframe thead th {\n",
              "        text-align: right;\n",
              "    }\n",
              "</style>\n",
              "<table border=\"1\" class=\"dataframe\">\n",
              "  <thead>\n",
              "    <tr style=\"text-align: right;\">\n",
              "      <th></th>\n",
              "      <th>text_x</th>\n",
              "      <th>text_y</th>\n",
              "    </tr>\n",
              "  </thead>\n",
              "  <tbody>\n",
              "    <tr>\n",
              "      <th>0</th>\n",
              "      <td>is the worst customer service</td>\n",
              "      <td>Can you please send us a private message, so ...</td>\n",
              "    </tr>\n",
              "    <tr>\n",
              "      <th>1</th>\n",
              "      <td>is the worst customer service</td>\n",
              "      <td>I would love the chance to review the account...</td>\n",
              "    </tr>\n",
              "    <tr>\n",
              "      <th>2</th>\n",
              "      <td>is the worst customer service</td>\n",
              "      <td>Hello! We never like our customers to feel li...</td>\n",
              "    </tr>\n",
              "    <tr>\n",
              "      <th>3</th>\n",
              "      <td>y’all lie about your “great” connection. 5 ba...</td>\n",
              "      <td>H there! We'd definitely like to work with yo...</td>\n",
              "    </tr>\n",
              "    <tr>\n",
              "      <th>4</th>\n",
              "      <td>whenever I contact customer support, they tel...</td>\n",
              "      <td>Please send me a private message so that I ca...</td>\n",
              "    </tr>\n",
              "  </tbody>\n",
              "</table>\n",
              "</div>"
            ],
            "text/plain": [
              "                                              text_x                                             text_y\n",
              "0                      is the worst customer service   Can you please send us a private message, so ...\n",
              "1                      is the worst customer service   I would love the chance to review the account...\n",
              "2                      is the worst customer service   Hello! We never like our customers to feel li...\n",
              "3   y’all lie about your “great” connection. 5 ba...   H there! We'd definitely like to work with yo...\n",
              "4   whenever I contact customer support, they tel...   Please send me a private message so that I ca..."
            ]
          },
          "metadata": {
            "tags": []
          },
          "execution_count": 16
        }
      ]
    },
    {
      "cell_type": "code",
      "metadata": {
        "id": "2TZkxO7HLiwK",
        "colab_type": "code",
        "colab": {}
      },
      "source": [
        "# Testing pycld2 Library\n",
        "import pycld2 as cld2\n",
        "k = (cld2.detect(\"who is here\")[2])[0][1]"
      ],
      "execution_count": 18,
      "outputs": []
    },
    {
      "cell_type": "code",
      "metadata": {
        "id": "KRXWSbguL5Ya",
        "colab_type": "code",
        "colab": {}
      },
      "source": [
        "# removing non english rows\n",
        "def is_en(txt):\n",
        "    try:\n",
        "        return ((cld2.detect(txt)[2])[0][1])=='en'\n",
        "    except:\n",
        "        return False\n",
        "\n",
        "query_and_response = query_and_response[query_and_response['text_x'].apply(is_en)]\n",
        "query_and_response = query_and_response[query_and_response['text_y'].apply(is_en)]"
      ],
      "execution_count": 22,
      "outputs": []
    },
    {
      "cell_type": "code",
      "metadata": {
        "id": "LlmSmIx0NmMF",
        "colab_type": "code",
        "colab": {
          "base_uri": "https://localhost:8080/",
          "height": 34
        },
        "outputId": "b5547bdc-4ef0-4177-d740-2f521a792c34"
      },
      "source": [
        "query_and_response.shape"
      ],
      "execution_count": 23,
      "outputs": [
        {
          "output_type": "execute_result",
          "data": {
            "text/plain": [
              "(754225, 2)"
            ]
          },
          "metadata": {
            "tags": []
          },
          "execution_count": 23
        }
      ]
    },
    {
      "cell_type": "code",
      "metadata": {
        "id": "eobayntzOApc",
        "colab_type": "code",
        "colab": {}
      },
      "source": [
        "# lower case\n",
        "query_and_response[\"text_x\"] = query_and_response[\"text_x\"].str.lower()\n",
        "query_and_response[\"text_y\"] = query_and_response[\"text_y\"].str.lower()\n"
      ],
      "execution_count": 24,
      "outputs": []
    },
    {
      "cell_type": "code",
      "metadata": {
        "id": "PATuSlT0OFpg",
        "colab_type": "code",
        "colab": {}
      },
      "source": [
        "# PUNCT_TO_REMOVE = string.punctuation\n",
        "\n",
        "def remove_punctuation(text):\n",
        "    text_nopunct = \"\".join([char for char in text if char not in string.punctuation])# It will discard all punctuations\n",
        "    return text_nopunct\n",
        "\n",
        "query_and_response[\"text_x\"] = query_and_response[\"text_x\"].apply(lambda text: remove_punctuation(text))\n",
        "query_and_response[\"text_y\"] = query_and_response[\"text_y\"].apply(lambda text: remove_punctuation(text))\n"
      ],
      "execution_count": 25,
      "outputs": []
    },
    {
      "cell_type": "code",
      "metadata": {
        "id": "4OVqsm9WRllN",
        "colab_type": "code",
        "colab": {
          "base_uri": "https://localhost:8080/",
          "height": 669
        },
        "outputId": "75095622-84bf-44a9-e636-791367aa7f9a"
      },
      "source": [
        "query_and_response.head(20)"
      ],
      "execution_count": 26,
      "outputs": [
        {
          "output_type": "execute_result",
          "data": {
            "text/html": [
              "<div>\n",
              "<style scoped>\n",
              "    .dataframe tbody tr th:only-of-type {\n",
              "        vertical-align: middle;\n",
              "    }\n",
              "\n",
              "    .dataframe tbody tr th {\n",
              "        vertical-align: top;\n",
              "    }\n",
              "\n",
              "    .dataframe thead th {\n",
              "        text-align: right;\n",
              "    }\n",
              "</style>\n",
              "<table border=\"1\" class=\"dataframe\">\n",
              "  <thead>\n",
              "    <tr style=\"text-align: right;\">\n",
              "      <th></th>\n",
              "      <th>text_x</th>\n",
              "      <th>text_y</th>\n",
              "    </tr>\n",
              "  </thead>\n",
              "  <tbody>\n",
              "    <tr>\n",
              "      <th>0</th>\n",
              "      <td>is the worst customer service</td>\n",
              "      <td>can you please send us a private message so t...</td>\n",
              "    </tr>\n",
              "    <tr>\n",
              "      <th>1</th>\n",
              "      <td>is the worst customer service</td>\n",
              "      <td>i would love the chance to review the account...</td>\n",
              "    </tr>\n",
              "    <tr>\n",
              "      <th>2</th>\n",
              "      <td>is the worst customer service</td>\n",
              "      <td>hello we never like our customers to feel lik...</td>\n",
              "    </tr>\n",
              "    <tr>\n",
              "      <th>3</th>\n",
              "      <td>y’all lie about your “great” connection 5 bar...</td>\n",
              "      <td>h there wed definitely like to work with you ...</td>\n",
              "    </tr>\n",
              "    <tr>\n",
              "      <th>4</th>\n",
              "      <td>whenever i contact customer support they tell...</td>\n",
              "      <td>please send me a private message so that i ca...</td>\n",
              "    </tr>\n",
              "    <tr>\n",
              "      <th>5</th>\n",
              "      <td>actually thats a broken link you sent me and i...</td>\n",
              "      <td>the information pertaining to the account ass...</td>\n",
              "    </tr>\n",
              "    <tr>\n",
              "      <th>6</th>\n",
              "      <td>yo spectrum your customer service reps are sup...</td>\n",
              "      <td>hello my apologies for any frustrations or in...</td>\n",
              "    </tr>\n",
              "    <tr>\n",
              "      <th>7</th>\n",
              "      <td>my picture on spectrum pretty much every day w...</td>\n",
              "      <td>i apologize for the inconvenience i will be g...</td>\n",
              "    </tr>\n",
              "    <tr>\n",
              "      <th>8</th>\n",
              "      <td>somebody from  please help meeeeee 😩😩😩😩 im hav...</td>\n",
              "      <td>help has arrived we are sorry to see that you...</td>\n",
              "    </tr>\n",
              "    <tr>\n",
              "      <th>9</th>\n",
              "      <td>my friend is without internet we need to play...</td>\n",
              "      <td>have your friend message us\\nacm</td>\n",
              "    </tr>\n",
              "    <tr>\n",
              "      <th>11</th>\n",
              "      <td>is the worst isp i’ve ever had</td>\n",
              "      <td>what did we do to make you feel this way and ...</td>\n",
              "    </tr>\n",
              "    <tr>\n",
              "      <th>12</th>\n",
              "      <td>...</td>\n",
              "      <td>in what area are you located all of your serv...</td>\n",
              "    </tr>\n",
              "    <tr>\n",
              "      <th>13</th>\n",
              "      <td>fix your app it wont even open</td>\n",
              "      <td>which app are you referring too \\nacm</td>\n",
              "    </tr>\n",
              "    <tr>\n",
              "      <th>14</th>\n",
              "      <td>\\ni dont fit in my veggie burrito costume ha...</td>\n",
              "      <td>i still think you look great becky</td>\n",
              "    </tr>\n",
              "    <tr>\n",
              "      <th>16</th>\n",
              "      <td>messed up today and didn’t give me my 3 burri...</td>\n",
              "      <td>im so sorry about that please tell us more so...</td>\n",
              "    </tr>\n",
              "    <tr>\n",
              "      <th>17</th>\n",
              "      <td>hey  wanna come to mammoth ill at least eat th...</td>\n",
              "      <td>hopefully well get there at some point becky</td>\n",
              "    </tr>\n",
              "    <tr>\n",
              "      <th>18</th>\n",
              "      <td>when youre the only one in costume boorito</td>\n",
              "      <td>its because youre smart tara</td>\n",
              "    </tr>\n",
              "    <tr>\n",
              "      <th>19</th>\n",
              "      <td>no diet coke and a literal bone this boorito ...</td>\n",
              "      <td>thats incredibly concerning please tell us mo...</td>\n",
              "    </tr>\n",
              "    <tr>\n",
              "      <th>20</th>\n",
              "      <td>happy halloween since im too old to trick or t...</td>\n",
              "      <td>i mean boorito is basically the adult version...</td>\n",
              "    </tr>\n",
              "    <tr>\n",
              "      <th>22</th>\n",
              "      <td>so frustrated with  😡 ordered dinner on saturd...</td>\n",
              "      <td>thats concerning please share this with https...</td>\n",
              "    </tr>\n",
              "  </tbody>\n",
              "</table>\n",
              "</div>"
            ],
            "text/plain": [
              "                                               text_x                                             text_y\n",
              "0                       is the worst customer service   can you please send us a private message so t...\n",
              "1                       is the worst customer service   i would love the chance to review the account...\n",
              "2                       is the worst customer service   hello we never like our customers to feel lik...\n",
              "3    y’all lie about your “great” connection 5 bar...   h there wed definitely like to work with you ...\n",
              "4    whenever i contact customer support they tell...   please send me a private message so that i ca...\n",
              "5   actually thats a broken link you sent me and i...   the information pertaining to the account ass...\n",
              "6   yo spectrum your customer service reps are sup...   hello my apologies for any frustrations or in...\n",
              "7   my picture on spectrum pretty much every day w...   i apologize for the inconvenience i will be g...\n",
              "8   somebody from  please help meeeeee 😩😩😩😩 im hav...   help has arrived we are sorry to see that you...\n",
              "9    my friend is without internet we need to play...                   have your friend message us\\nacm\n",
              "11                     is the worst isp i’ve ever had   what did we do to make you feel this way and ...\n",
              "12                                                ...   in what area are you located all of your serv...\n",
              "13                     fix your app it wont even open              which app are you referring too \\nacm\n",
              "14    \\ni dont fit in my veggie burrito costume ha...                 i still think you look great becky\n",
              "16   messed up today and didn’t give me my 3 burri...   im so sorry about that please tell us more so...\n",
              "17  hey  wanna come to mammoth ill at least eat th...       hopefully well get there at some point becky\n",
              "18        when youre the only one in costume boorito                        its because youre smart tara\n",
              "19   no diet coke and a literal bone this boorito ...   thats incredibly concerning please tell us mo...\n",
              "20  happy halloween since im too old to trick or t...   i mean boorito is basically the adult version...\n",
              "22  so frustrated with  😡 ordered dinner on saturd...   thats concerning please share this with https..."
            ]
          },
          "metadata": {
            "tags": []
          },
          "execution_count": 26
        }
      ]
    },
    {
      "cell_type": "code",
      "metadata": {
        "id": "js_GAwqllO3K",
        "colab_type": "code",
        "colab": {}
      },
      "source": [
        "def remove_emoji(string):\n",
        "    emoji_pattern = re.compile(\"[\"\n",
        "                           u\"\\U0001F600-\\U0001F64F\"  # emoticons\n",
        "                           u\"\\U0001F300-\\U0001F5FF\"  # symbols & pictographs\n",
        "                           u\"\\U0001F680-\\U0001F6FF\"  # transport & map symbols\n",
        "                           u\"\\U0001F1E0-\\U0001F1FF\"  # flags (iOS)\n",
        "                           u\"\\U00002702-\\U000027B0\"\n",
        "                           u\"\\U000024C2-\\U0001F251\"\n",
        "                           \"]+\", flags=re.UNICODE)\n",
        "    return emoji_pattern.sub(r'', string)"
      ],
      "execution_count": 27,
      "outputs": []
    },
    {
      "cell_type": "code",
      "metadata": {
        "id": "ropBJftrlRlX",
        "colab_type": "code",
        "colab": {}
      },
      "source": [
        "EMOTICONS = {\n",
        "    u\":‑\\)\":\"Happy face or smiley\",\n",
        "    u\":\\)\":\"Happy face or smiley\",\n",
        "    u\":-\\]\":\"Happy face or smiley\",\n",
        "    u\":\\]\":\"Happy face or smiley\",\n",
        "    u\":-3\":\"Happy face smiley\",\n",
        "    u\":3\":\"Happy face smiley\",\n",
        "    u\":->\":\"Happy face smiley\",\n",
        "    u\":>\":\"Happy face smiley\",\n",
        "    u\"8-\\)\":\"Happy face smiley\",\n",
        "    u\":o\\)\":\"Happy face smiley\",\n",
        "    u\":-\\}\":\"Happy face smiley\",\n",
        "    u\":\\}\":\"Happy face smiley\",\n",
        "    u\":-\\)\":\"Happy face smiley\",\n",
        "    u\":c\\)\":\"Happy face smiley\",\n",
        "    u\":\\^\\)\":\"Happy face smiley\",\n",
        "    u\"=\\]\":\"Happy face smiley\",\n",
        "    u\"=\\)\":\"Happy face smiley\",\n",
        "    u\":‑D\":\"Laughing, big grin or laugh with glasses\",\n",
        "    u\":D\":\"Laughing, big grin or laugh with glasses\",\n",
        "    u\"8‑D\":\"Laughing, big grin or laugh with glasses\",\n",
        "    u\"8D\":\"Laughing, big grin or laugh with glasses\",\n",
        "    u\"X‑D\":\"Laughing, big grin or laugh with glasses\",\n",
        "    u\"XD\":\"Laughing, big grin or laugh with glasses\",\n",
        "    u\"=D\":\"Laughing, big grin or laugh with glasses\",\n",
        "    u\"=3\":\"Laughing, big grin or laugh with glasses\",\n",
        "    u\"B\\^D\":\"Laughing, big grin or laugh with glasses\",\n",
        "    u\":-\\)\\)\":\"Very happy\",\n",
        "    u\":‑\\(\":\"Frown, sad, andry or pouting\",\n",
        "    u\":-\\(\":\"Frown, sad, andry or pouting\",\n",
        "    u\":\\(\":\"Frown, sad, andry or pouting\",\n",
        "    u\":‑c\":\"Frown, sad, andry or pouting\",\n",
        "    u\":c\":\"Frown, sad, andry or pouting\",\n",
        "    u\":‑<\":\"Frown, sad, andry or pouting\",\n",
        "    u\":<\":\"Frown, sad, andry or pouting\",\n",
        "    u\":‑\\[\":\"Frown, sad, andry or pouting\",\n",
        "    u\":\\[\":\"Frown, sad, andry or pouting\",\n",
        "    u\":-\\|\\|\":\"Frown, sad, andry or pouting\",\n",
        "    u\">:\\[\":\"Frown, sad, andry or pouting\",\n",
        "    u\":\\{\":\"Frown, sad, andry or pouting\",\n",
        "    u\":@\":\"Frown, sad, andry or pouting\",\n",
        "    u\">:\\(\":\"Frown, sad, andry or pouting\",\n",
        "    u\":'‑\\(\":\"Crying\",\n",
        "    u\":'\\(\":\"Crying\",\n",
        "    u\":'‑\\)\":\"Tears of happiness\",\n",
        "    u\":'\\)\":\"Tears of happiness\",\n",
        "    u\"D‑':\":\"Horror\",\n",
        "    u\"D:<\":\"Disgust\",\n",
        "    u\"D:\":\"Sadness\",\n",
        "    u\"D8\":\"Great dismay\",\n",
        "    u\"D;\":\"Great dismay\",\n",
        "    u\"D=\":\"Great dismay\",\n",
        "    u\"DX\":\"Great dismay\",\n",
        "    u\":‑O\":\"Surprise\",\n",
        "    u\":O\":\"Surprise\",\n",
        "    u\":‑o\":\"Surprise\",\n",
        "    u\":o\":\"Surprise\",\n",
        "    u\":-0\":\"Shock\",\n",
        "    u\"8‑0\":\"Yawn\",\n",
        "    u\">:O\":\"Yawn\",\n",
        "    u\":-\\*\":\"Kiss\",\n",
        "    u\":\\*\":\"Kiss\",\n",
        "    u\":X\":\"Kiss\",\n",
        "    u\";‑\\)\":\"Wink or smirk\",\n",
        "    u\";\\)\":\"Wink or smirk\",\n",
        "    u\"\\*-\\)\":\"Wink or smirk\",\n",
        "    u\"\\*\\)\":\"Wink or smirk\",\n",
        "    u\";‑\\]\":\"Wink or smirk\",\n",
        "    u\";\\]\":\"Wink or smirk\",\n",
        "    u\";\\^\\)\":\"Wink or smirk\",\n",
        "    u\":‑,\":\"Wink or smirk\",\n",
        "    u\";D\":\"Wink or smirk\",\n",
        "    u\":‑P\":\"Tongue sticking out, cheeky, playful or blowing a raspberry\",\n",
        "    u\":P\":\"Tongue sticking out, cheeky, playful or blowing a raspberry\",\n",
        "    u\"X‑P\":\"Tongue sticking out, cheeky, playful or blowing a raspberry\",\n",
        "    u\"XP\":\"Tongue sticking out, cheeky, playful or blowing a raspberry\",\n",
        "    u\":‑Þ\":\"Tongue sticking out, cheeky, playful or blowing a raspberry\",\n",
        "    u\":Þ\":\"Tongue sticking out, cheeky, playful or blowing a raspberry\",\n",
        "    u\":b\":\"Tongue sticking out, cheeky, playful or blowing a raspberry\",\n",
        "    u\"d:\":\"Tongue sticking out, cheeky, playful or blowing a raspberry\",\n",
        "    u\"=p\":\"Tongue sticking out, cheeky, playful or blowing a raspberry\",\n",
        "    u\">:P\":\"Tongue sticking out, cheeky, playful or blowing a raspberry\",\n",
        "    u\":‑/\":\"Skeptical, annoyed, undecided, uneasy or hesitant\",\n",
        "    u\":/\":\"Skeptical, annoyed, undecided, uneasy or hesitant\",\n",
        "    u\":-[.]\":\"Skeptical, annoyed, undecided, uneasy or hesitant\",\n",
        "    u\">:[(\\\\\\)]\":\"Skeptical, annoyed, undecided, uneasy or hesitant\",\n",
        "    u\">:/\":\"Skeptical, annoyed, undecided, uneasy or hesitant\",\n",
        "    u\":[(\\\\\\)]\":\"Skeptical, annoyed, undecided, uneasy or hesitant\",\n",
        "    u\"=/\":\"Skeptical, annoyed, undecided, uneasy or hesitant\",\n",
        "    u\"=[(\\\\\\)]\":\"Skeptical, annoyed, undecided, uneasy or hesitant\",\n",
        "    u\":L\":\"Skeptical, annoyed, undecided, uneasy or hesitant\",\n",
        "    u\"=L\":\"Skeptical, annoyed, undecided, uneasy or hesitant\",\n",
        "    u\":S\":\"Skeptical, annoyed, undecided, uneasy or hesitant\",\n",
        "    u\":‑\\|\":\"Straight face\",\n",
        "    u\":\\|\":\"Straight face\",\n",
        "    u\":$\":\"Embarrassed or blushing\",\n",
        "    u\":‑x\":\"Sealed lips or wearing braces or tongue-tied\",\n",
        "    u\":x\":\"Sealed lips or wearing braces or tongue-tied\",\n",
        "    u\":‑#\":\"Sealed lips or wearing braces or tongue-tied\",\n",
        "    u\":#\":\"Sealed lips or wearing braces or tongue-tied\",\n",
        "    u\":‑&\":\"Sealed lips or wearing braces or tongue-tied\",\n",
        "    u\":&\":\"Sealed lips or wearing braces or tongue-tied\",\n",
        "    u\"O:‑\\)\":\"Angel, saint or innocent\",\n",
        "    u\"O:\\)\":\"Angel, saint or innocent\",\n",
        "    u\"0:‑3\":\"Angel, saint or innocent\",\n",
        "    u\"0:3\":\"Angel, saint or innocent\",\n",
        "    u\"0:‑\\)\":\"Angel, saint or innocent\",\n",
        "    u\"0:\\)\":\"Angel, saint or innocent\",\n",
        "    u\":‑b\":\"Tongue sticking out, cheeky, playful or blowing a raspberry\",\n",
        "    u\"0;\\^\\)\":\"Angel, saint or innocent\",\n",
        "    u\">:‑\\)\":\"Evil or devilish\",\n",
        "    u\">:\\)\":\"Evil or devilish\",\n",
        "    u\"\\}:‑\\)\":\"Evil or devilish\",\n",
        "    u\"\\}:\\)\":\"Evil or devilish\",\n",
        "    u\"3:‑\\)\":\"Evil or devilish\",\n",
        "    u\"3:\\)\":\"Evil or devilish\",\n",
        "    u\">;\\)\":\"Evil or devilish\",\n",
        "    u\"\\|;‑\\)\":\"Cool\",\n",
        "    u\"\\|‑O\":\"Bored\",\n",
        "    u\":‑J\":\"Tongue-in-cheek\",\n",
        "    u\"#‑\\)\":\"Party all night\",\n",
        "    u\"%‑\\)\":\"Drunk or confused\",\n",
        "    u\"%\\)\":\"Drunk or confused\",\n",
        "    u\":-###..\":\"Being sick\",\n",
        "    u\":###..\":\"Being sick\",\n",
        "    u\"<:‑\\|\":\"Dump\",\n",
        "    u\"\\(>_<\\)\":\"Troubled\",\n",
        "    u\"\\(>_<\\)>\":\"Troubled\",\n",
        "    u\"\\(';'\\)\":\"Baby\",\n",
        "    u\"\\(\\^\\^>``\":\"Nervous or Embarrassed or Troubled or Shy or Sweat drop\",\n",
        "    u\"\\(\\^_\\^;\\)\":\"Nervous or Embarrassed or Troubled or Shy or Sweat drop\",\n",
        "    u\"\\(-_-;\\)\":\"Nervous or Embarrassed or Troubled or Shy or Sweat drop\",\n",
        "    u\"\\(~_~;\\) \\(・\\.・;\\)\":\"Nervous or Embarrassed or Troubled or Shy or Sweat drop\",\n",
        "    u\"\\(-_-\\)zzz\":\"Sleeping\",\n",
        "    u\"\\(\\^_-\\)\":\"Wink\",\n",
        "    u\"\\(\\(\\+_\\+\\)\\)\":\"Confused\",\n",
        "    u\"\\(\\+o\\+\\)\":\"Confused\",\n",
        "    u\"\\(o\\|o\\)\":\"Ultraman\",\n",
        "    u\"\\^_\\^\":\"Joyful\",\n",
        "    u\"\\(\\^_\\^\\)/\":\"Joyful\",\n",
        "    u\"\\(\\^O\\^\\)／\":\"Joyful\",\n",
        "    u\"\\(\\^o\\^\\)／\":\"Joyful\",\n",
        "    u\"\\(__\\)\":\"Kowtow as a sign of respect, or dogeza for apology\",\n",
        "    u\"_\\(\\._\\.\\)_\":\"Kowtow as a sign of respect, or dogeza for apology\",\n",
        "    u\"<\\(_ _\\)>\":\"Kowtow as a sign of respect, or dogeza for apology\",\n",
        "    u\"<m\\(__\\)m>\":\"Kowtow as a sign of respect, or dogeza for apology\",\n",
        "    u\"m\\(__\\)m\":\"Kowtow as a sign of respect, or dogeza for apology\",\n",
        "    u\"m\\(_ _\\)m\":\"Kowtow as a sign of respect, or dogeza for apology\",\n",
        "    u\"\\('_'\\)\":\"Sad or Crying\",\n",
        "    u\"\\(/_;\\)\":\"Sad or Crying\",\n",
        "    u\"\\(T_T\\) \\(;_;\\)\":\"Sad or Crying\",\n",
        "    u\"\\(;_;\":\"Sad of Crying\",\n",
        "    u\"\\(;_:\\)\":\"Sad or Crying\",\n",
        "    u\"\\(;O;\\)\":\"Sad or Crying\",\n",
        "    u\"\\(:_;\\)\":\"Sad or Crying\",\n",
        "    u\"\\(ToT\\)\":\"Sad or Crying\",\n",
        "    u\";_;\":\"Sad or Crying\",\n",
        "    u\";-;\":\"Sad or Crying\",\n",
        "    u\";n;\":\"Sad or Crying\",\n",
        "    u\";;\":\"Sad or Crying\",\n",
        "    u\"Q\\.Q\":\"Sad or Crying\",\n",
        "    u\"T\\.T\":\"Sad or Crying\",\n",
        "    u\"QQ\":\"Sad or Crying\",\n",
        "    u\"Q_Q\":\"Sad or Crying\",\n",
        "    u\"\\(-\\.-\\)\":\"Shame\",\n",
        "    u\"\\(-_-\\)\":\"Shame\",\n",
        "    u\"\\(一一\\)\":\"Shame\",\n",
        "    u\"\\(；一_一\\)\":\"Shame\",\n",
        "    u\"\\(=_=\\)\":\"Tired\",\n",
        "    u\"\\(=\\^\\·\\^=\\)\":\"cat\",\n",
        "    u\"\\(=\\^\\·\\·\\^=\\)\":\"cat\",\n",
        "    u\"=_\\^=\t\":\"cat\",\n",
        "    u\"\\(\\.\\.\\)\":\"Looking down\",\n",
        "    u\"\\(\\._\\.\\)\":\"Looking down\",\n",
        "    u\"\\^m\\^\":\"Giggling with hand covering mouth\",\n",
        "    u\"\\(\\・\\・?\":\"Confusion\",\n",
        "    u\"\\(?_?\\)\":\"Confusion\",\n",
        "    u\">\\^_\\^<\":\"Normal Laugh\",\n",
        "    u\"<\\^!\\^>\":\"Normal Laugh\",\n",
        "    u\"\\^/\\^\":\"Normal Laugh\",\n",
        "    u\"\\（\\*\\^_\\^\\*）\" :\"Normal Laugh\",\n",
        "    u\"\\(\\^<\\^\\) \\(\\^\\.\\^\\)\":\"Normal Laugh\",\n",
        "    u\"\\(^\\^\\)\":\"Normal Laugh\",\n",
        "    u\"\\(\\^\\.\\^\\)\":\"Normal Laugh\",\n",
        "    u\"\\(\\^_\\^\\.\\)\":\"Normal Laugh\",\n",
        "    u\"\\(\\^_\\^\\)\":\"Normal Laugh\",\n",
        "    u\"\\(\\^\\^\\)\":\"Normal Laugh\",\n",
        "    u\"\\(\\^J\\^\\)\":\"Normal Laugh\",\n",
        "    u\"\\(\\*\\^\\.\\^\\*\\)\":\"Normal Laugh\",\n",
        "    u\"\\(\\^—\\^\\）\":\"Normal Laugh\",\n",
        "    u\"\\(#\\^\\.\\^#\\)\":\"Normal Laugh\",\n",
        "    u\"\\（\\^—\\^\\）\":\"Waving\",\n",
        "    u\"\\(;_;\\)/~~~\":\"Waving\",\n",
        "    u\"\\(\\^\\.\\^\\)/~~~\":\"Waving\",\n",
        "    u\"\\(-_-\\)/~~~ \\($\\·\\·\\)/~~~\":\"Waving\",\n",
        "    u\"\\(T_T\\)/~~~\":\"Waving\",\n",
        "    u\"\\(ToT\\)/~~~\":\"Waving\",\n",
        "    u\"\\(\\*\\^0\\^\\*\\)\":\"Excited\",\n",
        "    u\"\\(\\*_\\*\\)\":\"Amazed\",\n",
        "    u\"\\(\\*_\\*;\":\"Amazed\",\n",
        "    u\"\\(\\+_\\+\\) \\(@_@\\)\":\"Amazed\",\n",
        "    u\"\\(\\*\\^\\^\\)v\":\"Laughing,Cheerful\",\n",
        "    u\"\\(\\^_\\^\\)v\":\"Laughing,Cheerful\",\n",
        "    u\"\\(\\(d[-_-]b\\)\\)\":\"Headphones,Listening to music\",\n",
        "    u'\\(-\"-\\)':\"Worried\",\n",
        "    u\"\\(ーー;\\)\":\"Worried\",\n",
        "    u\"\\(\\^0_0\\^\\)\":\"Eyeglasses\",\n",
        "    u\"\\(\\＾ｖ\\＾\\)\":\"Happy\",\n",
        "    u\"\\(\\＾ｕ\\＾\\)\":\"Happy\",\n",
        "    u\"\\(\\^\\)o\\(\\^\\)\":\"Happy\",\n",
        "    u\"\\(\\^O\\^\\)\":\"Happy\",\n",
        "    u\"\\(\\^o\\^\\)\":\"Happy\",\n",
        "    u\"\\)\\^o\\^\\(\":\"Happy\",\n",
        "    u\":O o_O\":\"Surprised\",\n",
        "    u\"o_0\":\"Surprised\",\n",
        "    u\"o\\.O\":\"Surpised\",\n",
        "    u\"\\(o\\.o\\)\":\"Surprised\",\n",
        "    u\"oO\":\"Surprised\",\n",
        "    u\"\\(\\*￣m￣\\)\":\"Dissatisfied\",\n",
        "    u\"\\(‘A`\\)\":\"Snubbed or Deflated\"\n",
        "}"
      ],
      "execution_count": 28,
      "outputs": []
    },
    {
      "cell_type": "code",
      "metadata": {
        "id": "zfaumKqylVsr",
        "colab_type": "code",
        "colab": {}
      },
      "source": [
        "import re"
      ],
      "execution_count": 29,
      "outputs": []
    },
    {
      "cell_type": "code",
      "metadata": {
        "id": "QfwP2dEYlYNv",
        "colab_type": "code",
        "colab": {}
      },
      "source": [
        "def convert_emoticons(text):\n",
        "    for emot in EMOTICONS:\n",
        "        text = re.sub(u'('+emot+')', \"_\".join(EMOTICONS[emot].replace(\",\",\"\").split()), text)\n",
        "    return text"
      ],
      "execution_count": 30,
      "outputs": []
    },
    {
      "cell_type": "code",
      "metadata": {
        "id": "7sAvTol4lb4T",
        "colab_type": "code",
        "colab": {}
      },
      "source": [
        "query_and_response[\"text_x\"] = query_and_response[\"text_x\"].apply(lambda text: convert_emoticons(text))\n",
        "query_and_response[\"text_y\"] = query_and_response[\"text_y\"].apply(lambda text: convert_emoticons(text))\n"
      ],
      "execution_count": 31,
      "outputs": []
    },
    {
      "cell_type": "code",
      "metadata": {
        "id": "C8vvltGeleRw",
        "colab_type": "code",
        "colab": {}
      },
      "source": [
        "#remove urls\n",
        "def remove_urls(text):\n",
        "    url_pattern = re.compile(r'https?://\\S+|www\\.\\S+')\n",
        "    return url_pattern.sub(r'', text)"
      ],
      "execution_count": 32,
      "outputs": []
    },
    {
      "cell_type": "code",
      "metadata": {
        "id": "cfFKxz-ylwCr",
        "colab_type": "code",
        "colab": {}
      },
      "source": [
        "query_and_response[\"text_x\"] = query_and_response[\"text_x\"].apply(lambda text: remove_urls(text))\n",
        "query_and_response[\"text_y\"] = query_and_response[\"text_y\"].apply(lambda text: remove_urls(text))"
      ],
      "execution_count": 33,
      "outputs": []
    },
    {
      "cell_type": "code",
      "metadata": {
        "id": "E0ZkyOGRgWq-",
        "colab_type": "code",
        "colab": {}
      },
      "source": [
        "MAX_VOCAB_SIZE = 2**13\n",
        "\n",
        "MAX_MESSAGE_LEN = 30\n",
        "\n",
        "EMBEDDING_SIZE = 100\n",
        "\n",
        "# CONTEXT_SIZE = 100\n",
        "\n",
        "BATCH_SIZE = 4\n",
        "\n",
        "DROPOUT = 0.2\n",
        "\n",
        "LEARNING_RATE = 0.005\n",
        "\n",
        "UNK = 0\n",
        "PAD = 1\n",
        "\n",
        "START = 2\n",
        "\n",
        "SUB_BATCH_SIZE = 1000"
      ],
      "execution_count": 35,
      "outputs": []
    },
    {
      "cell_type": "code",
      "metadata": {
        "id": "i48iivAeUlW5",
        "colab_type": "code",
        "colab": {
          "base_uri": "https://localhost:8080/",
          "height": 188,
          "referenced_widgets": [
            "5a25a052946b4903a348dce0b21c772a",
            "9c468c82b047461180c48e8c077d3d3b",
            "13c9bbb4fe7d422a8aadd024ac53b3ef",
            "cee4875ee0774dedb098a51af96d767a",
            "b20ffc5283da430bb7279c0dab2ca0b1",
            "1ffc788fe61b4b3caf90f5bb83182cc8",
            "c5972c0349fc45f1b694c80b7212e8b5",
            "7d41c14b68704c53bac3d8b950b9f227"
          ]
        },
        "outputId": "c113785d-c689-43ab-d728-a4de63aec6ff"
      },
      "source": [
        "# Count Vectorizer assign a unique number to every word in corpus\n",
        "\n",
        "\n",
        "count_vec = CountVectorizer(tokenizer=casual_tokenize,max_features=MAX_VOCAB_SIZE-3)\n",
        "print(\"Fitting Count Vectorizer on X and Y text data\")\n",
        "\n",
        "count_vec.fit(tqdm(query_and_response['text_x']+query_and_response['text_y']))\n",
        "analyzer = count_vec.build_analyzer()"
      ],
      "execution_count": 36,
      "outputs": [
        {
          "output_type": "stream",
          "text": [
            "Fitting Count Vectorizer on X and Y text data\n"
          ],
          "name": "stdout"
        },
        {
          "output_type": "stream",
          "text": [
            "/usr/local/lib/python3.6/dist-packages/ipykernel_launcher.py:4: TqdmDeprecationWarning: This function will be removed in tqdm==5.0.0\n",
            "Please use `tqdm.notebook.tqdm` instead of `tqdm.tqdm_notebook`\n",
            "  after removing the cwd from sys.path.\n"
          ],
          "name": "stderr"
        },
        {
          "output_type": "display_data",
          "data": {
            "application/vnd.jupyter.widget-view+json": {
              "model_id": "5a25a052946b4903a348dce0b21c772a",
              "version_minor": 0,
              "version_major": 2
            },
            "text/plain": [
              "HBox(children=(FloatProgress(value=0.0, max=754225.0), HTML(value='')))"
            ]
          },
          "metadata": {
            "tags": []
          }
        },
        {
          "output_type": "stream",
          "text": [
            "/usr/local/lib/python3.6/dist-packages/sklearn/feature_extraction/text.py:507: UserWarning: The parameter 'token_pattern' will not be used since 'tokenizer' is not None'\n",
            "  warnings.warn(\"The parameter 'token_pattern' will not be used\"\n"
          ],
          "name": "stderr"
        },
        {
          "output_type": "stream",
          "text": [
            "\n"
          ],
          "name": "stdout"
        }
      ]
    },
    {
      "cell_type": "code",
      "metadata": {
        "id": "ShEkkErwV9Mv",
        "colab_type": "code",
        "colab": {
          "base_uri": "https://localhost:8080/",
          "height": 54
        },
        "outputId": "0b8ed653-aa30-4b99-f549-42764fb9c16d"
      },
      "source": [
        "count_vec.vocabulary_.items()"
      ],
      "execution_count": null,
      "outputs": [
        {
          "output_type": "execute_result",
          "data": {
            "text/plain": [
              "dict_items([('is', 3958), ('the', 7132), ('worst', 7899), ('customer', 2039), ('service', 6409), ('can', 1438), ('you', 7977), ('please', 5456), ('send', 6387), ('us', 7561), ('a', 464), ('private', 5603), ('message', 4701), ('so', 6632), ('that', 7129), ('i', 3737), ('gain', 3090), ('further', 3082), ('details', 2235), ('about', 484), ('your', 7983), ('account', 515), ('would', 7902), ('love', 4491), ('chance', 1566), ('to', 7249), ('review', 6105), ('and', 761), ('provide', 5666), ('assistance', 912), ('hello', 3389), ('we', 7742), ('never', 4930), ('like', 4374), ('our', 5168), ('customers', 2041), ('feel', 2850), ('they', 7144), ('are', 862), ('not', 5000), ('valued', 7596), ('y', 7946), ('’', 8020), ('all', 691), ('lie', 4363), ('“', 8021), ('great', 3228), ('”', 8022), ('connection', 1852), ('5', 295), ('bars', 1071), ('lte', 4507), ('still', 6821), ('won', 7870), ('t', 7000), ('load', 4430), ('something', 6655), ('smh', 6612), ('h', 3277), ('there', 7140), ('wed', 7753), ('definitely', 2156), ('work', 7883), ('with', 7850), ('on', 5095), ('this', 7159), ('how', 3513), ('long', 4462), ('have', 3341), ('been', 1116), ('experiencing', 2744), ('issue', 3965), ('aa', 466), ('whenever', 7794), ('contact', 1874), ('support', 6947), ('tell', 7076), ('me', 4654), ('enabled', 2590), ('my', 4868), ('but', 1385), ('in', 3805), ('4', 249), ('years', 7961), ('ive', 3982), ('tried', 7359), ('httpstco', 3534), ('link', 4393), ('access', 501), ('fr', 3013), ('actually', 542), ('thats', 7131), ('broken', 1325), ('sent', 6394), ('incorrect', 3832), ('information', 3857), ('httpstcov', 3683), ('correct', 1921), ('does', 2389), ('need', 4909), ('be', 1097), ('done', 2407), ('at', 925), ('local', 4437), ('outlet', 5177), ('wit', 7849), ('httpstcop', 3645), ('yo', 7973), ('spectrum', 6719), ('reps', 6012), ('super', 6936), ('nice', 4948), ('—', 8018), ('imma', 3784), ('start', 6780), ('if', 3760), ('don', 2402), ('get', 3136), ('going', 3192), ('apologies', 815), ('for', 2979), ('any', 800), ('frustrations', 3052), ('or', 5144), ('inconvenience', 3827), ('d', 2057), ('happy', 3318), ('look', 4465), ('into', 3926), ('mg', 4717), ('picture', 5395), ('pretty', 5580), ('much', 4855), ('every', 2682), ('day', 2103), ('why', 7813), ('should', 6488), ('pay', 5302), ('per', 5332), ('month', 4808), ('httpstcou', 3677), ('apologize', 817), ('will', 7824), ('glad', 3164), ('assist', 911), ('dm', 2367), ('name', 4876), ('acct', 517), ('phone', 5374), ('jb', 4011), ('somebody', 6651), ('from', 3044), ('help', 3390), ('😩', 8145), ('im', 3775), ('having', 3344), ('luck', 4509), ('has', 3330), ('arrived', 878), ('sorry', 6674), ('see', 6366), ('trouble', 7369), ('hsb', 3532), ('friend', 3038), ('without', 7855), ('internet', 3920), ('play', 5444), ('together', 7256), ('skills', 6571), ('moment', 4796), ('acm', 526), ('isp', 3964), ('ve', 7610), ('ever', 2681), ('had', 3282), ('what', 7784), ('did', 2262), ('do', 2377), ('make', 4562), ('way', 7738), ('fix', 2919), ('things', 7153), ('between', 1145), ('kmg', 4206), ('of', 5064), ('verizon', 7624), ('when', 7793), ('expect', 2731), ('area', 863), ('located', 4440), ('services', 6411), ('down', 2425), ('time', 7206), ('app', 819), ('it', 3970), ('wont', 7876), ('even', 2676), ('open', 5121), ('which', 7800), ('referring', 5896), ('too', 7276), ('dont', 2409), ('fit', 2916), ('veggie', 7615), ('burrito', 1376), ('costume', 1933), ('halloween', 3292), ('think', 7154), ('becky', 1110), ('messed', 4705), ('up', 7532), ('today', 7251), ('didn', 2264), ('give', 3157), ('3', 201), ('although', 719), ('was', 7719), ('😭', 8149), ('more', 4813), ('httpstcoax', 3539), ('7w1dx3y9', 408), ('hey', 3407), ('wanna', 7705), ('come', 1764), ('ill', 3771), ('least', 4314), ('eat', 2521), ('once', 5097), ('week', 7758), ('promise', 5638), ('hopefully', 3486), ('well', 7767), ('some', 6650), ('point', 5474), ('youre', 7984), ('only', 5110), ('one', 5099), ('boorito', 1246), ('its', 3978), ('because', 1108), ('smart', 6607), ('tara', 7028), ('no', 4974), ('diet', 2271), ('coke', 1740), ('bone', 1235), ('extra', 2766), ('spooky', 6741), ('httpstcoc', 3547), ('incredibly', 3839), ('concerning', 1825), ('here', 3400), ('since', 6541), ('old', 5088), ('trick', 7357), ('treat', 7346), ('now', 5021), ('forward', 3004), ('👻', 8085), ('got', 3209), ('mine', 4751), ('earlier', 2504), ('mean', 4658), ('basically', 1076), ('adult', 574), ('version', 7625), ('frustrated', 3049), ('😡', 8137), ('ordered', 5150), ('dinner', 2291), ('saturday', 6279), ('using', 7576), ('their', 7134), ('order', 5148), ('wrong', 7918), ('charged', 1581), ('credit', 1993), ('card', 1467), ('twice', 7418), ('share', 6438), ('httpstconrhudiek', 3634), ('7g', 397), ('shawn', 6445), ('btw', 1343), ('giving', 3160), ('out', 5171), ('burritos', 1377), ('dress', 2449), ('🎃', 8061), ('call', 1420), ('chipotle', 1634), ('sure', 6955), ('re', 5795), ('doing', 2394), ('select', 6375), ('ones', 5103), ('locations', 4443), ('participating', 5263), ('as', 886), ('myself', 4870), ('qualify', 5715), ('try', 7385), ('year', 7959), ('routine', 6196), ('walking', 7701), ('spending', 6729), ('dollars', 2396), ('back', 1014), ('home', 3466), ('best', 1140), ('kind', 4185), ('treats', 7350), ('nasty', 4885), ('used', 7568), ('someones', 6654), ('food', 2973), ('investigate', 3934), ('m', 4526), ('nowhere', 5022), ('near', 4903), ('🤦', 8179), ('🏾', 8071), ('\\u200d', 8016), ('♂', 8033), ('️', 8046), ('bummer', 1364), ('far', 2813), ('away', 994), ('closest', 1707), ('location', 4442), ('considering', 1862), ('alone', 706), ('–', 8017), ('also', 713), ('want', 7706), ('better', 1144), ('thanks', 7123), ('stopping', 6837), ('by', 1399), ('whats', 7786), ('november', 5020), ('ps', 5672), ('plus', 5464), ('free', 3025), ('game', 3092), ('info', 3855), ('keep', 4141), ('an', 759), ('eye', 2770), ('blog', 1205), ('news', 4940), ('updates', 7536), ('bought', 1263), ('lego', 4326), ('star', 6777), ('wars', 7718), ('playstation', 5453), ('store', 6840), ('let', 4339), ('download', 2429), ('data', 2091), ('corrupted', 1927), ('block', 1201), ('community', 1786), ('sending', 6389), ('invites', 3941), ('join', 4064), ('forum', 3002), ('investigation', 3937), ('httpstcof', 3566), ('count', 1940), ('colin', 1742), ('💛', 8096), ('xx', 7945), ('fun', 3069), ('sarah', 6272), ('heard', 3371), ('really', 5813), ('suck', 6904), ('life', 4366), ('party', 5271), ('p', 5211), ('‘', 8019), ('mind', 4750), ('avocado', 985), ('s', 6229), ('ave', 980), ('word', 7881), ('necessary', 4907), ('pair', 5234), ('em', 2569), ('were', 7774), ('httpstcoff', 3567), ('weve', 7781), ('team', 7063), ('know', 4212), ('joel', 4059), ('sharing', 6440), ('charge', 1579), ('meat', 4664), ('bag', 1030), ('branch', 1281), ('buy', 1391), ('r', 5743), ('required', 6019), ('supply', 6946), ('poor', 5487), ('bags', 1033), ('ours', 5169), ('applied', 837), ('excellent', 2703), ('👌', 8081), ('🏼', 8069), ('hi', 3411), ('making', 4566), ('purchases', 5696), ('xbox', 7935), ('fifa', 2872), ('points', 5479), ('josh', 4076), ('suggest', 6915), ('post', 5516), ('tweet', 7414), ('friends', 3040), ('improve', 3800), ('twitter', 7421), ('answering', 793), ('survey', 6962), ('thank', 7120), ('recovering', 5866), ('2', 134), ('accounts', 516), ('filled', 2882), ('recovery', 5867), ('forms', 2997), ('am', 724), ('told', 7262), ('providing', 5671), ('enough', 2614), ('recommend', 5854), ('answer', 791), ('desk', 2221), ('umm', 7453), ('someone', 6653), ('streaming', 6855), ('wwii', 7929), ('500', 297), ('viewers', 7645), ('appears', 828), ('removed', 5973), ('letting', 4343), ('mb', 4634), ('pre', 5549), ('ww2', 7927), ('yes', 7966), ('console', 1866), ('rk', 6150), ('update', 7534), ('cod', 1730), ('zombies', 8006), ('ios', 3945), ('11', 47), ('good', 3199), ('afternoon', 608), ('william', 7825), ('unfortunately', 7481), ('longer', 4463), ('supported', 6948), ('sincerest', 6544), ('jp', 4081), ('half', 3289), ('gig', 3148), ('world', 7891), ('war', 7710), ('sadly', 6236), ('stats', 6797), ('reset', 6036), ('gamertag', 3094), ('platform', 5441), ('playing', 5449), ('pull', 5687), ('cb', 1527), ('non', 4981), ('season', 6347), ('pass', 5273), ('holders', 3456), ('man', 4572), ('stay', 6799), ('tuned', 7402), ('jw', 4112), ('httpstcox', 3693), ('jason', 4007), ('anything', 804), ('aj', 654), ('httpstcoiuwzcjz', 3596), ('4or', 283), ('totally', 7289), ('stuck', 6876), ('1', 25), ('hour', 3508), ('prior', 5599), ('updating', 7537), ('froze', 3046), ('didnt', 2265), ('jeffrey', 4017), ('able', 481), ('lightroom', 4372), ('classic', 1682), ('cc', 1529), ('tanuj', 7024), ('change', 1568), ('sons', 6665), ('live', 4414), ('his', 3434), ('currently', 2033), ('linked', 4394), ('microsoft', 4727), ('email', 2570), ('through', 7179), ('steps', 6813), ('son', 6660), ('wants', 7709), ('already', 710), ('associated', 917), ('youll', 7979), ('follow', 2965), ('those', 7164), ('switch', 6985), ('address', 554), ('zm', 8003), ('u', 7438), ('release', 5948), ('launched', 4286), ('recently', 5840), ('latest', 4280), ('ts', 7388), ('expired', 2749), ('being', 1129), ('adobe', 569), ('id', 3747), ('may', 4631), ('quick', 5731), ('plans', 5437), ('add', 547), ('fast', 2818), ('mode', 4787), ('ipad', 3947), ('lr', 4503), ('takes', 7017), ('many', 4589), ('slows', 6602), ('feature', 2839), ('request', 6014), ('apparently', 823), ('new', 4932), ('cool', 1912), ('where', 7795), ('cant', 1456), ('export', 2760), ('sick', 6510), ('guys', 3271), ('ai', 628), ('2018', 144), ('online', 5109), ('always', 720), ('clear', 1687), ('cookies', 1910), ('lauren', 4289), ('changing', 1571), ('screen', 6325), ('madison', 4537), ('indesign', 3842), ('130', 75), ('links', 4396), ('missing', 4766), ('file', 2877), ('jake', 3993), ('screenshots', 6328), ('settings', 6418), ('happening', 3314), ('files', 2879), ('wren', 7914), ('hear', 3370), ('looping', 4472), ('expert', 2745), ('britt', 1317), ('host', 3499), ('asked', 897), ('them', 7136), ('cancel', 1441), ('reservation', 6032), ('refund', 5903), ('over', 5187), ('strict', 6864), ('policy', 5483), ('response', 6058), ('code', 1731), ('redeemed', 5878), ('havent', 3343), ('following', 2969), ('rr', 6203), ('working', 7888), ('error', 2647), ('200', 136), ('power', 5534), ('cycle', 2055), ('same', 6259), ('show', 6494), ('appearing', 827), ('rm', 6152), ('check', 1606), ('case', 1502), ('officer', 5073), ('weeks', 7762), ('provided', 5667), ('docs', 2382), ('replied', 6000), ('via', 7633), ('yana', 7951), ('refunding', 5906), ('trip', 7362), ('bali', 1043), ('urgently', 7558), ('could', 1936), ('booking', 1242), ('number', 5031), ('checking', 1609), ('khairul', 4166), ('fresh', 3033), ('cream', 1985), ('bakery', 1038), ('gets', 3137), ('vote', 7676), ('😘', 8131), ('😋', 8119), ('💗', 8093), ('just', 4106), ('catching', 1513), ('17', 92), ('who', 7806), ('yet', 7969), ('😄', 8113), ('carol', 1482), ('wait', 7689), ('go', 3183), ('amp', 751), ('find', 2892), ('chloe', 1637), ('fed', 2844), ('very', 7627), ('sight', 6516), ('staff', 6765), ('stock', 6824), ('place', 5425), ('properly', 5654), ('small', 6605), ('example', 2700), ('visited', 7661), ('kirsty', 4198), ('£', 8012), ('6', 338), ('unless', 7497), ('reduced', 5886), ('hidden', 3413), ('label', 4239), ('side', 6512), ('then', 7139), ('care', 1471), ('ripped', 6145), ('off', 5065), ('along', 707), ('sorted', 6676), ('emma', 2580), ('product', 5622), ('previous', 5584), ('offer', 5067), ('isnt', 3962), ('barcode', 1065), ('nike', 4963), ('run', 6218), ('club', 1715), ('runs', 6221), ('while', 7801), ('coach', 1726), ('decide', 2133), ('fits', 2917), ('22', 150), ('both', 1257), ('starting', 6782), ('nrc', 5026), ('audio', 953), ('12', 65), ('thought', 7166), ('amex', 744), ('values', 7597), ('boy', 1273), ('bad', 1025), ('her', 3399), ('exactly', 2698), ('connect', 1849), ('canada', 1439), ('yahoo', 7948), ('suggestions', 6919), ('receiving', 5838), ('trying', 7386), ('2pm', 190), ('tomorrow', 7269), ('until', 7525), ('other', 5163), ('ride', 6130), ('reaching', 5800), ('continue', 1888), ('conversation', 1902), ('httpstcosxpdictw', 3671), ('1a', 107), ('w', 7687), ('amazon', 728), ('shit', 6464), ('outside', 5183), ('ups', 7549), ('🤔', 8171), ('tracking', 7312), ('mc', 4638), ('httpstcowkjhdxwgrq', 3690), ('booked', 1241), ('flight', 2941), ('delta', 2181), ('baggage', 1032), ('pls', 5461), ('confirmation', 1839), ('6idgbjac2m', 361), ('grandmas', 3222), ('laying', 4293), ('delicious', 2169), ('buttermilkcrispytenders', 1388), ('forget', 2986), ('sunday', 6930), ('bring', 1311), ('grandma', 3221), ('mcdonalds', 4643), ('drop', 2462), ('ball', 1044), ('pissed', 5412), ('right', 6137), ('personal', 5354), ('describe', 2212), ('tn', 7247), ('payments', 5307), ('closed', 1703), ('unable', 7456), ('affect', 598), ('real', 5807), ('chat', 1595), ('use', 7567), ('httpstcohaplpmlfhn', 3586), ('ch', 1557), ('package', 5215), ('accidentally', 509), ('opened', 5122), ('items', 3975), ('worth', 7900), ('97', 449), ('delivery', 2179), ('drivers', 2458), ('condition', 1829), ('reach', 5796), ('available', 979), ('options', 5143), ('httpstcojzp', 3601), ('7hla23b', 399), ('dg', 2252), ('courier', 1953), ('last', 4272), ('days', 2105), ('hasn', 3332), ('delivered', 2175), ('late', 4277), ('take', 7014), ('closer', 1705), ('sh', 6428), ('style', 6884), ('advice', 588), ('2017', 143), ('alexa', 676), ('says', 6293), ('goes', 3189), ('se', 6337), ('echo', 2528), ('recognize', 5851), ('single', 6548), ('household', 3511), ('wtf', 7923), ('oh', 5080), ('issues', 3968), ('troubleshooting', 7373), ('pages', 5228), ('httpstcoa', 3535), ('sg', 6427), ('item', 3974), ('handed', 3299), ('ago', 620), ('2nd', 189), ('happened', 3313), ('sort', 6675), ('receive', 5834), ('parcel', 5252), ('sy', 6990), ('packing', 5222), ('video', 7640), ('packaging', 5218), ('washing', 7721), ('line', 4390), ('bringing', 1312), ('attention', 948), ('leave', 4315), ('feedback', 2848), ('possible', 5514), ('prevent', 5581), ('amzl', 758), ('delivering', 2177), ('packages', 5217), ('moving', 4838), ('stuff', 6881), ('either', 2551), ('experience', 2741), ('book', 1240), ('waited', 7690), ('months', 4810), ('wasn', 7723), ('damaged', 2067), ('inside', 3879), ('box', 1269), ('…', 8024), ('vs', 7683), ('paid', 5229), ('phonechat', 5375), ('view', 7642), ('kl', 4204), ('anna', 777), ('idea', 3748), ('school', 6316), ('shipped', 6458), ('anywhere', 808), ('according', 513), ('she', 6446), ('shows', 6499), ('quite', 5737), ('ac', 494), ('again', 612), ('after', 607), ('waiting', 7691), ('theyve', 7148), ('gone', 3197), ('country', 1947), ('friday', 3035), ('searching', 6346), ('everywhere', 2691), ('minute', 4759), ('mike', 4737), ('whos', 7811), ('carrier', 1490), ('responsible', 6061), ('lets', 4340), ('httpstcoy', 3702), ('5jpi9grhe', 321), ('jz', 4115), ('china', 1631), ('looking', 4468), ('ways', 7740), ('kn', 4207), ('couldnt', 1938), ('deliver', 2174), ('ashamed', 890), ('yourself', 7986), ('report', 6004), ('httpstcotddkslo', 3673), ('6mf', 365), ('hd', 3352), ('delay', 2160), ('james', 3996), ('stop', 6835), ('20', 135), ('preorders', 5565), ('prime', 5592), ('members', 4683), ('confused', 1843), ('discounts', 2323), ('eligible', 2560), ('physical', 5383), ('benefits', 1137), ('pulled', 5688), ('another', 790), ('people', 5328), ('walk', 7699), ('ft', 3055), ('door', 2411), ('tired', 7220), ('addressed', 555), ('httpstcoz', 3705), ('bn', 1217), ('anyone', 803), ('else', 2566), ('upgraded', 7540), ('111', 53), ('capital', 1461), ('mail', 4551), ('puts', 5706), ('figure', 2875), ('meet', 4670), ('httpstcogdrqu', 3580), ('22ypt', 153), ('tf', 7110), ('keyboard', 4159), ('fill', 2881), ('lines', 4391), ('tonight', 7272), ('explain', 2753), ('symbol', 6992), ('keeps', 4144), ('type', 7430), ('letter', 4341), ('7', 373), ('installed', 3888), ('screenshot', 6327), ('saying', 6292), ('iphonex', 3950), ('reserved', 6035), ('3rd', 245), ('18th', 101), ('ahead', 626), ('updated', 7535), ('slower', 6598), ('barely', 1067), ('works', 7890), ('ruining', 6214), ('😤', 8140), ('device', 2246), ('model', 4788), ('youtube', 7988), ('lost', 4481), ('httpstcot', 3672), ('button', 1389), ('doesn', 2390), ('running', 6220), ('downloaded', 2430), ('freaking', 3023), ('gave', 3110), ('hell', 3387), ('recommendations', 5856), ('1103', 52), ('spotify', 6745), ('lock', 4445), ('battery', 1086), ('sucks', 6907), ('ass', 902), ('track', 7309), ('false', 2803), ('charges', 1584), ('ky', 4235), ('13', 74), ('theft', 7133), ('1xm0tilvai', 129), ('driver', 2457), ('drove', 2467), ('department', 2195), ('air', 634), ('travel', 7335), ('instead', 3894), ('airport', 645), ('note', 5003), ('touch', 7290), ('getting', 3139), ('texts', 7109), ('travis', 7344), ('threw', 7174), ('went', 7773), ('ubereats', 7440), ('availability', 978), ('click', 1694), ('literally', 4410), ('stranded', 6848), ('smells', 6611), ('seats', 6354), ('miami', 4722), ('standards', 6773), ('applying', 840), ('ray', 5787), ('httpstcoabegvdnwqn', 3537), ('33', 211), ('appreciate', 843), ('needs', 4913), ('simply', 6539), ('queuing', 5730), ('guy', 3270), ('pushed', 5703), ('colleagues', 1744), ('description', 2214), ('nick', 4953), ('wasnt', 7724), ('offered', 5068), ('rebook', 5821), ('scheduled', 6312), ('tmt', 7246), ('search', 6344), ('option', 5142), ('website', 7751), ('😑', 8125), ('sincerely', 6543), ('diligently', 2286), ('soon', 6668), ('tmc', 7240), ('inflight', 3854), ('studio', 6879), ('nothing', 5008), ('except', 2704), ('speak', 6703), ('member', 4682), ('flt', 2952), ('crew', 1998), ('immediate', 3785), ('aab', 467), ('flying', 2957), ('say', 6290), ('looks', 4470), ('first', 2911), ('leg', 4322), ('richard', 6123), ('matter', 4626), ('tjf', 7226), ('moves', 4835), ('complaint', 1806), ('results', 6083), ('bs', 1341), ('answers', 794), ('reason', 5816), ('changed', 1569), ('seating', 6353), ('disappointment', 2311), ('strive', 6867), ('create', 1987), ('positive', 5512), ('ajc', 655), ('shuffle', 6502), ('repeat', 5991), ('fucking', 3060), ('operating', 5127), ('system', 6997), ('groove', 3240), ('music', 4862), ('doesnt', 2391), ('sound', 6680), ('pb', 5311), ('songs', 6662), ('explicit', 2758), ('afraid', 605), ('theres', 7142), ('filter', 2885), ('suggestion', 6918), ('relevant', 5952), ('folks', 2964), ('gs', 3246), ('airways', 650), ('nov', 5019), ('canceled', 1443), ('excited', 2710), ('hassle', 3334), ('rebooked', 5822), ('class', 1680), ('troubles', 7371), ('caused', 1523), ('complimentary', 1816), ('upgrade', 7539), ('however', 3515), ('quote', 5739), ('jane', 4001), ('cancelled', 1447), ('pleased', 5457), ('youve', 7989), ('ignore', 3763), ('yrs', 7992), ('telephone', 7074), ('oliver', 5090), ('apologise', 816), ('responding', 6056), ('sooner', 6669), ('full', 3066), ('reference', 5893), ('confirm', 1838), ('passport', 5280), ('ticket', 7194), ('sam', 6257), ('helen', 3386), ('runway', 6222), ('under', 7468), ('maintenance', 4559), ('delhi', 2167), ('flights', 2942), ('wanted', 7707), ('status', 6798), ('made', 4535), ('two', 7422), ('bookings', 1243), ('received', 5835), ('little', 4413), ('david', 2100), ('emails', 2573), ('24', 157), ('hrs', 3530), ('than', 7119), ('equipment', 2638), ('returned', 6092), ('slm', 6592), ('odd', 5062), ('text', 7106), ('alert', 672), ('alerts', 674), ('kw', 4234), ('record', 5860), ('programs', 5634), ('dvr', 2492), ('channels', 1573), ('subscribe', 6891), ('blank', 1192), ('recordings', 5863), ('nba', 4898), ('lp', 4502), ('checked', 1607), ('menu', 4693), ('series', 6401), ('recording', 5862), ('matt', 4625), ('wow', 7907), ('watch', 7730), ('decides', 2135), ('outage', 5172), ('direct', 2293), ('xg', 7939), ('ben', 1135), ('american', 742), ('airlines', 642), ('pilot', 5403), ('aww', 1000), ('future', 3083), ('cost', 1929), ('50', 296), ('transfer', 7325), ('advantage', 578), ('ridiculous', 6134), ('miles', 4742), ('cheaper', 1599), ('purchase', 5694), ('heading', 3362), ('london', 4461), ('exciting', 2712), ('drinks', 2454), ('ready', 5806), ('coming', 1770), ('aboard', 483), ('pleasure', 5459), ('board', 1222), ('john', 4061), ('wonderful', 7873), ('these', 7143), ('tiny', 7217), ('training', 7321), ('pilots', 5404), ('potter', 5531), ('pumpkins', 5692), ('theyre', 7147), ('adorable', 570), ('attendants', 947), ('kick', 4168), ('enjoy', 2610), ('words', 7882), ('called', 1423), ('atampt', 926), ('75', 382), ('phones', 5377), ('said', 6242), ('inconsistent', 3826), ('messaging', 4704), ('shame', 6433), ('upfront', 7538), ('honest', 3471), ('httpstcolh', 3611), ('0sh5fy2m', 21), ('mikerice', 4739), ('redeem', 5877), ('tuesday', 7397), ('telling', 7079), ('yay', 7953), ('tmobile', 7242), ('tuesdays', 7398), ('taken', 7015), ('hours', 3509), ('jenny', 4021), ('connected', 1850), ('joano', 4054), ('opportunity', 5136), ('passed', 5275), ('fail', 2789), ('questions', 5727), ('shoot', 6475), ('checkout', 1610), ('perfectly', 5337), ('10', 26), ('photos', 5379), ('selected', 6376), ('almost', 704), ('rude', 6207), ('unhelpful', 7484), ('raising', 5763), ('technical', 7068), ('unhappy', 7483), ('mistake', 4768), ('youd', 7978), ('aftersales', 609), ('8am', 426), ('gotta', 3210), ('luv', 4519), ('finally', 2890), ('b', 1008), ('purchased', 5695), ('88', 424), ('httpstcoi', 3591), ('fare', 2814), ('matches', 4620), ('higher', 3417), ('return', 6091), ('journey', 4078), ('flexibility', 2938), ('third', 7157), ('miss', 4764), ('meeting', 4671), ('especially', 2654), ('took', 7277), ('train', 7319), ('often', 5079), ('next', 4941), ('car', 1465), ('andy', 767), ('travelling', 7342), ('hp', 3517), ('finish', 2900), ('fly', 2954), ('internationally', 3919), ('truly', 7381), ('pm', 5467), ('followup', 2971), ('vp', 7680), ('pumpkin', 5691), ('spice', 6732), ('o', 5042), ('sl', 6581), ('crews', 2001), ('kc', 4135), ('safe', 6239), ('aim', 630), ('eric', 2641), ('means', 4660), ('skies', 6569), ('mk', 4776), ('page', 5227), ('hm', 3446), ('reported', 6005), ('errors', 2648), ('lately', 4278), ('accessing', 505), ('different', 2275), ('browser', 1335), ('ma', 4527), ('password', 5281), ('turn', 7406), ('verification', 7620), ('paypal', 5308), ('receipt', 5832), ('van', 7598), ('camera', 1432), ('random', 5768), ('simon', 6537), ('sounds', 6682), ('compromised', 1819), ('strongly', 6870), ('advise', 589), ('security', 6365), ('teams', 7065), ('gt', 3248), ('haven', 3342), ('ensure', 2618), ('fully', 3067), ('secured', 6363), ('gr', 3216), ('part', 5261), ('holiday', 3460), ('helped', 3391), ('loss', 4480), ('cause', 1522), ('traveling', 7339), ('heather', 3377), ('weekend', 7759), ('checkin', 1608), ('messages', 4703), ('christine', 1651), ('💀', 8087), ('win', 7828), ('enjoyed', 2612), ('everytime', 2690), ('sell', 6381), ('bid', 1154), ('comes', 1766), ('fraudulent', 3022), ('wasted', 7727), ('ugh', 7443), ('buyers', 1393), ('followed', 2967), ('unpaid', 7506), ('claim', 1670), ('set', 6415), ('buyer', 1392), ('requirements', 6021), ('strikes', 6866), ('against', 613), ('reduce', 5885), ('due', 2480), ('despite', 2226), ('marked', 4602), ('seller', 6382), ('cannot', 1454), ('opening', 5123), ('learn', 4310), ('wife', 7819), ('hate', 3336), ('interface', 3914), ('content', 1884), ('horrible', 3492), ('navigation', 4897), ('difficult', 2277), ('guide', 3264), ('httpstcozs', 3710), ('2ppocsye', 191), ('hacked', 3281), ('x', 7931), ('junk', 4104), ('melanie', 4677), ('httpstcolkhxowwq', 3612), ('74', 380), ('learned', 4311), ('hulu', 3719), ('hdmi', 3355), ('adapter', 545), ('guess', 3259), ('ll', 4424), ('😢', 8138), ('interest', 3911), ('college', 1751), ('student', 6877), ('mom', 4795), ('intended', 3907), ('across', 527), ('multiple', 4858), ('boarding', 1224), ('pad', 5224), ('swindon', 6982), ('reading', 5804), ('usually', 7579), ('buses', 1379), ('depart', 2192), ('northern', 4996), ('phil', 5366), ('fuck', 3057), ('kb', 4134), ('matters', 4627), ('spring', 6750), ('corporate', 1920), ('top', 7281), ('profile', 5628), ('eager', 2501), ('reached', 5798), ('runaround', 6219), ('unlock', 7501), ('ported', 5502), ('kids', 4174), ('started', 6781), ('continued', 1889), ('web', 7749), ('additional', 551), ('unlocked', 7502), ('explore', 2759), ('towers', 7299), ('nah', 4875), ('rw', 6227), ('idiots', 3756), ('collections', 1749), ('money', 4802), ('owe', 5202), ('directly', 2297), ('cable', 1406), ('anyway', 806), ('confusion', 1845), ('paul', 5297), ('plastic', 5438), ('carry', 1494), ('products', 5625), ('own', 5204), ('compared', 1793), ('reid', 5932), ('constantly', 1869), ('whilst', 7802), ('safety', 6241), ('✨', 8040), ('true', 7379), ('story', 6845), ('bowl', 1267), ('becoming', 1113), ('absolute', 487), ('shoutout', 6493), ('deal', 2117), ('🙏', 8167), ('shout', 6492), ('most', 4821), ('respect', 6053), ('family', 2806), ('dig', 2280), ('chorizo', 1644), ('anymore', 802), ('thing', 7152), ('favorite', 2830), ('frustration', 3051), ('🙌', 8166), ('cards', 1470), ('❤', 8042), ('spent', 6730), ('300', 203), ('😍', 8121), ('🌯', 8053), ('player', 5447), ('lame', 4253), ('shut', 6503), ('promotion', 5645), ('itll', 3977), ('aye', 1003), ('double', 2418), ('meal', 4656), ('broadway', 1322), ('vancouver', 7599), ('lunchtime', 4517), ('plan', 5430), ('birth', 1172), ('annual', 787), ('😞', 8134), ('shouldnt', 6490), ('hates', 3337), ('loves', 4494), ('walked', 7700), ('wearing', 7746), ('felt', 2859), ('alive', 690), ('epic', 2632), ('nicely', 4949), ('makeup', 4565), ('till', 7203), ('close', 1702), ('3pm', 242), ('guac', 3252), ('queso', 5725), ('included', 3818), ('bill', 1160), ('oct', 5060), ('disconnected', 2316), ('sept', 6398), ('20th', 146), ('reverse', 6102), ('final', 2888), ('speeds', 6722), ('terrible', 7095), ('refer', 5892), ('wireless', 7843), ('handle', 3300), ('fios', 2904), ('dsl', 2471), ('bullshit', 1362), ('jay', 4008), ('15', 82), ('feb', 2842), ('ml', 4777), ('mvp', 4865), ('dp', 2436), ('hard', 3323), ('earned', 2509), ('cyber', 2053), ('ra', 5744), ('invoice', 3942), ('lead', 4301), ('responded', 6055), ('inbox', 3812), ('earliest', 2505), ('convenience', 1900), ('patience', 5291), ('kt', 4230), ('kidding', 4173), ('serious', 6402), ('problem', 5611), ('ga', 3087), ('question', 5726), ('ps4', 5674), ('turning', 7408), ('itself', 3979), ('disc', 2313), ('heck', 3383), ('disconnect', 2315), ('cables', 1407), ('minutes', 4760), ('date', 2093), ('instructions', 3898), ('dlc', 2366), ('hav', 3340), ('pack', 5214), ('queue', 5728), ('outcome', 5175), ('renewal', 5978), ('failed', 2790), ('billing', 1162), ('7atheqjw8n', 392), ('preordered', 5563), ('standard', 6772), ('edition', 2536), ('deluxe', 2183), ('somehow', 6652), ('read', 5802), ('dms', 2372), ('pro', 5608), ('print', 5593), ('install', 3886), ('windows', 7831), ('finds', 2895), ('printer', 5595), ('hpcswus', 3521), ('hpprnt', 3524), ('below', 1133), ('reply', 6002), ('anoop', 788), ('2xkfcrug1', 198), ('jacob', 3991), ('scan', 6302), ('doctor', 2383), ('susan', 6963), ('whether', 7799), ('resolved', 6047), ('notebook', 5004), ('drive', 2455), ('replacement', 5997), ('alright', 711), ('format', 2994), ('factory', 2788), ('hope', 3484), ('helps', 3395), ('queries', 5722), ('technician', 7069), ('hpsa', 3526), ('form', 2992), ('daniel', 2078), ('wish', 7845), ('chase', 1593), ('ultimate', 7450), ('rewards', 6111), ('webpage', 7750), ('cash', 1505), ('shop', 6477), ('site', 6556), ('bg', 1150), ('banking', 1057), ('👏', 8084), ('concerns', 1826), ('cr', 1970), ('gonna', 3198), ('talk', 7019), ('pending', 5325), ('transaction', 7323), ('irritated', 3956), ('zip', 8002), ('httpstcoznuu', 3709), ('1vjn9r', 124), ('dealing', 2118), ('outages', 5173), ('complete', 1808), ('dan', 2071), ('business', 1381), ('company', 1791), ('colleen', 1750), ('crappy', 1976), ('vegas', 7613), ('binge', 1166), ('lot', 4482), ('neighborhood', 4917), ('interruptions', 3923), ('seems', 6372), ('technicians', 7070), ('house', 3510), ('capable', 1458), ('expectations', 2733), ('okay', 5086), ('xavier', 7933), ('estimated', 2660), ('25', 162), ('fri', 3034), ('27', 169), ('httpstcon', 3629), ('ebay', 2526), ('rolling', 6176), ('coverage', 1963), ('bb', 1090), ('remove', 5972), ('facility', 2783), ('selling', 6384), ('automatic', 971), ('decline', 2139), ('low', 4497), ('offers', 5070), ('fyi', 3085), ('db', 2106), ('noticed', 5010), ('justin', 4109), ('suggested', 6916), ('contacts', 1878), ('invite', 3939), ('paper', 5249), ('isn', 3961), ('hide', 3414), ('list', 4401), ('certainly', 1552), ('dev', 2241), ('tier', 7198), ('e', 2498), ('hoping', 3489), ('everything', 2689), ('peoples', 5329), ('worried', 7895), ('spoken', 6740), ('advised', 590), ('refuses', 5911), ('copy', 1914), ('contract', 1894), ('though', 7165), ('justify', 4108), ('stealing', 6805), ('800', 415), ('clicking', 1696), ('httpstcocooxeduuuc', 3550), ('woman', 7868), ('government', 3212), ('previously', 5585), ('related', 5941), ('social', 6633), ('validate', 7591), ('minecraft', 4752), ('brother', 1329), ('forza', 3007), ('hes', 3405), ('he', 3358), ('connecting', 1851), ('ethernet', 2667), ('restarting', 6066), ('router', 6193), ('co', 1725), ('backwards', 1023), ('compatible', 1795), ('games', 3095), ('sat', 6276), ('2015', 141), ('express', 2761), ('seeing', 6367), ('added', 548), ('js', 4087), ('fixing', 2922), ('bugs', 1356), ('crashes', 1979), ('animal', 774), ('collection', 1748), ('collect', 1745), ('dying', 2495), ('light', 4369), ('continuously', 1893), ('freezes', 3028), ('ez', 2772), ('active', 536), ('mystery', 4871), ('gift', 3145), ('subscription', 6896), ('during', 2486), ('promo', 5642), ('period', 5343), ('skype', 6580), ('uninstalling', 7489), ('happen', 3312), ('respond', 6054), ('anwar', 797), ('azhelp', 1005), ('function', 3070), ('engineer', 2604), ('tw', 7412), ('aztechhelp', 1006), ('easy', 2520), ('azure', 1007), ('lake', 4252), ('documentation', 2385), ('mh', 4719), ('listening', 4405), ('helping', 3393), ('such', 6903), ('choosing', 1643), ('kimball', 4181), ('awesome', 995), ('guest', 3261), ('sean', 6343), ('worse', 7898), ('paying', 5305), ('slot', 6593), ('recieve', 5844), ('deserve', 2215), ('tasted', 7037), ('discontinued', 2320), ('sauce', 6280), ('orange', 5145), ('donuts', 2410), ('released', 5949), ('crota', 2012), ('pops', 5495), ('distribution', 2355), ('retail', 6085), ('httpstcobevlrvm', 3545), ('6db', 356), ('melted', 4681), ('sync', 6994), ('merchandise', 4695), ('monday', 4801), ('5am', 314), ('6pm', 366), ('wouldnt', 7904), ('companies', 1789), ('reporting', 6006), ('domain', 2398), ('public', 5679), ('kj', 4202), ('specifically', 6715), ('turned', 7407), ('auto', 966), ('renew', 5977), ('shady', 6429), ('transparent', 7330), ('setup', 6420), ('automatically', 972), ('emailed', 2571), ('knows', 4216), ('celebrate', 1535), ('😠', 8136), ('lexie', 4348), ('speed', 6721), ('test', 7101), ('network', 4928), ('communication', 1783), ('showing', 6497), ('mbps', 4636), ('centurylink', 1547), ('min', 4748), ('hold', 3454), ('thinking', 7155), ('three', 7173), ('fixed', 2920), ('katie', 4129), ('university', 7495), ('beef', 1115), ('😊', 8118), ('dude', 2478), ('screaming', 6324), ('general', 3120), ('manager', 4576), ('😳', 8154), ('pizza', 5418), ('overnight', 5197), ('14th', 81), ('october', 5061), ('georgia', 3131), ('current', 2032), ('membership', 4684), ('renewed', 5979), ('canceling', 1444), ('shown', 6498), ('sk', 6568), ('hmm', 3449), ('kp', 4220), ('encountered', 2592), ('unknown', 7496), ('bl', 1183), ('history', 3435), ('adding', 549), ('mo', 4782), ('seriously', 6403), ('bowls', 1268), ('dispatched', 2342), ('separate', 6396), ('orders', 5152), ('nonstop', 4986), ('manage', 4573), ('notifications', 5014), ('parts', 5270), ('map', 4590), ('wm', 7861), ('fake', 2798), ('sold', 6641), ('thirdparty', 7158), ('httpstcoaadyez', 3536), ('1vge', 123), ('lh', 4352), ('spend', 6728), ('constant', 1868), ('reinstalling', 5938), ('perhaps', 5342), ('kindle', 4188), ('breaking', 1294), ('heart', 3373), ('💔', 8090), ('kelly', 4148), ('apartment', 813), ('deleting', 2166), ('image', 3778), ('contains', 1882), ('wt', 7922), ('iphone', 3948), ('🏽', 8070), ('♀', 8032), ('anybody', 801), ('understand', 7471), ('concern', 1823), ('backup', 1022), ('result', 6080), ('httpstcoahjigcvfrg', 3538), ('killing', 4178), ('exact', 2697), ('found', 3008), ('regarding', 5915), ('region', 5919), ('apple', 829), ('article', 883), ('worked', 7885), ('devices', 2248), ('before', 1118), ('ipod', 3951), ('calls', 1426), ('volume', 7673), ('buttons', 1390), ('whose', 7812), ('dumb', 2481), ('job', 4055), ('os', 5160), ('owner', 5206), ('software', 6639), ('dropped', 2464), ('glitch', 3170), ('apps', 854), ('randomly', 5769), ('important', 3794), ('enjoying', 2613), ('gives', 3159), ('crap', 1975), ('httpstcoxmxswvlbkt', 3696), ('seemed', 6371), ('original', 5156), ('credited', 1995), ('bruh', 1339), ('😒', 8126), ('httpstcozj', 3707), ('6aizinzb', 354), ('broke', 1324), ('tips', 7219), ('httpstcok', 3603), ('05rdmk3t4', 11), ('unprofessional', 7512), ('fee', 2846), ('showed', 6495), ('yelling', 7963), ('uber', 7439), ('complaints', 1807), ('sausages', 6282), ('taste', 7036), ('awful', 996), ('ruined', 6213), ('sausage', 6281), ('bottom', 1262), ('row', 6198), ('digits', 2285), ('rhys', 6119), ('stellar', 6807), ('range', 5772), ('internal', 3916), ('log', 4450), ('postcode', 5519), ('supplier', 6943), ('23', 154), ('pain', 5231), ('dear', 2122), ('cute', 2047), ('attendant', 946), ('sayin', 6291), ('noticing', 5012), ('😃', 8112), ('diverted', 2360), ('aus', 956), ('dl', 2365), ('las', 4271), ('jfk', 4034), ('hro', 3529), ('ok', 5085), ('advance', 576), ('lax', 4292), ('atl', 929), ('tlt', 7236), ('sky', 6577), ('lounge', 4488), ('imagine', 3780), ('dark', 2084), ('room', 6181), ('relax', 5945), ('level', 4345), ('tbt', 7051), ('treated', 7347), ('thousands', 7169), ('cutting', 2049), ('jenna', 4019), ('conf', 1833), ('ke', 4139), ('portion', 5504), ('delighted', 2172), ('afc', 597), ('submitted', 6889), ('complain', 1803), ('charging', 1585), ('albums', 669), ('cavalrys', 1526), ('deviceos', 2247), ('releases', 5950), ('2012', 138), ('liam', 4355), ('rh', 6117), ('cancels', 1449), ('c', 1402), ('lhr', 4353), ('sad', 6234), ('accept', 496), ('fair', 2794), ('everyone', 2687), ('disrupted', 2349), ('upgrades', 7541), ('self', 6379), ('grateful', 3226), ('human', 3720), ('httpstcoq', 3648), ('ask', 896), ('247', 159), ('quickly', 5733), ('andrew', 765), ('hesitate', 3406), ('centre', 1544), ('endless', 2598), ('apology', 818), ('mum', 4859), ('disappointed', 2309), ('stephen', 6812), ('kit', 4199), ('obvious', 5050), ('psa', 5675), ('nbc', 4899), ('abc', 479), ('xfinity', 7938), ('needed', 4910), ('modem', 4790), ('pick', 5389), ('wifi', 7821), ('makes', 4564), ('theirs', 7135), ('decent', 2132), ('reasonable', 5817), ('prices', 5588), ('less', 4337), ('perfect', 5336), ('expected', 2734), ('admirals', 567), ('san', 6263), ('francisco', 3019), ('ca', 1403), ('marc', 4593), ('sfo', 6426), ('managers', 4577), ('difficulties', 2278), ('experienced', 2742), ('big', 1155), ('thx', 7190), ('guacamole', 3253), ('window', 7830), ('night', 4960), ('creepy', 1997), ('seattle', 6355), ('slow', 6596), ('deeper', 2150), ('appreciated', 844), ('airline', 641), ('fees', 2854), ('snacks', 6624), ('👍', 8082), ('35k', 217), ('tl', 7235), ('vouchers', 7679), ('seem', 6370), ('numbers', 5034), ('jennifer', 4020), ('funds', 3076), ('possibly', 5515), ('relaxing', 5946), ('shot', 6486), ('8th', 435), ('drink', 2452), ('maybe', 4632), ('welcome', 7765), ('onboard', 5096), ('matthew', 4628), ('loading', 4432), ('rather', 5783), ('tv', 7410), ('pop', 5491), ('launch', 4285), ('playback', 5445), ('httpstcohxplytu', 3590), ('79x', 390), ('episodes', 2635), ('1st', 121), ('major', 4560), ('networks', 4929), ('stream', 6854), ('areas', 864), ('vary', 7606), ('hai', 3286), ('rider', 6131), ('nearby', 4904), ('office', 5071), ('cellphone', 1539), ('behalf', 1125), ('students', 6878), ('💕', 8091), ('👎', 8083), ('ur', 7555), ('8', 413), ('shipping', 6460), ('ship', 6455), ('cs', 2023), ('honestly', 3472), ('trash', 7334), ('jd', 4013), ('sales', 6249), ('asshole', 905), ('unbelievable', 7462), ('talking', 7021), ('contacting', 1876), ('48', 262), ('deactivated', 2114), ('forced', 2981), ('ap', 811), ('mins', 4757), ('cold', 1741), ('bc', 1092), ('rush', 6223), ('hr', 3528), ('becomes', 1112), ('systems', 6998), ('fraud', 3021), ('wild', 7823), ('special', 6708), ('couldn', 1937), ('hopes', 3488), ('0', 0), ('busy', 1384), ('brown', 1332), ('rice', 6121), ('🙃', 8161), ('visit', 7660), ('sum', 6926), ('🤗', 8172), ('😂', 8111), ('usual', 7578), ('🌮', 8052), ('tacos', 7011), ('5th', 331), ('high', 3416), ('five', 2918), ('singapore', 6546), ('useless', 7570), ('troubling', 7375), ('write', 7915), ('idk', 3757), ('salad', 6247), ('dressing', 2450), ('holy', 3465), ('heres', 3401), ('ingredient', 3863), ('statement', 6789), ('around', 871), ('ordering', 5151), ('boss', 1254), ('played', 5446), ('practice', 5542), ('faith', 2796), ('ko', 4217), ('truth', 7384), ('absolutely', 488), ('rules', 6217), ('risk', 6149), ('goodness', 3202), ('boo', 1239), ('price', 5586), ('tight', 7201), ('msg', 4848), ('fb', 2835), ('poisoning', 5480), ('forgot', 2989), ('receipts', 5833), ('sign', 6517), ('autopay', 973), ('tells', 7080), ('must', 4863), ('characters', 1578), ('9', 437), ('verify', 7622), ('glitchy', 3174), ('tvs', 7411), ('specific', 6714), ('til', 7202), ('troubleshoot', 7372), ('drops', 2466), ('black', 1184), ('ops', 5138), ('httpstcovp', 3685), ('delete', 2164), ('psn', 5676), ('currency', 2031), ('transferred', 7326), ('remote', 5970), ('remotely', 5971), ('2xp', 199), ('weapon', 7744), ('1100', 49), ('disappeared', 2305), ('gpu', 3215), ('performance', 5339), ('illustrator', 3774), ('preferences', 5556), ('loop', 4471), ('asap', 887), ('excuse', 2716), ('sony', 6666), ('edit', 2534), ('cloud', 1711), ('mobile', 4784), ('mac', 4528), ('based', 1074), ('preview', 5583), ('\\U0001f92c', 8181), ('👋', 8080), ('hdr', 3356), ('merge', 4698), ('patrick', 5295), ('eta', 2663), ('shared', 6439), ('concerned', 1824), ('listen', 4403), ('standing', 6775), ('clapham', 1675), ('junction', 4102), ('surbiton', 6954), ('left', 4321), ('early', 2506), ('annoying', 786), ('schedule', 6311), ('second', 6357), ('skill', 6570), ('considered', 1861), ('cheating', 1605), ('conduct', 1831), ('ja', 3986), ('headset', 3367), ('simple', 6538), ('plug', 5462), ('method', 4711), ('makemodel', 4563), ('trains', 7322), ('manchester', 4580), ('piccadilly', 5388), ('york', 7976), ('delayed', 2161), ('21', 147), ('180', 96), ('ring', 6139), ('doorbell', 2412), ('earth', 2513), ('mat', 4618), ('heavy', 3381), ('carried', 1489), ('tom', 7265), ('2day', 178), ('waste', 7726), ('drama', 2444), ('tim', 7205), ('cafe', 1411), ('delightful', 2173), ('burger', 1371), ('morning', 4815), ('roll', 6174), ('stuart', 6875), ('cake', 1412), ('carrie', 1488), ('taking', 7018), ('chicken', 1626), ('quality', 5717), ('management', 4575), ('theyd', 7145), ('recognized', 5852), ('shopping', 6479), ('sports', 6743), ('employee', 2585), ('dylan', 2496), ('walmart', 7704), ('terms', 7093), ('httpstcotr', 3674), ('angel', 769), ('pia', 5386), ('blankets', 1194), ('become', 1111), ('cashier', 1507), ('✔', 8039), ('thrilled', 7176), ('everybody', 2684), ('met', 4709), ('friendly', 3039), ('smile', 6613), ('face', 2777), ('😉', 8117), ('donated', 2404), ('center', 1541), ('communities', 1785), ('ami', 745), ('sale', 6248), ('bravo', 1287), ('💪', 8099), ('🎶', 8066), ('gps', 3214), ('street', 6857), ('wondering', 7874), ('discount', 2321), ('incompetent', 3824), ('stands', 6776), ('httpstcog', 3576), ('catch', 1512), ('shouldn', 6489), ('customerservice', 2042), ('httpstcofs', 3572), ('660rq8nq', 349), ('surge', 6958), ('four', 3009), ('seasons', 6349), ('resort', 6050), ('httpstcotv', 3675), ('4psvy8sr', 286), ('disabled', 2302), ('ability', 480), ('resend', 6030), ('httpstcoh', 3585), ('840iouehc', 422), ('35', 215), ('httpstconftc', 3631), ('4odh3p', 281), ('inform', 3856), ('debit', 2125), ('frank', 3020), ('pricing', 5589), ('🙄', 8162), ('maintain', 4558), ('reliability', 5953), ('later', 4279), ('demand', 2184), ('cancellation', 1445), ('none', 4982), ('httpstcoqsi', 3655), ('1vsvcif', 125), ('bother', 1258), ('head', 3359), ('kindly', 4189), ('few', 2864), ('gun', 3268), ('vehicle', 7616), ('put', 5705), ('escalated', 2651), ('shortly', 6485), ('inapp', 3809), ('handled', 3301), ('media', 4667), ('eats', 2524), ('placed', 5426), ('conditions', 1830), ('discuss', 2329), ('holder', 3455), ('hair', 3287), ('goodbye', 3200), ('weird', 7764), ('came', 1431), ('completed', 1809), ('httpstcoe', 3557), ('8hvorx5rh', 430), ('impossible', 3795), ('arrange', 872), ('terminal', 7091), ('rides', 6133), ('saw', 6289), ('accident', 507), ('riding', 6136), ('er', 2640), ('moments', 4798), ('realize', 5811), ('lucky', 4511), ('god', 3185), ('cab', 1404), ('returning', 6093), ('calling', 1425), ('rang', 5771), ('beginning', 1123), ('seconds', 6358), ('switched', 6986), ('httpstcom', 3618), ('privacy', 5602), ('person', 5353), ('writing', 7916), ('httpstcorotqywzf', 3661), ('0b', 14), ('minimum', 4754), ('lose', 4477), ('f', 2773), ('taxis', 7044), ('cup', 2027), ('seat', 6350), ('disrespectful', 2348), ('times', 7212), ('ages', 618), ('warranty', 7716), ('manufacturer', 4587), ('aw', 988), ('daughters', 2098), ('bday', 1096), ('bar', 1062), ('rep', 5986), ('austin', 957), ('experiences', 2743), ('kf', 4162), ('repair', 5987), ('wks', 7859), ('brand', 1283), ('forwarded', 3005), ('glo', 3175), ('collecting', 1747), ('wat', 7729), ('unnecessary', 7504), ('evening', 2677), ('fa', 2774), ('reorder', 5985), ('restaurant', 6068), ('um', 7452), ('tin', 7215), ('ty', 7428), ('ann', 776), ('grocery', 3239), ('baby', 1013), ('child', 1627), ('smaller', 6606), ('size', 6562), ('babies', 1012), ('differently', 2276), ('within', 7854), ('weight', 7763), ('18', 95), ('tg', 7114), ('german', 3133), ('language', 4263), ('books', 1244), ('titles', 7222), ('prefer', 5554), ('english', 2608), ('nw', 5039), ('bit', 1176), ('eb', 2525), ('erm', 2646), ('599', 313), ('amount', 749), ('bt', 1342), ('hasnt', 3333), ('sj', 6565), ('arriving', 880), ('arent', 866), ('processing', 5620), ('others', 5164), ('qj', 5712), ('httpstcow', 3686), ('nor', 4990), ('personalaccount', 5355), ('clueless', 1719), ('wk', 7858), ('lied', 4364), ('yesterday', 7967), ('losing', 4479), ('solve', 6647), ('problems', 5612), ('resolutions', 6045), ('cares', 1475), ('facing', 2784), ('village', 7649), ('surrounding', 6961), ('alternate', 715), ('elaborate', 2554), ('regards', 5917), ('amruta', 753), ('6z', 372), ('father', 2822), ('representative', 6009), ('suffering', 6912), ('dads', 2060), ('urgent', 7557), ('awaiting', 990), ('resolve', 6046), ('rgds', 6114), ('jyoti', 4114), ('short', 6481), ('likes', 4377), ('situation', 6559), ('clarify', 1678), ('watchos', 7734), ('pointless', 5478), ('browsing', 1337), ('80', 414), ('buying', 1394), ('control', 1896), ('user', 7571), ('glitching', 3173), ('shocked', 6470), ('containing', 1881), ('bug', 1354), ('fixes', 2921), ('80yrnjdfdk', 417), ('dies', 2269), ('faulty', 2825), ('begin', 1122), ('icloud', 3744), ('reliable', 5954), ('bluetooth', 1213), ('calendar', 1417), ('guidance', 3263), ('2013', 139), ('past', 5283), ('wth', 7924), ('song', 6661), ('appear', 825), ('icons', 3746), ('force', 2980), ('avail', 977), ('initial', 3865), ('notification', 5013), ('display', 2343), ('6s', 368), ('adjust', 563), ('alarm', 665), ('waking', 7697), ('neighbours', 4920), ('photo', 5378), ('solution', 6645), ('solving', 6649), ('primary', 5591), ('jj', 4043), ('continually', 1887), ('benefit', 1136), ('doubt', 2420), ('100mbps', 30), ('signal', 6519), ('wired', 7842), ('dee', 2148), ('login', 4455), ('frustrating', 3050), ('😬', 8148), ('throw', 7181), ('entire', 2623), ('picked', 5390), ('cousin', 1960), ('pittsburgh', 5416), ('dispute', 2347), ('taxi', 7043), ('front', 3045), ('mini', 4753), ('pies', 5400), ('100', 27), ('shelf', 6449), ('whereas', 7796), ('kirsten', 4197), ('milk', 4744), ('curry', 2034), ('jayne', 4009), ('44', 257), ('34', 214), ('comments', 1773), ('crisps', 2004), ('kevin', 4155), ('14', 77), ('httpstcopy', 3647), ('5z991bme', 337), ('husband', 3729), ('mould', 4827), ('include', 3817), ('batch', 1082), ('onto', 5114), ('struan', 6871), ('moneycard', 4803), ('sc', 6296), ('tesco', 7099), ('feed', 2847), ('loose', 4473), ('rach', 5746), ('cut', 2046), ('martin', 4610), ('alex', 675), ('metro', 4713), ('superstore', 6940), ('mince', 4749), ('hill', 3425), ('impressed', 3797), ('datetime', 2096), ('kate', 4125), ('regular', 5929), ('piece', 5398), ('doughnuts', 2424), ('amber', 735), ('action', 530), ('employees', 2586), ('stand', 6771), ('loyalty', 4501), ('hkc', 3443), ('gate', 3105), ('agent', 616), ('jamie', 3997), ('compliment', 1815), ('pdx', 5314), ('travels', 7343), ('advertising', 586), ('facebook', 2778), ('choose', 1642), ('ads', 573), ('living', 4419), ('mt', 4853), ('worry', 7897), ('🎉', 8064), ('tb', 7048), ('particular', 5264), ('ad', 543), ('premium', 5561), ('nq', 5024), ('closing', 1708), ('boot', 1249), ('startup', 6784), ('versions', 7626), ('payment', 5306), ('visa', 7658), ('migrate', 4735), ('france', 3017), ('australia', 958), ('backstage', 1021), ('httpstcoldfdzrinat', 3610), ('album', 668), ('playlist', 5450), ('sometimes', 6658), ('temporarily', 7084), ('licensing', 4361), ('changes', 1570), ('sends', 6390), ('l', 4237), ('press', 5573), ('🏻', 8068), ('layout', 4294), ('users', 7574), ('hit', 3436), ('🎧', 8065), ('rest', 6063), ('assured', 922), ('tu', 7394), ('police', 5481), ('fine', 2896), ('suggesting', 6917), ('username', 7572), ('move', 4832), ('sense', 6392), ('thomas', 7162), ('total', 7288), ('tracks', 7313), ('ls', 4504), ('piss', 5411), ('greatest', 3230), ('dustin', 2488), ('artist', 884), ('ns', 5027), ('upset', 7550), ('uri', 7559), ('ag', 611), ('maggie', 4545), ('ba', 1010), ('lgw', 4351), ('round', 6191), ('dec', 2129), ('route', 6192), ('suspended', 6966), ('winter', 7839), ('29', 174), ('march', 4594), ('lagos', 4250), ('70', 374), ('silver', 6533), ('avios', 984), ('ams', 754), ('amsterdam', 755), ('40', 250), ('disgraceful', 2332), ('flew', 2936), ('europe', 2670), ('crushed', 2019), ('loads', 4433), ('wasting', 7728), ('julian', 4094), ('pitch', 5415), ('mobilecarexi', 4786), ('promises', 5640), ('customerservicefail', 2043), ('posting', 5522), ('4g', 272), ('hurry', 3726), ('gigabit', 3149), ('thatd', 7130), ('upload', 7543), ('marketing', 4604), ('unsubscribe', 7522), ('rd', 5792), ('voice', 7670), ('definition', 2157), ('def', 2153), ('setting', 6417), ('poorly', 5489), ('outstanding', 5184), ('addition', 550), ('yummy', 7995), ('ewr', 2695), ('mia', 4721), ('guitar', 3267), ('b4', 1009), ('overhead', 5196), ('bin', 1165), ('empty', 2587), ('weak', 7743), ('locator', 4444), ('compensate', 1796), ('jh', 4036), ('euston', 2672), ('bham', 1152), ('announced', 782), ('joanne', 4053), ('birmingham', 1171), ('wolverhampton', 7867), ('deals', 2119), ('getthanked', 3138), ('goodies', 3201), ('funny', 3079), ('rain', 5759), ('lb', 4297), ('coupons', 1952), ('former', 2996), ('disappoint', 2308), ('behind', 1128), ('rick', 6125), ('morty', 4819), ('interested', 3912), ('httpstcoo', 3636), ('💚', 8095), ('proper', 5653), ('sup', 6935), ('syncing', 6996), ('uh', 7445), ('6ei0cnf1', 357), ('httpstcoj', 3597), ('invited', 3940), ('trial', 7356), ('tweeting', 7416), ('6ydk7bvqn7', 371), ('act', 528), ('uptodate', 7554), ('hero', 3403), ('38', 223), ('listed', 4402), ('brothers', 1330), ('liars', 4357), ('feeling', 2851), ('dimensions', 2287), ('similar', 6536), ('purse', 5701), ('backpack', 1019), ('tkr', 7233), ('hca', 3350), ('extremely', 2769), ('agents', 617), ('terribly', 7096), ('helpful', 3392), ('avoid', 987), ('😕', 8129), ('assisting', 915), ('allow', 698), ('accurate', 520), ('acj', 523), ('priced', 5587), ('land', 4255), ('55', 306), ('ground', 3242), ('plz', 5466), ('moved', 4833), ('originally', 5157), ('aisle', 652), ('tac', 7009), ('planned', 5434), ('partner', 5267), ('gogo', 3190), ('attempt', 941), ('afm', 603), ('costumer', 1934), ('beg', 1119), ('refused', 5910), ('otherwise', 5165), ('subject', 6887), ('difference', 2274), ('planes', 5432), ('msp', 4851), ('sunset', 6934), ('tmb', 7239), ('amazing', 727), ('kyle', 4236), ('recognizing', 5853), ('proud', 5664), ('luggage', 4513), ('🤷', 8184), ('regret', 5927), ('700', 375), ('acceptable', 497), ('atj', 928), ('value', 7595), ('selection', 6378), ('goal', 3184), ('decisions', 2137), ('program', 5631), ('impression', 3798), ('instance', 3890), ('consider', 1859), ('privilege', 5605), ('dtw', 2473), ('sitting', 6558), ('holly', 3462), ('delays', 2163), ('arrive', 877), ('award', 991), ('aware', 993), ('grace', 3218), ('sets', 6416), ('christmas', 1652), ('wendy', 7772), ('robbie', 6162), ('asking', 898), ('hungry', 3723), ('creative', 1990), ('😎', 8122), ('🤙', 8174), ('thoroughly', 7163), ('110', 48), ('fan', 2808), ('recipe', 5846), ('grab', 3217), ('yeah', 7958), ('buddy', 1347), ('bucks', 1346), ('steak', 6803), ('st', 6762), ('ny', 5040), ('offering', 5069), ('includes', 3819), ('rt', 6205), ('save', 6283), ('fam', 2804), ('cups', 2028), ('apply', 839), ('😰', 8151), ('main', 4556), ('pregnant', 5558), ('lady', 4246), ('😜', 8132), ('android', 766), ('drains', 2443), ('dropbox', 2463), ('stable', 6763), ('environment', 2629), ('intention', 3909), ('monthly', 4809), ('iphones', 3949), ('stores', 6842), ('bank', 1055), ('acc', 495), ('jmr', 4049), ('claims', 1673), ('dept', 2209), ('process', 5617), ('remain', 5959), ('silent', 6531), ('el', 2553), ('airtime', 649), ('confirmed', 1840), ('ksh', 4229), ('😁', 8110), ('steven', 6815), ('supposed', 6952), ('might', 4734), ('title', 7221), ('httpstcod', 3553), ('2k18', 187), ('gotten', 3211), ('yall', 7949), ('gamer', 3093), ('tag', 7012), ('httpstcominrgzsl', 3624), ('usb', 7565), ('fat', 2821), ('32', 210), ('reinstall', 5936), ('regardless', 5916), ('submit', 6888), ('passwords', 5282), ('sensitive', 6393), ('places', 5427), ('locally', 4438), ('target', 7029), ('csr', 2024), ('inventory', 3932), ('rid', 6129), ('computer', 1820), ('listing', 4406), ('somewhere', 6659), ('k', 4116), ('pictures', 5396), ('unacceptable', 7457), ('affected', 599), ('relation', 5942), ('bk', 1182), ('default', 2154), ('adds', 561), ('step', 6808), ('rachel', 5749), ('insight', 3881), ('tech', 7067), ('productive', 5624), ('cm', 1721), ('chocolate', 1639), ('corn', 1918), ('cakes', 1413), ('pic', 5387), ('redeeming', 5879), ('dell', 2180), ('key', 4158), ('trusted', 7383), ('dis', 2299), ('namezipphoneaccount', 4880), ('💁', 8088), ('sp', 6692), ('cl', 1669), ('holding', 3457), ('gather', 3108), ('port', 5500), ('reasons', 5818), ('december', 2131), ('preorder', 5562), ('httpstconpx', 3632), ('1ynxci5', 131), ('codes', 1732), ('causing', 1525), ('normal', 4992), ('😐', 8124), ('end', 2595), ('registered', 5923), ('alaska', 667), ('bay', 1089), ('4oodr29zz', 282), ('guests', 3262), ('hats', 3338), ('🛫', 8170), ('🍷', 8058), ('slc', 6582), ('➡', 8043), ('diego', 2268), ('anytime', 805), ('fuming', 3068), ('argos', 868), ('meant', 4661), ('requested', 6015), ('chris', 1647), ('bh', 1151), ('international', 3918), ('entertainment', 2622), ('screens', 6326), ('mon', 4800), ('fleet', 2935), ('movies', 4837), ('ord', 5146), ('fantastic', 2811), ('dfw', 2251), ('charlotte', 1591), ('repeatedly', 5993), ('boarded', 1223), ('effort', 2544), ('extended', 2763), ('reunite', 6097), ('portland', 5506), ('decided', 2134), ('rip', 6142), ('feet', 2855), ('pressing', 5575), ('flyers', 2956), ('courteous', 1957), ('each', 2500), ('landing', 4257), ('destination', 2228), ('unwanted', 7529), ('responsive', 6062), ('platinum', 5443), ('aadvantage', 470), ('int', 3902), ('ended', 2596), ('british', 1315), ('ie', 3759), ('perks', 5346), ('obviously', 5051), ('negative', 4914), ('americanairlines', 743), ('sincere', 6542), ('seen', 6373), ('travelers', 7338), ('paperwork', 5250), ('gorgeous', 3207), ('bird', 1169), ('aws', 999), ('stating', 6793), ('standby', 6774), ('missed', 4765), ('joining', 4066), ('informed', 3858), ('captain', 1463), ('mention', 4690), ('nyc', 5041), ('dogs', 2393), ('airplane', 643), ('dog', 2392), ('temporary', 7085), ('locked', 4446), ('ashley', 892), ('clarissa', 1679), ('east', 2518), ('qualifying', 5716), ('dispatch', 2341), ('ki', 4167), ('pk', 5422), ('yr', 7991), ('discussed', 2330), ('dinesh', 2289), ('7th', 404), ('believe', 1130), ('expecting', 2735), ('alternative', 716), ('j', 3985), ('gaming', 3096), ('mouse', 4830), ('scroll', 6333), ('2hrs', 185), ('usage', 7564), ('nj', 4969), ('pickup', 5393), ('newegg', 4935), ('starts', 6783), ('occurring', 5058), ('arrives', 879), ('newark', 4933), ('knowing', 4213), ('31', 208), ('throttling', 7178), ('firstlast', 2913), ('including', 3820), ('city', 1666), ('state', 6787), ('damn', 2070), ('fucked', 3058), ('espn', 2655), ('likely', 4376), ('agreement', 623), ('restrictions', 6079), ('league', 4307), ('ken', 4150), ('mobilecare', 4785), ('viewing', 7646), ('leaving', 4317), ('building', 1358), ('stupid', 6883), ('occurred', 5056), ('lying', 4523), ('saddened', 6235), ('balance', 1042), ('deduct', 2144), ('cancelling', 1448), ('httpstcozue', 3713), ('0dj6yox', 15), ('crashed', 1978), ('immediately', 3786), ('basket', 1080), ('outlined', 5179), ('la', 4238), ('desktop', 2223), ('httpstcojzvkhdlrk', 3602), ('rosie', 6186), ('sit', 6555), ('videos', 7641), ('germany', 3134), ('breaks', 1295), ('restart', 6064), ('apart', 812), ('freezing', 3029), ('turns', 7409), ('white', 7804), ('liking', 4378), ('lag', 4247), ('\\U0001f928', 8180), ('rescheduled', 6027), ('apt', 858), ('signed', 6523), ('direction', 2295), ('lg', 4349), ('stayed', 6800), ('truck', 7377), ('sigh', 6515), ('porch', 5498), ('choice', 1640), ('attempted', 942), ('holidays', 3461), ('oops', 5119), ('rate', 5780), ('worlds', 7892), ('picking', 5391), ('registration', 5925), ('expires', 2750), ('license', 4359), ('bubble', 1344), ('bath', 1083), ('racist', 5750), ('outreach', 5182), ('mexico', 4715), ('tax', 7041), ('query', 5723), ('craig', 1974), ('louise', 4486), ('notified', 5015), ('tough', 7294), ('dissatisfied', 2353), ('green', 3233), ('joke', 4068), ('anxiety', 798), ('tjn', 7229), ('upsetting', 7551), ('comment', 1772), ('field', 2871), ('section', 6361), ('servers', 6408), ('rmd', 6153), ('heyo', 3409), ('overwatch', 5200), ('theme', 7137), ('atm', 933), ('fails', 2792), ('strange', 6849), ('channel', 1572), ('unplug', 7508), ('central', 1543), ('jersey', 4026), ('testing', 7103), ('tracey', 7308), ('managed', 4574), ('procedure', 5614), ('ellen', 2564), ('alternatively', 717), ('relations', 5943), ('fares', 2815), ('cindy', 1657), ('br', 1277), ('teresa', 7089), ('mumbai', 4860), ('cabin', 1405), ('victor', 7638), ('lovely', 4493), ('costs', 1932), ('45', 258), ('euro', 2669), ('traveller', 7341), ('meals', 4657), ('sellers', 6383), ('mark', 4601), ('protect', 5659), ('policies', 5482), ('situations', 6560), ('jl', 4046), ('frozen', 3047), ('subscribed', 6892), ('lt', 4505), ('dealt', 2120), ('resolution', 6044), ('dedicated', 2143), ('baseball', 1073), ('connectivity', 1854), ('frl', 3042), ('ib', 3740), ('asks', 899), ('transferring', 7327), ('hangs', 3310), ('consistent', 1864), ('wedding', 7754), ('85', 423), ('✈', 8036), ('congrats', 1847), ('married', 4607), ('lots', 4483), ('whoa', 7807), ('towards', 7297), ('jump', 4099), ('sry', 6759), ('lobby', 4436), ('36', 218), ('9woafwenp', 463), ('dropping', 2465), ('rectify', 5869), ('cheaters', 1604), ('ingame', 3862), ('eg', 2547), ('hmmm', 3450), ('rapid', 5775), ('cd', 1530), ('smooth', 6618), ('dca', 2108), ('fall', 2799), ('spirit', 6736), ('737', 379), ('max', 4629), ('httpstcol', 3607), ('trust', 7382), ('plane', 5431), ('whole', 7809), ('johnny', 4062), ('lit', 4409), ('cover', 1962), ('preparing', 5569), ('takeoff', 7016), ('hang', 3307), ('feels', 2853), ('tend', 7087), ('watching', 7732), ('space', 6694), ('provider', 5668), ('ep', 2631), ('paddington', 5226), ('penzance', 5327), ('21st', 149), ('timetable', 7213), ('revised', 6109), ('kk', 4203), ('peeps', 5322), ('cord', 1915), ('sts', 6874), ('correction', 1924), ('ceri', 1550), ('chips', 1636), ('tortilla', 7286), ('hand', 3298), ('scary', 6308), ('wo', 7863), ('redirected', 5881), ('😔', 8128), ('confident', 1836), ('wear', 7745), ('pics', 5394), ('amends', 740), ('failure', 2793), ('resetting', 6038), ('clearing', 1690), ('consoles', 1867), ('cache', 1409), ('´', 8013), ('pointe', 5475), ('du', 2474), ('hoc', 3453), ('hq', 3527), ('headquarters', 3365), ('common', 1779), ('av', 976), ('0f6pfdyu9j', 16), ('jen', 4018), ('groceries', 3238), ('robyn', 6166), ('successfully', 6902), ('fact', 2785), ('toy', 7302), ('shaun', 6444), ('2014', 140), ('ouch', 5167), ('randy', 5770), ('ellea', 2563), ('tickets', 7196), ('jeremyj', 4023), ('boxes', 1271), ('stolen', 6831), ('crazy', 1984), ('kittyg', 4201), ('expenses', 2739), ('budget', 1348), ('mission', 4767), ('reducing', 5887), ('cellular', 1540), ('httpstcomww', 3628), ('69rzn7a', 353), ('ashleynelson', 893), ('google', 3205), ('pixel', 5417), ('xl', 7940), ('4th', 290), ('tmo', 7241), ('hooked', 3481), ('eriks', 2644), ('deny', 2190), ('clients', 1698), ('blackfriday', 1187), ('np', 5023), ('inconveniences', 3830), ('loaded', 4431), ('variety', 7603), ('rare', 5776), ('strike', 6865), ('tool', 7278), ('drag', 2439), ('uses', 7575), ('middle', 4730), ('colors', 1754), ('derrick', 2211), ('restore', 6074), ('entirely', 2624), ('luke', 4515), ('cancun', 1451), ('sandra', 6265), ('operate', 5125), ('downloading', 2431), ('official', 5075), ('xp', 7942), ('bonuses', 1238), ('clubs', 1717), ('patch', 5288), ('achievement', 521), ('score', 6317), ('liverpool', 4416), ('lime', 4380), ('bus', 1378), ('elsewhere', 2568), ('activated', 533), ('voucher', 7678), ('mentioned', 4691), ('catalogue', 1511), ('tweets', 7417), ('shocking', 6471), ('elite', 2561), ('wonder', 7871), ('bummed', 1363), ('serving', 6413), ('😪', 8146), ('fave', 2827), ('sleeping', 6584), ('unfortunate', 7480), ('annoyed', 785), ('sister', 6553), ('salsa', 6253), ('n', 4872), ('compensation', 1798), ('anthony', 795), ('dr', 2438), ('il', 3770), ('prepared', 5568), ('watched', 7731), ('cook', 1907), ('90', 438), ('hitting', 3438), ('visits', 7663), ('drives', 2459), ('vegetarian', 7614), ('sour', 6684), ('cheese', 1617), ('visiting', 7662), ('reg', 5913), ('ppl', 5538), ('wayne', 7739), ('330', 212), ('ongoing', 5106), ('corey', 1917), ('kris', 4223), ('ten', 7086), ('papa', 5248), ('johns', 4063), ('traffic', 7317), ('large', 4268), ('pizzas', 5419), ('pan', 5240), ('stress', 6860), ('hannah', 3311), ('mr', 4843), ('httpstcomqmfkxw', 3627), ('4ov', 284), ('children', 1628), ('allowed', 700), ('reward', 6110), ('loving', 4496), ('msy', 4852), ('keeping', 4143), ('ol', 5087), ('sing', 6545), ('headphone', 3363), ('mdw', 4653), ('wednesday', 7755), ('huge', 3717), ('chicago', 1625), ('alison', 687), ('meantime', 4662), ('denver', 2189), ('neil', 4921), ('wells', 7768), ('fargo', 2816), ('wheres', 7797), ('lol', 4459), ('nc', 4900), ('1obduyadh', 118), ('blocked', 1202), ('banker', 1056), ('protection', 5661), ('😥', 8141), ('answered', 792), ('financial', 2891), ('prompt', 5648), ('failing', 2791), ('wellsfargo', 7769), ('proof', 5652), ('filed', 2878), ('liar', 4356), ('omg', 5094), ('epicfail', 2633), ('dc', 2107), ('filling', 2883), ('faces', 2780), ('thanksgiving', 7124), ('lil', 4379), ('heat', 3375), ('stopped', 6836), ('yeezy', 7962), ('18008693557', 98), ('rectified', 5868), ('rg', 6113), ('sms', 6621), ('2fa', 181), ('18009564442', 99), ('expire', 2748), ('expedited', 2737), ('mentioning', 4692), ('bout', 1266), ('‼', 8025), ('navigate', 4895), ('circles', 1660), ('infuriating', 3861), ('present', 5571), ('smartphone', 6608), ('logging', 4453), ('com', 1757), ('es', 2649), ('persons', 5358), ('stole', 6830), ('garbage', 3099), ('gm', 3180), ('arrival', 876), ('given', 3158), ('fd', 2837), ('3x', 248), ('transit', 7329), ('ha', 3278), ('recent', 5839), ('disappear', 2304), ('entering', 2621), ('occur', 5055), ('progress', 5635), ('icon', 3745), ('spinning', 6735), ('playlists', 5451), ('tapping', 7027), ('restored', 6075), ('older', 5089), ('behavior', 1126), ('url', 7560), ('remains', 5961), ('applewatch', 833), ('consistently', 1865), ('gym', 3276), ('30', 202), ('quit', 5736), ('deep', 2149), ('explaining', 2755), ('mistakes', 4770), ('served', 6406), ('rob', 6159), ('bothered', 1259), ('cust', 2036), ('ignored', 3764), ('callum', 1427), ('putting', 5707), ('shelves', 6451), ('font', 2972), ('eyes', 2771), ('unsure', 7524), ('dumped', 2483), ('escalate', 2650), ('swear', 6977), ('dot', 2416), ('deliveries', 2176), ('sb', 6294), ('copies', 1913), ('duty', 2489), ('midnight', 4732), ('entrance', 2626), ('rubbish', 6206), ('welcoming', 7766), ('firstworldproblems', 2914), ('leadership', 4304), ('kept', 4152), ('enter', 2619), ('reservations', 6033), ('worldwide', 7894), ('tap', 7025), ('loved', 4492), ('usable', 7563), ('fancy', 2809), ('boom', 1245), ('ar', 859), ('edinburgh', 2533), ('lack', 4242), ('danih', 2080), ('amy', 757), ('passenger', 5276), ('56', 307), ('comfortable', 1768), ('🐶', 8073), ('☺', 8031), ('pax', 5301), ('pleasant', 5455), ('executive', 2719), ('postal', 5518), ('upon', 7547), ('logo', 4457), ('joe', 4058), ('massive', 4613), ('de', 2112), ('server', 6407), ('httpstcoezhtminqrk', 3565), ('tony', 7275), ('faults', 2824), ('opt', 5139), ('cases', 1503), ('damages', 2068), ('damage', 2066), ('vegan', 7612), ('breakfast', 1293), ('tea', 7061), ('hot', 3503), ('catering', 1516), ('sierra', 6514), ('sim', 6534), ('thru', 7184), ('😱', 8152), ('unaware', 7461), ('bolt', 1233), ('ons', 5111), ('o2', 5043), ('✉', 8037), ('5pyldjbc6r', 328), ('periodically', 5344), ('couple', 1950), ('sdl', 6336), ('automated', 970), ('gg', 3141), ('clearly', 1691), ('scanned', 6303), ('pc', 5312), ('organic', 5154), ('stated', 6788), ('8p', 434), ('chatting', 1597), ('juan', 4090), ('flat', 2932), ('multi', 4856), ('forth', 2999), ('wake', 7696), ('group', 3243), ('jr', 4084), ('jon', 4070), ('uk', 7447), ('promised', 5639), ('dates', 2095), ('dw', 2493), ('research', 6029), ('complained', 1804), ('steal', 6804), ('tho', 7161), ('course', 1955), ('brandon', 1285), ('guarantee', 3254), ('sara', 6271), ('jobs', 4056), ('thankful', 7121), ('clean', 1684), ('gross', 3241), ('crystal', 2022), ('broadcast', 1321), ('gosh', 3208), ('timing', 7214), ('vacation', 7587), ('tampa', 7023), ('florida', 2948), ('iflyalaska', 3761), ('sun', 6929), ('him', 3428), ('hearing', 3372), ('stories', 6843), ('doors', 2414), ('bear', 1101), ('thoughts', 7167), ('views', 7647), ('mostwestcoast', 4823), ('commercial', 1774), ('counter', 1942), ('kiosk', 4196), ('machine', 4530), ('jim', 4040), ('candy', 1453), ('tricks', 7358), ('michelle', 4725), ('southwest', 6689), ('midland', 4731), ('730', 378), ('worldseries', 7893), ('eps', 2636), ('cheryl', 1623), ('logged', 4452), ('timeline', 7209), ('wlmy', 7860), ('httpstcor', 3658), ('9mcqhxrfq', 458), ('completely', 1810), ('unreliable', 7514), ('yikes', 7970), ('ealing', 2502), ('colour', 1755), ('background', 1016), ('httpstcopt', 3646), ('agreed', 622), ('event', 2678), ('😅', 8114), ('🗣', 8108), ('celebrating', 1536), ('bed', 1114), ('phl', 5372), ('heads', 3366), ('shall', 6431), ('spanish', 6699), ('chip', 1633), ('🤣', 8177), ('browns', 1333), ('fav', 2826), ('character', 1577), ('sufficient', 6913), ('whoever', 7808), ('zero', 8000), ('150', 83), ('nope', 4989), ('upgrading', 7542), ('\\u200b', 8015), ('reminded', 5966), ('diff', 2272), ('jam', 3994), ('custard', 2037), ('packs', 5223), ('aren', 865), ('color', 1752), ('lights', 4373), ('successful', 6901), ('banned', 1060), ('magic', 4546), ('library', 4358), ('ps3', 5673), ('potential', 5529), ('ah', 625), ('chuck', 1656), ('karen', 4121), ('charles', 1588), ('phx', 5382), ('doubled', 2419), ('posted', 5520), ('publicly', 5680), ('httpstcoovakpb', 3642), ('0tyc', 23), ('curious', 2030), ('mary', 4611), ('daughter', 2097), ('homework', 3470), ('bofa', 1230), ('identification', 3752), ('valid', 7590), ('taylor', 7046), ('bankofamerica', 1058), ('emotional', 2583), ('crying', 2021), ('harry', 3329), ('uninstall', 7487), ('lancaster', 4254), ('incident', 3816), ('preston', 5578), ('disruption', 2350), ('zones', 8008), ('swr', 6989), ('16', 88), ('park', 5257), ('station', 6794), ('southampton', 6687), ('throughout', 7180), ('60', 339), ('tip', 7218), ('nearly', 4906), ('soooo', 6671), ('brought', 1331), ('65', 346), ('surprise', 6959), ('quoted', 5740), ('postmates', 5523), ('straight', 6846), ('calculated', 1415), ('rf', 6112), ('plain', 5429), ('rock', 6167), ('wouldn', 7903), ('addresskp', 559), ('flip', 2943), ('tables', 7005), ('amanda', 725), ('interruption', 3922), ('19', 102), ('biggest', 1157), ('signing', 6527), ('kayla', 4133), ('ain', 632), ('stephanie', 6810), ('attack', 940), ('brick', 1302), ('conflicting', 1842), ('specifics', 6716), ('expense', 2738), ('jeff', 4016), ('document', 2384), ('al', 662), ('forums', 3003), ('na', 4873), ('httpstcogijyeyqke', 3582), ('unpleasant', 7507), ('episode', 2634), ('mad', 4534), ('creating', 1989), ('efficient', 2543), ('healthy', 3369), ('nationwide', 4892), ('emojis', 2582), ('41', 253), ('detail', 2233), ('technology', 7071), ('messes', 4707), ('siri', 6551), ('boxed', 1270), ('marks', 4606), ('112', 56), ('screwed', 6330), ('saved', 6284), ('connections', 1853), ('isolate', 3963), ('httpstcoztw', 3712), ('54hl4rm', 305), ('autocorrecting', 969), ('reserve', 6034), ('spaces', 6695), ('httpstcohhfk', 3588), ('mcds', 4644), ('neveragain', 4931), ('namezipphone', 4879), ('legit', 4324), ('martha', 4609), ('activate', 532), ('fc', 2836), ('shell', 6450), ('processed', 5618), ('disgusted', 2333), ('increase', 3834), ('yngwie', 7972), ('46', 260), ('promote', 5644), ('defective', 2155), ('satisfaction', 6277), ('headphones', 3364), ('mm', 4779), ('packet', 5220), ('red', 5875), ('pepper', 5330), ('birthday', 1173), ('criminal', 2002), ('jo', 4051), ('circle', 1659), ('paula', 5298), ('wine', 7832), ('ink', 3870), ('gem', 3116), ('sweet', 6979), ('sharon', 6441), ('kellenf', 4147), ('restarted', 6065), ('accts', 519), ('httpstcogvc', 3584), ('4jaoa9c', 275), ('notice', 5009), ('credits', 1996), ('methods', 4712), ('frequent', 3031), ('flyer', 2955), ('frm', 3043), ('abt', 490), ('nights', 4962), ('ab', 476), ('2rt0l9n9cu', 194), ('laptop', 4265), ('shutting', 6506), ('warning', 7715), ('proceed', 5616), ('notcool', 5002), ('amc', 736), ('terry', 7098), ('crash', 1977), ('adfree', 562), ('rudest', 6210), ('patient', 5292), ('shes', 6452), ('loyal', 4500), ('denied', 2186), ('limit', 4381), ('6rokaqiws', 367), ('hollyadams', 3463), ('ph', 5365), ('states', 6791), ('den', 2185), ('bos', 1253), ('danielle', 2079), ('ms', 4846), ('jf', 4033), ('smiles', 6614), ('sf', 6425), ('davina', 2101), ('exp', 2728), ('carryon', 1496), ('counting', 1944), ('assume', 919), ('types', 7432), ('kudos', 4232), ('aateam', 474), ('buffering', 1352), ('storm', 6844), ('affecting', 600), ('football', 2978), ('switching', 6988), ('httpstcob', 3541), ('instore', 3895), ('rb', 5788), ('boost', 1247), ('nearest', 4905), ('occurs', 5059), ('messing', 4708), ('sd', 6335), ('journeys', 4079), ('nectar', 4908), ('property', 5656), ('wet', 7780), ('usps', 7577), ('svc', 6970), ('digital', 2283), ('1500', 84), ('informing', 3859), ('593juscquh', 312), ('misleading', 4762), ('overcharging', 5192), ('httpstcozfawy', 3706), ('0lkdu', 18), ('clubcard', 1716), ('eating', 2523), ('require', 6018), ('disappointing', 2310), ('suppose', 6951), ('indeed', 3840), ('✌', 8038), ('dots', 2417), ('ju', 4089), ('10am', 39), ('embarrassing', 2575), ('soggy', 6640), ('themselves', 7138), ('passengers', 5277), ('ban', 1047), ('kid', 4172), ('ethan', 2666), ('sharp', 6442), ('exit', 2727), ('clare', 1676), ('longest', 4464), ('ea', 2499), ('competition', 1800), ('expiration', 2747), ('ye', 7956), ('championship', 1565), ('ron', 6179), ('jared', 4004), ('fooling', 2975), ('typing', 7435), ('robot', 6165), ('effect', 2540), ('vg', 7631), ('created', 1988), ('worries', 7896), ('ease', 2514), ('supervisors', 6942), ('hanging', 3308), ('adults', 575), ('charlie', 1590), ('pie', 5397), ('highest', 3418), ('sammi', 6260), ('finest', 2897), ('4am', 267), ('kristin', 4226), ('lift', 4368), ('tracked', 7310), ('2016', 142), ('avocados', 986), ('rainbow', 5760), ('blessed', 1197), ('pot', 5526), ('gold', 3193), ('confidence', 1835), ('raise', 5761), ('corner', 1919), ('sealed', 6341), ('bite', 1178), ('ya', 7947), ('closes', 1706), ('ingredients', 3864), ('😷', 8158), ('nigeria', 4958), ('global', 3176), ('sleep', 6583), ('africa', 606), ('httpstcoet', 3560), ('1fu7xztb', 112), ('barbpelotte', 1064), ('claiming', 1672), ('advertisement', 585), ('limited', 4383), ('reimbursement', 5935), ('downgrade', 2426), ('yours', 7985), ('navigating', 4896), ('lasts', 4276), ('fire', 2905), ('ui', 7446), ('roku', 6173), ('😖', 8130), ('releasing', 5951), ('renewing', 5980), ('tyler', 7429), ('tz', 7437), ('ds', 2470), ('illegal', 3772), ('streams', 6856), ('ondemand', 5098), ('af', 596), ('soo', 6667), ('bull', 1361), ('charter', 1592), ('hung', 3722), ('planet', 5433), ('sprint', 6752), ('jn', 4050), ('sells', 6385), ('unusable', 7526), ('tc', 7053), ('lyft', 4522), ('uncomfortable', 7466), ('critical', 2007), ('93jojkltck', 444), ('jra', 4085), ('hook', 3480), ('promos', 5643), ('driving', 2461), ('wall', 7702), ('voicemail', 7671), ('ddd', 2110), ('signup', 6529), ('replacing', 5999), ('refunds', 5907), ('slim', 6590), ('supports', 6950), ('iam', 3738), ('folder', 2962), ('ids', 3758), ('permanent', 5347), ('httpstcomj', 3625), ('announce', 781), ('promotions', 5647), ('depending', 2202), ('codwwii', 1734), ('v', 7584), ('httpstcos', 3665), ('occasions', 5054), ('project', 5636), ('vendor', 7618), ('entered', 2620), ('design', 2217), ('doc', 2380), ('photoshop', 5380), ('xboxone', 7936), ('controller', 1897), ('regularly', 5930), ('permission', 5349), ('advertised', 584), ('11am', 60), ('vicky', 7636), ('attached', 938), ('angela', 770), ('dean', 2121), ('parents', 5255), ('trained', 7320), ('danger', 2075), ('monitor', 4805), ('flag', 2926), ('contacted', 1875), ('accordingly', 514), ('filters', 2886), ('appropriate', 847), ('spotted', 6747), ('tooth', 7280), ('locks', 4449), ('alcohol', 670), ('ws', 7921), ('shed', 6447), ('cinnamon', 1658), ('rolls', 6177), ('bakerycafe', 1039), ('dming', 2370), ('iced', 3743), ('ginger', 3152), ('thumbs', 7186), ('jetblue', 4032), ('puertorico', 5685), ('puerto', 5684), ('rico', 6128), ('fuel', 3062), ('jules', 4092), ('houston', 3512), ('recurring', 5870), ('recorded', 5861), ('comcast', 1762), ('💩', 8098), ('snap', 6627), ('movie', 4836), ('trail', 7318), ('qs', 5713), ('att', 936), ('x1', 7932), ('weekly', 7761), ('3am', 228), ('embarrassed', 2574), ('subscriber', 6893), ('discovered', 2325), ('dallas', 2065), ('stranger', 6850), ('julie', 4095), ('dubai', 2475), ('finding', 2894), ('afterwards', 610), ('held', 3385), ('documents', 2387), ('regulations', 5931), ('bins', 1167), ('kimbers', 4183), ('leigh', 4329), ('harder', 3325), ('yourselves', 7987), ('hk', 3442), ('priority', 5601), ('lanes', 4262), ('economy', 2529), ('jm', 4048), ('parking', 5259), ('spot', 6744), ('agree', 621), ('a380', 465), ('parked', 5258), ('philadelphia', 5367), ('attend', 945), ('cec', 1533), ('airports', 646), ('30min', 205), ('usa', 7562), ('prompts', 5651), ('refresh', 5901), ('rome', 6178), ('steve', 6814), ('xboxonex', 7937), ('1200', 67), ('lies', 4365), ('az', 1004), ('ld', 4299), ('forever', 2985), ('staying', 6801), ('slip', 6591), ('cheap', 1598), ('pa', 5212), ('aka', 661), ('electric', 2556), ('seatac', 6351), ('wthe', 7925), ('surely', 6956), ('courtney', 1959), ('certain', 1551), ('volunteers', 7675), ('natalie', 4887), ('easiest', 2516), ('market', 4603), ('pantry', 5246), ('grey', 3237), ('cartwheel', 1501), ('gj', 3161), ('events', 2679), ('decision', 2136), ('providers', 5669), ('orlando', 5158), ('columbus', 1756), ('visible', 7659), ('validity', 7592), ('requests', 6017), ('chrome', 1654), ('texas', 7105), ('lyrics', 4525), ('typical', 7433), ('issuer', 3967), ('imac', 3777), ('macos', 4533), ('laggy', 4249), ('performing', 5341), ('skips', 6576), ('2kzhr', 188), ('cheated', 1602), ('📱', 8104), ('unresponsive', 7517), ('aircraft', 637), ('24hrs', 160), ('gatwick', 3109), ('departure', 2198), ('imessage', 3782), ('communicate', 1780), ('swapped', 6976), ('inbound', 3811), ('sjc', 6566), ('winning', 7837), ('prize', 5607), ('catherine', 1518), ('attempts', 944), ('slowing', 6600), ('june', 4103), ('daily', 2061), ('willing', 7826), ('jessica', 4029), ('ceo', 1548), ('followdm', 2966), ('ss', 6760), ('conversations', 1903), ('folders', 2963), ('viewer', 7644), ('amend', 738), ('restricted', 6077), ('preventing', 5582), ('michael', 4724), ('jjs', 4044), ('eform', 2546), ('appeal', 824), ('8yjrd1xo0i', 436), ('httpstcoqhn', 3653), ('3ok8y2n', 241), ('genius', 3126), ('appointment', 841), ('sandwich', 6266), ('giant', 3144), ('disgusting', 2334), ('sainsburys', 6245), ('turkey', 7405), ('lunch', 4516), ('3qcaslfkay', 243), ('drunk', 2468), ('ladies', 4244), ('abusive', 492), ('fellow', 2858), ('behaviour', 1127), ('desired', 2220), ('sainsbury', 6244), ('horribly', 3493), ('unwatchable', 7530), ('xb1', 7934), ('ideas', 3750), ('bluray', 1214), ('httpstcoekxrlsnxju', 3559), ('happens', 3315), ('realtime', 5814), ('nn', 4973), ('reviewing', 6107), ('prompted', 5649), ('xmas', 7941), ('23rd', 156), ('twoday', 7423), ('refers', 5897), ('reputation', 6013), ('term', 7090), ('locate', 4439), ('disable', 2301), ('passcode', 5274), ('dat', 2090), ('wanting', 7708), ('emoji', 2581), ('names', 4878), ('appletv', 832), ('experts', 2746), ('httpstcoibiy', 3592), ('3vmgpj', 247), ('reboots', 5827), ('thus', 7189), ('billed', 1161), ('reflect', 5898), ('57', 308), ('kicked', 4169), ('insult', 3900), ('injury', 3869), ('remedy', 5963), ('sis', 6552), ('8nnr56eyf', 432), ('1z', 133), ('tarmac', 7032), ('safely', 6240), ('hjh', 3441), ('pool', 5486), ('allowance', 699), ('individual', 3847), ('etc', 2664), ('andrea', 764), ('samsung', 6261), ('galaxy', 3091), ('browse', 1334), ('lend', 4333), ('india', 3843), ('launching', 4287), ('countries', 1946), ('8d', 428), ('vsx', 7684), ('9qgm', 461), ('cancelation', 1442), ('surprised', 6960), ('uncarrier', 7465), ('kananib', 4119), ('landed', 4256), ('belt', 1134), ('movement', 4834), ('clt', 1714), ('pays', 5309), ('serve', 6405), ('plenty', 5460), ('companion', 1790), ('🙂', 8160), ('break', 1291), ('fruit', 3048), ('bananas', 1049), ('blast', 1195), ('☹', 8030), ('yellow', 7964), ('printing', 5597), ('hppsdr', 3525), ('ijkhelp', 3769), ('4mkcbyekg', 279), ('vinod', 7651), ('fax', 2834), ('ljhelp', 4422), ('greetings', 3234), ('peter', 5361), ('reboot', 5824), ('functional', 3071), ('several', 6422), ('displays', 2346), ('viewed', 7643), ('favorites', 2831), ('listings', 4407), ('gary', 3103), ('meanwhile', 4663), ('town', 7300), ('lists', 4408), ('unlimited', 7500), ('fastest', 2820), ('practices', 5543), ('ka', 4117), ('landline', 4258), ('nhp', 4947), ('undergoing', 7469), ('netflix', 4927), ('badge', 1027), ('atms', 934), ('stays', 6802), ('freedom', 3026), ('shitty', 6468), ('3g', 234), ('httpstcormapsv', 3660), ('qy', 5741), ('blowing', 1209), ('restoration', 6073), ('lara', 4267), ('techs', 7072), ('corrected', 1922), ('speaking', 6706), ('monitoring', 4806), ('da', 2058), ('dawn', 2102), ('5niyx3jhl', 325), ('virgin', 7654), ('america', 741), ('tunes', 7403), ('metal', 4710), ('mileage', 4741), ('ukihelp', 7448), ('fried', 3037), ('🤢', 8176), ('kr', 4221), ('continuing', 1891), ('haha', 3285), ('999', 452), ('february', 2843), ('🙈', 8164), ('shipment', 6456), ('ending', 2597), ('1000', 28), ('rs', 6204), ('wallet', 7703), ('autocorrect', 968), ('plugged', 5463), ('undo', 7474), ('horrendous', 3491), ('itunes', 3980), ('httpstcosdie', 3667), ('7uiyjn', 405), ('exclamation', 2713), ('shits', 6466), ('applecare', 830), ('interesting', 3913), ('rating', 5784), ('stars', 6779), ('directions', 2296), ('httpstcoqdn', 3650), ('91hzzv0', 442), ('bottle', 1260), ('httpstconckenqdmxq', 3630), ('hvi', 3732), ('lga', 4350), ('spare', 6700), ('marcus', 4595), ('reaches', 5799), ('detailed', 2234), ('devs', 2249), ('operated', 5126), ('earn', 2508), ('calculator', 1416), ('obtain', 5049), ('notimpressed', 5018), ('dani', 2077), ('probably', 5610), ('extend', 2762), ('rebooted', 5825), ('privately', 5604), ('saving', 6287), ('taryns', 7033), ('sucking', 6906), ('gisellem', 3156), ('highly', 3420), ('bro', 1319), ('mailing', 4554), ('lastly', 4275), ('kinda', 4186), ('hop', 3483), ('headed', 3361), ('washington', 7722), ('tour', 7295), ('woohoo', 7879), ('adventure', 580), ('uni', 7485), ('remember', 5964), ('op', 5120), ('solid', 6643), ('banks', 1059), ('exist', 2723), ('unique', 7491), ('suit', 6920), ('pe', 5315), ('treating', 7348), ('fault', 2823), ('💃', 8089), ('dry', 2469), ('🚮', 8169), ('falls', 2802), ('offices', 5074), ('appt', 856), ('\\U0001f92f', 8183), ('tt', 7393), ('dust', 2487), ('md', 4652), ('horizon', 3490), ('verifying', 7623), ('spam', 6697), ('clicked', 1695), ('steam', 6806), ('inquiry', 3875), ('bw', 1396), ('reader', 5803), ('editing', 2535), ('images', 3779), ('import', 3792), ('crashing', 1980), ('raj', 5764), ('antonio', 796), ('reinstalled', 5937), ('pp', 5537), ('pat', 5287), ('restarts', 6067), ('existing', 2725), ('boots', 1250), ('encountering', 2593), ('campaign', 1436), ('normally', 4993), ('crewmember', 2000), ('levels', 4346), ('complaining', 1805), ('dialing', 2256), ('kayjay', 4132), ('pathetic', 5290), ('fuckin', 3059), ('guaranteed', 3255), ('5pm', 327), ('bo', 1219), ('pj', 5420), ('pants', 5247), ('discretion', 2326), ('asurion', 924), ('insurance', 3901), ('scam', 6298), ('replaced', 5996), ('cracked', 1972), ('filing', 2880), ('packed', 5219), ('replace', 5995), ('attach', 937), ('teach', 7062), ('developers', 2244), ('2x', 197), ('orderaccount', 5149), ('comfort', 1767), ('strong', 6869), ('lmao', 4426), ('appstore', 855), ('remaining', 5960), ('net', 4926), ('bandwidth', 1051), ('road', 6156), ('fulfill', 3063), ('operators', 5132), ('tdl', 7059), ('refuse', 5909), ('replying', 6003), ('appalling', 821), ('mastercard', 4617), ('linda', 4385), ('lo', 4429), ('adw', 594), ('throttle', 7177), ('valeriep', 7589), ('😫', 8147), ('dang', 2074), ('robert', 6163), ('faster', 2819), ('slightly', 6589), ('inches', 3815), ('legroom', 4327), ('rudeness', 6209), ('basic', 1075), ('8004337300', 416), ('intent', 3908), ('covered', 1964), ('careful', 1473), ('valuable', 7594), ('wing', 7833), ('dance', 2073), ('contest', 1886), ('seamless', 6342), ('accepting', 500), ('tests', 7104), ('brain', 1280), ('mid', 4729), ('gloves', 3177), ('animals', 775), ('dollar', 2395), ('thread', 7170), ('4k', 277), ('hopeless', 3487), ('causes', 1524), ('julia', 4093), ('nfl', 4942), ('portal', 5501), ('commercials', 1775), ('footage', 2977), ('improvement', 3802), ('painful', 5232), ('notify', 5016), ('indicates', 3846), ('hub', 3715), ('sorting', 6677), ('roaming', 6157), ('whatever', 7785), ('fox', 3011), ('furious', 3080), ('num', 5030), ('register', 5922), ('advent', 579), ('snow', 6631), ('retailer', 6086), ('authorization', 963), ('requesting', 6016), ('countless', 1945), ('residence', 6039), ('breach', 1289), ('queues', 5729), ('backed', 1015), ('transactions', 7324), ('adventures', 581), ('september', 6399), ('vm', 7667), ('pw', 5708), ('suddenly', 6909), ('rejected', 5940), ('🖕', 8107), ('boa', 1221), ('overdraft', 5195), ('httpstcoheo', 3587), ('tellers', 7078), ('computers', 1821), ('uploads', 7546), ('greater', 3229), ('rgdsmohit', 6115), ('dated', 2094), ('busiest', 1380), ('amr', 752), ('upcoming', 7533), ('hall', 3291), ('toast', 7250), ('complex', 1813), ('fulfilled', 3064), ('va', 7586), ('dangerous', 2076), ('bike', 1159), ('practically', 5541), ('speaks', 6707), ('1k', 116), ('shipper', 6459), ('ks', 4227), ('doordash', 2413), ('dmd', 2368), ('easily', 2517), ('lm', 4425), ('blue', 1211), ('profiles', 5629), ('dd', 2109), ('unauthorized', 7459), ('activity', 539), ('vb', 7609), ('nothappy', 5007), ('li', 4354), ('4lamz3tbe', 278), ('attempting', 943), ('flash', 2930), ('radio', 5754), ('stations', 6795), ('varies', 7602), ('fixit', 2923), ('glitches', 3172), ('magically', 4548), ('became', 1107), ('coincidence', 1738), ('challenge', 1561), ('completing', 1811), ('vip', 7653), ('eastern', 2519), ('beats', 1104), ('checks', 1612), ('tokyo', 7261), ('9c', 454), ('lesley', 4335), ('above', 485), ('beyond', 1148), ('heathrow', 3378), ('httpstcogamfrasnx', 3578), ('🌟', 8051), ('patrickullmann', 5296), ('beautiful', 1105), ('slide', 6587), ('sender', 6388), ('military', 4743), ('personnel', 5357), ('hkm', 3444), ('courtesy', 1958), ('mandatory', 4581), ('km', 4205), ('oak', 5045), ('comp', 1788), ('announcements', 784), ('shittiest', 6467), ('stomach', 6832), ('hurts', 3728), ('combination', 1758), ('rn', 6154), ('actual', 541), ('boys', 1276), ('triple', 7363), ('significantly', 6525), ('improved', 3801), ('clutch', 1720), ('nicky', 4954), ('six', 6561), ('claire', 1674), ('airs', 647), ('fj', 2924), ('roof', 6180), ('residential', 6041), ('bundle', 1368), ('licenses', 4360), ('httpstcowatnmgs', 3688), ('37z', 222), ('unbelievably', 7463), ('buggy', 1355), ('easier', 2515), ('premiere', 5560), ('bo3', 1220), ('configuration', 1837), ('sub', 6886), ('httpstcoeypi', 3564), ('1mphgm', 117), ('hii', 3423), ('whatsoever', 7788), ('tracker', 7311), ('spinach', 6734), ('topping', 7284), ('medical', 4668), ('supplies', 6945), ('declined', 2140), ('manhattan', 4583), ('brooklyn', 1328), ('messaged', 4702), ('hyc', 3735), ('bread', 1290), ('preordering', 5564), ('mess', 4700), ('anxious', 799), ('purchasing', 5697), ('freeze', 3027), ('rp', 6202), ('gemma', 3117), ('revealing', 6099), ('rack', 5751), ('podcast', 5472), ('skip', 6574), ('clears', 1692), ('52', 301), ('math', 4624), ('rear', 5815), ('rely', 5958), ('smoke', 6616), ('unplugged', 7509), ('disaster', 2312), ('mbp', 4635), ('charger', 1582), ('ratings', 5785), ('determined', 2239), ('split', 6737), ('httpstcoohfgxsay', 3639), ('58', 309), ('bitch', 1177), ('dick', 2261), ('rocks', 6170), ('aaron', 473), ('httpstcoxdwwzj', 3694), ('7clp', 395), ('spoiled', 6738), ('onions', 5108), ('gabe', 3089), ('dip', 2292), ('development', 2245), ('north', 4994), ('commitment', 1777), ('followers', 2968), ('lc', 4298), ('brent', 1298), ('base', 1072), ('💯', 8100), ('impact', 3787), ('numerous', 5035), ('enable', 2589), ('downloads', 2432), ('httpstcoooaq', 3640), ('76kzaa', 384), ('cruise', 2015), ('cheers', 1616), ('deposited', 2206), ('issued', 3966), ('9th', 462), ('factors', 2787), ('source', 6685), ('depends', 2203), ('various', 7604), ('cox', 1966), ('reconnect', 5858), ('ne', 4902), ('greg', 3235), ('ct', 2025), ('maria', 4596), ('deleted', 2165), ('therefore', 7141), ('sir', 6550), ('struggling', 6873), ('convert', 1904), ('postpaid', 5524), ('prepaid', 5566), ('communicated', 1781), ('prashant', 5547), ('revert', 6104), ('recharged', 5843), ('24th', 161), ('darshan', 2086), ('httpstcolbfzglcsfr', 3608), ('inspiron', 3884), ('5000', 298), ('dead', 2115), ('lemon', 4331), ('diagnostics', 2254), ('hardware', 3327), ('routes', 6195), ('cal', 1414), ('wings', 7834), ('lisa', 4399), ('30mins', 206), ('httpstcoexwzpnpj', 3563), ('8c', 427), ('blacked', 1186), ('carrying', 1495), ('merchandising', 4696), ('fight', 2873), ('kimberly', 4182), ('gh', 3142), ('applications', 836), ('transport', 7331), ('neither', 4922), ('permanently', 5348), ('unblock', 7464), ('9pm', 460), ('mailbox', 4552), ('newest', 4937), ('processes', 5619), ('backing', 1017), ('httpstcomf', 3623), ('swipe', 6984), ('died', 2267), ('mate', 4622), ('mint', 4758), ('bastards', 1081), ('httpstcooeoanqfpjc', 3637), ('httpstcodinr', 3555), ('3racif', 244), ('resume', 6084), ('festive', 2863), ('laura', 4288), ('wide', 7817), ('sizes', 6564), ('boston', 1255), ('mv', 4864), ('tofrom', 7255), ('girl', 3153), ('smell', 6610), ('continues', 1890), ('relationship', 5944), ('🔥', 8106), ('laugh', 4283), ('loud', 4484), ('realized', 5812), ('golf', 3195), ('burn', 1373), ('rebooting', 5826), ('est', 2657), ('known', 4215), ('😴', 8155), ('slight', 6588), ('impacted', 3788), ('ce348780', 1532), ('ryan', 6228), ('recover', 5865), ('newcastle', 4934), ('mf', 4716), ('fingers', 2899), ('crossed', 2010), ('kill', 4176), ('deactivate', 2113), ('built', 1359), ('graphics', 3225), ('wire', 7841), ('unfair', 7478), ('everyday', 2685), ('threatening', 7172), ('operator', 5131), ('combined', 1760), ('domestic', 2400), ('entitled', 2625), ('kg', 4164), ('kh', 4165), ('itinerary', 3976), ('mariya', 4600), ('typo', 7436), ('todays', 7252), ('ends', 2599), ('popular', 5496), ('mouldy', 4828), ('refunded', 5905), ('christopher', 1653), ('🎁', 8060), ('pit', 5414), ('🍕', 8056), ('nicole', 4956), ('ticketing', 7195), ('nightmare', 4961), ('assign', 907), ('greedy', 3232), ('unethical', 7475), ('assignments', 910), ('honor', 3476), ('dublin', 2476), ('unexpected', 7476), ('safari', 6237), ('ummm', 7454), ('mile', 4740), ('insane', 3877), ('theyll', 7146), ('workaround', 7884), ('tower', 7298), ('trade', 7315), ('mouth', 4831), ('treatment', 7349), ('boyfriend', 1275), ('pjs', 5421), ('burnt', 1375), ('forgotten', 2990), ('airtel', 648), ('swap', 6975), ('anopo', 789), ('figured', 2876), ('rl', 6151), ('honey', 3473), ('glazed', 3169), ('peanuts', 5319), ('hawaii', 3345), ('thurs', 7187), ('industry', 3850), ('wiped', 7840), ('favor', 2829), ('nature', 4894), ('bob', 1226), ('g', 3086), ('sneaky', 6629), ('showtime', 6500), ('jacked', 3988), ('programming', 5633), ('allison', 696), ('integration', 3903), ('fortnite', 3000), ('activating', 534), ('atrocious', 935), ('jack', 3987), ('apparent', 822), ('generally', 3121), ('werent', 7776), ('guidelines', 3265), ('coupon', 1951), ('ri', 6120), ('nh', 4945), ('desperately', 2225), ('command', 1771), ('360', 219), ('bills', 1163), ('6th', 369), ('nos', 4998), ('race', 5745), ('stunning', 6882), ('hiccup', 3412), ('gtgtgt', 3250), ('retrieve', 6090), ('tix', 7223), ('miza', 4774), ('addon', 553), ('kul', 4233), ('veg', 7611), ('disgrace', 2331), ('investigated', 3935), ('gtgt', 3249), ('ref', 5891), ('ian', 3739), ('preferred', 5557), ('thankssha', 7126), ('biz', 1181), ('plat', 5439), ('explanation', 2757), ('brian', 1301), ('scott', 6320), ('slices', 6586), ('infinite', 3853), ('jade', 3992), ('alexis', 679), ('bell', 1131), ('upper', 7548), ('excessive', 2708), ('mrp', 4844), ('timer', 7211), ('hands', 3304), ('facetime', 2781), ('activation', 535), ('symbols', 6993), ('features', 2841), ('snapchat', 6628), ('virus', 7657), ('pounds', 5533), ('equal', 2637), ('contd', 1883), ('suspect', 6964), ('2ygtgjua', 200), ('nuggets', 5029), ('lid', 4362), ('mums', 4861), ('carrots', 1493), ('broccoli', 1323), ('cauliflower', 1521), ('batteries', 1085), ('lolly', 4460), ('oi', 5082), ('channeyt', 1574), ('sisters', 6554), ('hunt', 3724), ('spell', 6725), ('handles', 3302), ('restaurants', 6069), ('withdrawal', 7852), ('chosen', 1646), ('toilet', 7258), ('notch', 5001), ('horror', 3496), ('purpose', 5699), ('livid', 4418), ('application', 835), ('bf', 1149), ('calm', 1428), ('decorations', 2142), ('tab', 7003), ('4jugtzxaj7', 276), ('mix', 4771), ('caught', 1520), ('forwarding', 3006), ('pausing', 5300), ('ff', 2866), ('httpstcorjjbp', 3659), ('5u0fj', 333), ('finale', 2889), ('clips', 1700), ('extras', 2767), ('gen', 3118), ('generation', 3123), ('maine', 4557), ('gifts', 3147), ('disruptions', 2351), ('cont', 1873), ('lagging', 4248), ('vue', 7686), ('airasia', 635), ('assisted', 914), ('peek', 5320), ('💜', 8097), ('young', 7980), ('danny', 2082), ('nintendo', 4967), ('discounted', 2322), ('naomi', 4882), ('holds', 3458), ('quesadilla', 5724), ('httpstcofusmrwstis', 3573), ('contents', 1885), ('taco', 7010), ('dirty', 2298), ('stale', 6769), ('finger', 2898), ('tomatoes', 7267), ('cooked', 1908), ('sarcasm', 6273), ('nobody', 4976), ('improvements', 3803), ('jesus', 4030), ('potato', 5527), ('potatoes', 5528), ('soft', 6638), ('cars', 1497), ('bits', 1180), ('gods', 3188), ('lettuce', 4344), ('verified', 7621), ('winner', 7835), ('coffee', 1736), ('material', 4623), ('raw', 5786), ('beach', 1098), ('husbands', 3730), ('tastes', 7038), ('pile', 5402), ('crunch', 2016), ('ruin', 6212), ('tomato', 7266), ('cuz', 2050), ('ran', 5767), ('packets', 5221), ('reevaluate', 5890), ('smashed', 6609), ('written', 7917), ('350', 216), ('fries', 3041), ('dessert', 2227), ('fighting', 2874), ('godaddy', 3186), ('reece', 5889), ('wrote', 7920), ('determine', 2238), ('witnessed', 7856), ('reports', 6007), ('skymiles', 6579), ('thursday', 7188), ('magical', 4547), ('mandy', 4582), ('ourselves', 5170), ('reminder', 5967), ('yuck', 7993), ('citizen', 1665), ('lesson', 4338), ('input', 3872), ('flagship', 2929), ('carriers', 1491), ('beauty', 1106), ('un', 7455), ('te', 7060), ('diane', 2260), ('kim', 4180), ('🙁', 8159), ('paint', 5233), ('skin', 6573), ('resident', 6040), ('california', 1419), ('deck', 2138), ('powering', 5536), ('modemrouter', 4791), ('🤞', 8175), ('alyssa', 723), ('rights', 6138), ('bet', 1141), ('httpstcoldfdzr', 3609), ('1cbt', 110), ('alot', 709), ('keith', 4145), ('effective', 2541), ('age', 614), ('offline', 5077), ('destiny', 2230), ('external', 2765), ('fund', 3075), ('cubs', 2026), ('efforts', 2545), ('jg', 4035), ('kansas', 4120), ('tweeted', 7415), ('brenda', 1297), ('replies', 6001), ('httpstcoklp', 3605), ('3bgezjr', 230), ('hong', 3475), ('kong', 4218), ('chinese', 1632), ('match', 4619), ('ln', 4428), ('screw', 6329), ('static', 6792), ('ip', 3946), ('addresses', 556), ('partial', 5262), ('bluebird', 1212), ('pr', 5539), ('procedures', 5615), ('rocket', 6168), ('recieved', 5845), ('storage', 6839), ('ships', 6461), ('joined', 4065), ('websites', 7752), ('insert', 3878), ('inconvenient', 3831), ('49', 264), ('supervisor', 6941), ('ala', 663), ('reunited', 6098), ('detroit', 2240), ('phoenix', 5373), ('benjamin', 1138), ('needing', 4912), ('ex', 2696), ('utter', 7581), ('andre', 763), ('waived', 7694), ('blanket', 1193), ('families', 2805), ('los', 4476), ('angeles', 771), ('requires', 6022), ('managing', 4578), ('remind', 5965), ('assure', 921), ('ping', 5407), ('powered', 5535), ('redcard', 5876), ('5ksyudd6k', 323), ('dialup', 2257), ('becca', 1109), ('bryan', 1340), ('installation', 3887), ('responsibility', 6060), ('pet', 5359), ('protected', 5660), ('bless', 1196), ('hotel', 3504), ('suite', 6923), ('kimpton', 4184), ('praise', 5545), ('excitement', 2711), ('advert', 582), ('hilton', 3427), ('hampton', 3296), ('inn', 3871), ('bites', 1179), ('legs', 4328), ('arms', 870), ('enjoyable', 2611), ('position', 5511), ('oa', 5044), ('yearly', 7960), ('ihg', 3766), ('ti', 7191), ('cos', 1928), ('unexpectedly', 7477), ('timely', 7210), ('understanding', 7472), ('zh', 8001), ('httpstcobeaadm', 3544), ('0muc', 19), ('looked', 4467), ('actions', 531), ('cmon', 1723), ('wi', 7815), ('correctly', 1925), ('brittany', 1318), ('referral', 5894), ('q', 5709), ('earning', 2510), ('sea', 6338), ('abn', 482), ('ton', 7270), ('hdg', 3354), ('refusing', 5912), ('handling', 3303), ('delivers', 2178), ('downtown', 2434), ('designed', 2219), ('leaves', 4316), ('angry', 773), ('stood', 6834), ('43', 255), ('disturbing', 2357), ('circumstances', 1661), ('conference', 1834), ('drinking', 2453), ('jt', 4088), ('fans', 2810), ('callchat', 1422), ('✅', 8035), ('bridge', 1304), ('fx', 3084), ('impacting', 3789), ('bab', 1011), ('59', 311), ('httpstcouumndrifmj', 3682), ('pets', 5363), ('expectation', 2732), ('erica', 2642), ('homes', 3469), ('andor', 762), ('harassing', 3321), ('tested', 7102), ('landscape', 4260), ('hiya', 3439), ('3000', 204), ('gender', 3119), ('assigned', 908), ('mast', 4615), ('uo', 7531), ('probs', 5613), ('elses', 2567), ('repeated', 5992), ('logistics', 4456), ('lj', 4421), ('shuts', 6505), ('stops', 6838), ('buffer', 1351), ('8mvhmfz83h', 431), ('7bhuqnds6', 393), ('httpstcoujm', 3680), ('15vmmm2', 87), ('5t', 330), ('mixed', 4772), ('httpstcolqvgko', 3615), ('4zo3', 294), ('riders', 6132), ('httpstcoaz', 3540), ('apples', 831), ('weren', 7775), ('nine', 4966), ('tina', 7216), ('payed', 5304), ('tmobiletuesdays', 7243), ('glitched', 3171), ('chelsea', 1618), ('sr', 6758), ('awkward', 998), ('convinced', 1906), ('😨', 8144), ('sims', 6540), ('liked', 4375), ('mask', 4612), ('tasty', 7039), ('tj', 7224), ('sw', 6971), ('incomplete', 3825), ('purposes', 5700), ('113', 57), ('😲', 8153), ('led', 4318), ('spelling', 6726), ('rose', 6185), ('pdf', 5313), ('prestige', 5577), ('master', 4616), ('multiplayer', 4857), ('zombie', 8005), ('intel', 3905), ('gateway', 3107), ('king', 4193), ('redemption', 5880), ('cleared', 1689), ('nm', 4972), ('cx', 2052), ('marketplace', 4605), ('redownload', 5884), ('lovethebear', 4495), ('sophie', 6673), ('coast', 1728), ('boeing', 1229), ('maeghan', 4541), ('bangkok', 1054), ('asia', 894), ('law', 4290), ('hh', 3410), ('dad', 2059), ('body', 1228), ('clothes', 1709), ('attitude', 949), ('drained', 2441), ('zach', 7997), ('quiet', 5735), ('😆', 8115), ('sooooo', 6672), ('passes', 5278), ('sandwiches', 6267), ('cheddar', 1613), ('tiffany', 7200), ('arbys', 860), ('jordan', 4073), ('french', 3030), ('jus', 4105), ('downhill', 2428), ('crisp', 2003), ('yum', 7994), ('mayo', 4633), ('brief', 1306), ('alexandra', 678), ('abby', 478), ('bigger', 1156), ('straw', 6851), ('stick', 6816), ('roast', 6158), ('sticks', 6820), ('cookie', 1909), ('crispy', 2005), ('1030', 35), ('tx', 7425), ('massively', 4614), ('dine', 2288), ('nicest', 4950), ('grant', 3223), ('sugar', 6914), ('bacon', 1024), ('🍟', 8057), ('grand', 3220), ('dining', 2290), ('megan', 4674), ('christian', 1649), ('kd', 4138), ('draining', 2442), ('acting', 529), ('horrific', 3495), ('acknowledge', 524), ('mall', 4570), ('3myknjaan', 240), ('carrot', 1492), ('petrol', 5362), ('ellie', 2565), ('930', 443), ('ek', 2552), ('uploaded', 7544), ('0i8gpimuda', 17), ('rickk', 6126), ('somethings', 6656), ('cap', 1457), ('personally', 5356), ('wen', 7771), ('😇', 8116), ('ate', 927), ('hood', 3479), ('foot', 2976), ('1hr', 114), ('katherine', 4126), ('specialists', 6711), ('swa', 6972), ('resource', 6051), ('autoplay', 974), ('typically', 7434), ('increases', 3836), ('firestick', 2908), ('secret', 6359), ('warner', 7714), ('ignoring', 3765), ('nerve', 4923), ('lineup', 4392), ('sometime', 6657), ('sapphire', 6270), ('indonesia', 3849), ('intl', 3925), ('swift', 6980), ('transfers', 7328), ('arrangement', 874), ('excuses', 2717), ('confirming', 1841), ('developer', 2243), ('scorpio', 6318), ('fibre', 2870), ('400', 251), ('idiot', 3755), ('eggs', 2549), ('sized', 6563), ('aisha', 651), ('stairs', 6768), ('🏿', 8072), ('boxing', 1272), ('oven', 5186), ('couldve', 1939), ('sos', 6678), ('7pm', 403), ('vodafone', 7669), ('infrastructure', 3860), ('invoices', 3943), ('weed', 7757), ('ak', 660), ('th', 7115), ('30th', 207), ('tht', 7185), ('vat', 7608), ('ear', 2503), ('workout', 7889), ('pos', 5510), ('cell', 1538), ('uberpool', 7441), ('5x', 336), ('trips', 7365), ('incorrectly', 3833), ('responses', 6059), ('peak', 5317), ('shameful', 6434), ('darren', 2085), ('helpline', 3394), ('incredible', 3838), ('melj', 4680), ('thieves', 7150), ('wrapped', 7911), ('ugly', 7444), ('norm', 4991), ('dream', 2447), ('esp', 2653), ('rebooking', 5823), ('ali', 683), ('delaying', 2162), ('estimate', 2659), ('1112', 55), ('podcasts', 5473), ('1111', 54), ('4f8hwt5to6', 271), ('ng', 4944), ('manually', 4586), ('dnt', 2376), ('hv', 3731), ('girls', 3155), ('engine', 2603), ('lisi', 4400), ('quiz', 5738), ('fool', 2974), ('httpstcors', 3662), ('49hgaadf', 266), ('custom', 2038), ('explained', 2754), ('interrupted', 3921), ('tforce', 7112), ('incompetence', 3823), ('plate', 5440), ('increased', 3835), ('legal', 4323), ('enquiry', 2615), ('2000', 137), ('flown', 2951), ('42', 254), ('wheels', 7791), ('🤘', 8173), ('dt', 2472), ('je', 4014), ('ce', 1531), ('island', 3960), ('2g', 182), ('aadhar', 469), ('database', 2092), ('production', 5623), ('auction', 951), ('units', 7494), ('illegally', 3773), ('lounges', 4489), ('gk', 3162), ('pune', 5693), ('reachable', 5797), ('nt', 5028), ('speedy', 6724), ('clr', 1713), ('solved', 6648), ('frame', 3015), ('satisfied', 6278), ('tryna', 7387), ('unfriendly', 7482), ('gc', 3113), ('httpstcoioszeehzhq', 3595), ('httpstcobalq', 3542), ('3eyso6', 233), ('phoned', 5376), ('brazil', 1288), ('band', 1050), ('limits', 4384), ('upside', 7552), ('mornings', 4816), ('moms', 4799), ('shooting', 6476), ('wout', 7906), ('regional', 5920), ('monopoly', 4807), ('fridge', 3036), ('activision', 538), ('ambassador', 734), ('death', 2123), ('switches', 6987), ('dash', 2088), ('boards', 1225), ('timed', 7207), ('browsers', 1336), ('bonga', 1236), ('basis', 1079), ('hire', 3432), ('sydney', 6991), ('ed', 2530), ('beat', 1103), ('opposite', 5137), ('chad', 1558), ('queen', 5720), ('dv', 2490), ('discover', 2324), ('solutions', 6646), ('lousy', 4490), ('existent', 2724), ('03', 7), ('flowers', 2950), ('rcvd', 5791), ('dial', 2255), ('weather', 7747), ('credentials', 1992), ('httpstcomd', 3620), ('7v036ooc', 406), ('exists', 2726), ('ubers', 7442), ('httpstcolyqxfbvdyk', 3617), ('planning', 5436), ('usd', 7566), ('scene', 6309), ('rhuari', 6118), ('baked', 1037), ('slice', 6585), ('pleasehelp', 5458), ('suitcase', 6922), ('dj', 2363), ('terril', 7097), ('kaew', 4118), ('spoke', 6739), ('atlanta', 930), ('lowest', 4499), ('7y', 411), ('wouldve', 7905), ('gin', 3151), ('allan', 692), ('wwe', 7928), ('speculate', 6720), ('blood', 1206), ('awhile', 997), ('cw', 2051), ('genuinely', 3129), ('national', 4891), ('reimbursed', 5934), ('samantha', 6258), ('cargo', 1476), ('mpesa', 4840), ('mahindra', 4549), ('virtual', 7656), ('exchange', 2709), ('carefully', 1474), ('clarification', 1677), ('scheme', 6315), ('recd', 5831), ('au', 950), ('httpstcovlvfjr', 3684), ('4nn9', 280), ('sq', 6754), ('unforeseen', 7479), ('internally', 3917), ('colleague', 1743), ('emailing', 2572), ('reimburse', 5933), ('rerouted', 6024), ('paytm', 5310), ('httpstcoyqihbgrnqi', 3703), ('women', 7869), ('zc', 7998), ('dish', 2335), ('saves', 6286), ('600', 340), ('1010', 32), ('rule', 6216), ('ana', 760), ('southwestairlines', 6690), ('sec', 6356), ('century', 1546), ('removing', 5974), ('floor', 2947), ('southern', 6688), ('gwr', 3274), ('zw', 8011), ('pincode', 5406), ('varsha', 7605), ('dmthanksemir', 2373), ('floi', 2946), ('justice', 4107), ('august', 955), ('destroyed', 2232), ('construction', 1870), ('trend', 7353), ('dammit', 2069), ('operational', 5129), ('httpstcotxk', 3676), ('11znixd', 64), ('consumer', 1871), ('sue', 6910), ('jc', 4012), ('addressing', 557), ('seek', 6368), ('gv', 3272), ('headache', 3360), ('announcement', 783), ('shweta', 6508), ('elderly', 2555), ('soup', 6683), ('precious', 5553), ('memories', 4685), ('thousand', 7168), ('resets', 6037), ('😣', 8139), ('native', 4893), ('path', 5289), ('fork', 2991), ('controls', 1899), ('lindsey', 4388), ('shruti', 6501), ('combo', 1761), ('api', 814), ('west', 7777), ('deducted', 2145), ('parcels', 5253), ('organization', 5155), ('admin', 566), ('highlight', 3419), ('toddler', 7254), ('sailing', 6243), ('exclusive', 2714), ('matching', 4621), ('hence', 3397), ('wherever', 7798), ('fulfillment', 3065), ('httpstcosjsqq', 3670), ('8ofrq', 433), ('yep', 7965), ('performed', 5340), ('nashville', 4884), ('scared', 6306), ('bathroom', 1084), ('1am', 109), ('ddg', 2111), ('summer', 6928), ('nd', 4901), ('shake', 6430), ('hurricane', 3725), ('relief', 5956), ('rental', 5982), ('yogita', 7975), ('envelope', 2628), ('inr', 3876), ('499', 265), ('00q4sqj9zl', 3), ('httpstconuup', 3635), ('5mlhyl', 324), ('slowest', 6599), ('fu', 3056), ('4edpcvzoi', 270), ('httpstcoqy', 3656), ('favourite', 2832), ('clothing', 1710), ('fl', 2925), ('s8', 6232), ('departs', 2197), ('erik', 2643), ('film', 2884), ('festival', 2862), ('comfy', 1769), ('mel', 4676), ('wires', 7844), ('physically', 5384), ('shift', 6454), ('derek', 2210), ('deplane', 2204), ('unit', 7492), ('reschedule', 6026), ('regretted', 5928), ('osebi', 5161), ('kreme', 4222), ('sides', 6513), ('beware', 1147), ('stocks', 6828), ('specialist', 6710), ('si', 6509), ('tied', 7197), ('needful', 4911), ('reopen', 5983), ('correspondence', 1926), ('amazonindia', 731), ('sv', 6969), ('opted', 5140), ('associate', 916), ('assholes', 906), ('virginia', 7655), ('bradley', 1279), ('98', 450), ('refurbished', 5908), ('badservice', 1029), ('xs', 7944), ('ricky', 6127), ('blame', 1190), ('queens', 5721), ('clock', 1701), ('ii', 3767), ('shirt', 6462), ('gear', 3115), ('throwing', 7182), ('fell', 2857), ('water', 7735), ('serial', 6400), ('httpstcojf', 3598), ('6lqbuaqm', 364), ('suspend', 6965), ('suspension', 6967), ('overcharged', 5191), ('outrageous', 5181), ('bye', 1400), ('texted', 7107), ('placing', 5428), ('subscribers', 6894), ('oneday', 5100), ('nr', 5025), ('japan', 4003), ('stressed', 6861), ('suitable', 6921), ('2t6dqoumnz', 195), ('hack', 3280), ('httpstcokgixas', 3604), ('5cxg', 317), ('pin', 5405), ('residents', 6042), ('72', 377), ('anne', 778), ('deposit', 2205), ('citi', 1662), ('specified', 6717), ('capture', 1464), ('900', 439), ('et', 2662), ('sucked', 6905), ('pins', 5409), ('rates', 5782), ('george', 3130), ('cry', 2020), ('recipient', 5847), ('troublewe', 7374), ('shirts', 6463), ('⭐', 8045), ('choices', 1641), ('ul', 7449), ('neighbors', 4918), ('customs', 2045), ('comprehend', 1818), ('fluctuations', 2953), ('mens', 4689), ('94', 447), ('unavailable', 7460), ('stickers', 6818), ('sm', 6603), ('ajy', 658), ('balls', 1045), ('baltimore', 1046), ('kerry', 4153), ('frequently', 3032), ('deadline', 2116), ('deserves', 2216), ('ec', 2527), ('irritating', 3957), ('convenient', 1901), ('nonrefundable', 4984), ('plays', 5452), ('locating', 4441), ('perform', 5338), ('models', 4789), ('porting', 5503), ('bot', 1256), ('temp', 7081), ('began', 1120), ('rolled', 6175), ('estimates', 2661), ('executives', 2720), ('pleas', 5454), ('shambles', 6432), ('toll', 7264), ('gst', 3247), ('lewis', 4347), ('owners', 5207), ('rc', 5790), ('guildford', 3266), ('waterloo', 7736), ('engineering', 2605), ('withdraw', 7851), ('flex', 2937), ('bundles', 1369), ('harassed', 3320), ('regardssneha', 5918), ('gb', 3112), ('feelings', 2852), ('horrid', 3494), ('hotels', 3505), ('expensive', 2740), ('dale', 2064), ('competitive', 1801), ('publish', 5681), ('31st', 209), ('redmi', 5883), ('₹', 8027), ('15mins', 85), ('outbound', 5174), ('2am', 176), ('accepted', 499), ('tablet', 7006), ('747', 381), ('avgeek', 983), ('twc', 7413), ('gladly', 3165), ('millions', 4746), ('coventry', 1961), ('charity', 1587), ('consideration', 1860), ('nap', 4883), ('tje', 7225), ('cancellations', 1446), ('depot', 2208), ('wn', 7862), ('nonsense', 4985), ('rgdspradnya', 6116), ('jose', 4074), ('hows', 3516), ('22hr', 151), ('scammed', 6299), ('couk', 1935), ('👿', 8086), ('11th', 62), ('ownership', 5208), ('cleaning', 1686), ('liquid', 4398), ('penalty', 5324), ('280', 172), ('mbs', 4637), ('cat', 1509), ('applicable', 834), ('rise', 6147), ('bristol', 1314), ('cheapest', 1600), ('outlook', 5180), ('carriage', 1486), ('heating', 3379), ('loan', 4435), ('approved', 851), ('emergency', 2576), ('51', 299), ('safaricom', 6238), ('reminders', 5968), ('diwali', 2362), ('faced', 2779), ('youplease', 7982), ('😀', 8109), ('correcting', 1923), ('wid', 7816), ('sanal', 6264), ('jv', 4111), ('mario', 4599), ('rescue', 6028), ('scanning', 6305), ('alice', 684), ('hpcpin', 3520), ('asmita', 901), ('nathan', 4890), ('factor', 2786), ('auth', 959), ('secure', 6362), ('countdown', 1941), ('table', 7004), ('amazonprime', 732), ('couriers', 1954), ('wishlist', 7848), ('appointments', 842), ('blind', 1199), ('vanished', 7601), ('blow', 1208), ('workers', 7887), ('tmrw', 7244), ('exec', 2718), ('disabling', 2303), ('shane', 6435), ('twyford', 7424), ('temple', 7083), ('meads', 4655), ('mu', 4854), ('texting', 7108), ('reversal', 6101), ('00', 1), ('fiber', 2869), ('reflecting', 5900), ('rooms', 6182), ('0343 222 1234', 9), ('recharge', 5842), ('127', 71), ('ee', 2538), ('qualified', 5714), ('authorized', 965), ('brighton', 1309), ('presale', 5570), ('sudden', 6908), ('mob', 4783), ('leader', 4302), ('restocking', 6072), ('amazonin', 730), ('slots', 6594), ('irresponsible', 3955), ('🇬', 8048), ('🇧', 8047), ('everylittlehelps', 2686), ('linking', 4395), ('allows', 702), ('philly', 5370), ('stretch', 6863), ('savings', 6288), ('gf', 3140), ('wheelchair', 7790), ('fran', 3016), ('victoria', 7639), ('2k', 186), ('spencer', 6727), ('lucy', 4512), ('leaf', 4306), ('coaches', 1727), ('ae', 595), ('carriages', 1487), ('salisbury', 6250), ('slowly', 6601), ('guard', 3257), ('bv', 1395), ('ganesh', 3097), ('scottish', 6321), ('substitute', 6898), ('named', 4877), ('tk', 7232), ('raised', 5762), ('mountain', 4829), ('cared', 1472), ('flies', 2940), ('sally', 6251), ('united', 7493), ('debbie', 2124), ('upto', 7553), ('functionality', 3072), ('hotspot', 3506), ('didcot', 2263), ('platforms', 5442), ('differ', 2273), ('length', 4334), ('graham', 3219), ('maidenhead', 4550), ('returns', 6095), ('noted', 5005), ('leeds', 4320), ('south', 6686), ('shortage', 6482), ('realise', 5808), ('bcoz', 1093), ('machines', 4531), ('contactless', 1877), ('notes', 5006), ('bbq', 1091), ('cheater', 1603), ('indicate', 3845), ('ice', 3742), ('paris', 5256), ('iberia', 3741), ('allowing', 701), ('jet', 4031), ('britishairways', 1316), ('eventually', 2680), ('peace', 5316), ('smoothly', 6620), ('🇸', 8049), ('glasgow', 3166), ('exam', 2699), ('9am', 453), ('bloody', 1207), ('maclaine', 4532), ('httpstcomdmtntlx', 3621), ('6h', 359), ('pradnya', 5544), ('handy', 3306), ('httpstcoztowf', 3711), ('4ttb3', 291), ('digit', 2282), ('httpstcoyuyvtzdtht', 3704), ('jan', 3999), ('cp', 1968), ('stocked', 6825), ('drew', 2451), ('reception', 5841), ('vh', 7632), ('denying', 2191), ('oneplus', 5102), ('cheat', 1601), ('orleans', 5159), ('repaired', 5988), ('crowded', 2013), ('alexander', 677), ('marathon', 4592), ('sooo', 6670), ('nikki', 4964), ('profit', 5630), ('approach', 846), ('evidence', 2692), ('identify', 3753), ('signalling', 6520), ('individually', 3848), ('wrap', 7910), ('liz', 4420), ('89', 425), ('raspberry', 5779), ('ewan', 2694), ('court', 1956), ('introduce', 3928), ('flexible', 2939), ('scale', 6297), ('dave', 2099), ('ig', 3762), ('mshwari', 4850), ('amit', 747), ('invalid', 3931), ('agreements', 624), ('selecting', 6377), ('conductor', 1832), ('tp', 7304), ('flagging', 2928), ('senior', 6391), ('prob', 5609), ('misplaced', 4763), ('mi', 4720), ('imei', 3781), ('nv', 5038), ('winners', 7836), ('4creditcard', 268), ('pissing', 5413), ('suppliers', 6944), ('passing', 5279), ('calum', 1429), ('mother', 4824), ('777', 386), ('carolina', 1483), ('chain', 1559), ('postage', 5517), ('bargain', 1068), ('congestion', 1846), ('abysmal', 493), ('particularly', 5265), ('😧', 8143), ('cheeky', 1614), ('maximum', 4630), ('scammers', 6300), ('provides', 5670), ('10k', 41), ('persists', 5352), ('10th', 45), ('royal', 6201), ('😝', 8133), ('absurd', 489), ('adam', 544), ('calendars', 1418), ('clue', 1718), ('lt3', 4506), ('httpstcortdvyzof', 3663), ('whys', 7814), ('cuts', 2048), ('congratulations', 1848), ('lacking', 4243), ('😦', 8142), ('httpstcoxe', 3695), ('5i4kfj97', 319), ('heya', 3408), ('crush', 2018), ('bhm', 1153), ('oyster', 5210), ('begging', 1121), ('tube', 7395), ('closely', 1704), ('advisor', 592), ('noise', 4978), ('smaira', 6604), ('7am', 391), ('janay', 4000), ('garlic', 3102), ('promotional', 5646), ('morrisons', 4817), ('contain', 1879), ('allergy', 694), ('juice', 4091), ('ash', 889), ('russell', 6224), ('650', 347), ('olly', 5092), ('thankyou', 7127), ('4gb', 273), ('64gb', 345), ('warehouse', 7711), ('parties', 5266), ('undeliverable', 7467), ('ordeal', 5147), ('criteria', 2006), ('pam', 5239), ('precheck', 5552), ('ktn', 4231), ('tsa', 7389), ('48hrs', 263), ('fear', 2838), ('madness', 4539), ('severe', 6423), ('eus', 2671), ('1jeosvptgn', 115), ('19th', 106), ('nicola', 4955), ('28', 171), ('atleast', 932), ('strength', 6859), ('cross', 2009), ('fish', 2915), ('specialbuys', 6709), ('sql', 6755), ('italian', 3971), ('advertise', 583), ('resources', 6052), ('wrapping', 7912), ('biscuits', 1175), ('aldi', 671), ('overcharge', 5190), ('vicki', 7635), ('beans', 1100), ('popcorn', 5492), ('airbnb', 636), ('reviews', 6108), ('cn', 1724), ('dismay', 2339), ('searched', 6345), ('departments', 2196), ('pretending', 5579), ('333', 213), ('unstable', 7521), ('valley', 7593), ('handset', 3305), ('1800', 97), ('pressed', 5574), ('macbook', 4529), ('2vbqc3bom', 196), ('topped', 7283), ('tariff', 7031), ('mistakenly', 4769), ('dob', 2378), ('amended', 739), ('resent', 6031), ('male', 4568), ('female', 2861), ('refundable', 5904), ('duck', 2477), ('wraps', 7913), ('erin', 2645), ('glass', 3167), ('logic', 4454), ('fry', 3053), ('egg', 2548), ('burning', 1374), ('bunch', 1367), ('manual', 4585), ('airpods', 644), ('fort', 2998), ('explains', 2756), ('audible', 952), ('push', 5702), ('530', 303), ('lee', 4319), ('robbery', 6161), ('reminding', 5969), ('chose', 1645), ('pl', 5424), ('pointing', 5477), ('digging', 2281), ('🔍', 8105), ('tr', 7306), ('ay', 1002), ('deets', 2152), ('slough', 6595), ('useful', 7569), ('aug', 954), ('unused', 7527), ('revenue', 6100), ('faiza', 2797), ('menus', 4694), ('keys', 4161), ('georgina', 3132), ('pocket', 5471), ('pointed', 5476), ('outlets', 5178), ('tills', 7204), ('electronic', 2557), ('httpstcoqenehdawc', 3652), ('signin', 6526), ('pound', 5532), ('supermarket', 6938), ('gordon', 3206), ('operation', 5128), ('yday', 7955), ('restocked', 6071), ('bare', 1066), ('2gb', 183), ('woking', 7866), ('encounter', 2591), ('9dx5qozds', 457), ('relay', 5947), ('repay', 5990), ('trace', 7307), ('registering', 5924), ('ross', 6187), ('programme', 5632), ('77', 385), ('overcrowded', 5193), ('counts', 1948), ('genuine', 3128), ('rail', 5756), ('signals', 6521), ('crucial', 2014), ('operations', 5130), ('par', 5251), ('bogo', 1231), ('requirement', 6020), ('alissafast', 688), ('noah', 4975), ('july', 4097), ('emi', 2577), ('nat', 4886), ('tries', 7360), ('preference', 5555), ('allocated', 697), ('alan', 664), ('annie', 779), ('raleigh', 5765), ('expiry', 2752), ('buffalo', 1350), ('wins', 7838), ('wimbledon', 7827), ('hollywood', 3464), ('advanced', 577), ('worcester', 7880), ('padd', 5225), ('stoke', 6829), ('approve', 850), ('lane', 4261), ('pressure', 5576), ('🍾', 8059), ('0800 042 0800', 12), ('printed', 5594), ('declining', 2141), ('january', 4002), ('httpstcozyg', 3714), ('1vuhaor', 126), ('larger', 4269), ('formed', 2995), ('shannon', 6436), ('140', 78), ('tugo', 7399), ('denise', 2187), ('seated', 6352), ('lap', 4264), ('pn', 5468), ('mails', 4555), ('actively', 537), ('speakers', 6705), ('12hr', 72), ('unplugging', 7510), ('eligibility', 2559), ('renee', 5976), ('aly', 721), ('listened', 4404), ('jamaica', 3995), ('veterans', 7629), ('weymouth', 7783), ('brad', 1278), ('bound', 1264), ('rich', 6122), ('httpstcokzncdam', 3606), ('7bx', 394), ('besides', 1139), ('task', 7035), ('recycle', 5872), ('mj', 4775), ('rebecca', 5820), ('daryl', 2087), ('rocking', 6169), ('aisles', 653), ('tears', 7066), ('modify', 4793), ('shower', 6496), ('mn', 4780), ('installing', 3889), ('rachael', 5747), ('estate', 2658), ('11pm', 61), ('trapped', 7333), ('recycled', 5873), ('httpstcoxrxpasgb', 3697), ('7o', 401), ('scrolling', 6334), ('dmed', 2369), ('bakes', 1040), ('brooke', 1326), ('overpriced', 5198), ('pink', 5408), ('deducting', 2146), ('reversed', 6103), ('crooks', 2008), ('amounts', 750), ('distance', 2354), ('6am', 355), ('thin', 7151), ('fragile', 3014), ('alyson', 722), ('intermittent', 3915), ('plymouth', 5465), ('29th', 175), ('kat', 4124), ('bournemouth', 1265), ('con', 1822), ('wales', 7698), ('vinyl', 7652), ('pasta', 5284), ('fiona', 2903), ('surface', 6957), ('pen', 5323), ('🎄', 8062), ('kathryn', 4127), ('cameron', 1434), ('medium', 4669), ('spicy', 6733), ('franchise', 3018), ('april', 857), ('jk', 4045), ('significant', 6524), ('crossing', 2011), ('screws', 6332), ('shutdown', 6504), ('restoring', 6076), ('4x', 293), ('compensated', 1797), ('redzone', 5888), ('television', 7075), ('dump', 2482), ('opinion', 5133), ('1gb', 113), ('promptly', 5650), ('honour', 3478), ('duration', 2485), ('chromecast', 1655), ('creditcard', 1994), ('inedible', 3851), ('numberaddress', 5032), ('madeeha', 4536), ('dudes', 2479), ('jazz', 4010), ('beth', 1143), ('❄', 8041), ('aggressive', 619), ('roopa', 6183), ('envy', 2630), ('prints', 5598), ('connects', 1855), ('cartridges', 1500), ('recycling', 5874), ('maditau', 4538), ('greatly', 3231), ('shoppers', 6478), ('shoes', 6474), ('expand', 2729), ('checkouts', 1611), ('sticker', 6817), ('displayed', 2344), ('magazines', 4543), ('socks', 6635), ('magazine', 4542), ('settle', 6419), ('cereal', 1549), ('learning', 4312), ('catalog', 1510), ('coz', 1967), ('badly', 1028), ('philippines', 5369), ('rec', 5829), ('hits', 3437), ('starbucks', 6778), ('spain', 6696), ('tbh', 7049), ('aimee', 631), ('poster', 5521), ('httpstcogla', 3583), ('4qrfomf', 287), ('partnership', 5269), ('cherry', 1622), ('cart', 1498), ('supposedly', 6953), ('veteran', 7628), ('hadn', 3283), ('competitors', 1802), ('tay', 7045), ('packaged', 5216), ('cardboard', 1468), ('sweater', 6978), ('men', 4688), ('ho', 3452), ('z', 7996), ('799', 389), ('alerted', 673), ('deduction', 2147), ('mw', 4866), ('hangry', 3309), ('saver', 6285), ('brookek', 1327), ('lads', 4245), ('pause', 5299), ('depend', 2200), ('🇺', 8050), ('blew', 1198), ('sockets', 6634), ('western', 7779), ('cardiff', 1469), ('230', 155), ('instant', 3892), ('patiently', 5293), ('railcard', 5757), ('ridiculously', 6135), ('fred', 3024), ('legitimate', 4325), ('39', 225), ('caps', 1462), ('cleaned', 1685), ('rashmi', 5778), ('functions', 3074), ('39tixhtuxp', 227), ('tha', 7116), ('withdrawn', 7853), ('disconnects', 2318), ('tune', 7401), ('assuming', 920), ('atlantic', 931), ('bm', 1216), ('investigating', 3936), ('halfway', 3290), ('shouldve', 6491), ('logs', 4458), ('pigs', 5401), ('pip', 5410), ('madrid', 4540), ('wb', 7741), ('aamazing', 471), ('ck', 1668), ('popping', 5494), ('👇', 8077), ('blocking', 1203), ('cf', 1555), ('kevinthecarrot', 4157), ('kevinandkatie', 4156), ('breast', 1296), ('taunton', 7040), ('toys', 7303), ('luis', 4514), ('🥕', 8186), ('kev', 4154), ('molly', 4794), ('trees', 7352), ('ojo', 5084), ('httpstcoxxaxeesrt', 3700), ('worthless', 7901), ('120', 66), ('chats', 1596), ('letters', 4342), ('forgetting', 2987), ('warm', 7713), ('fabulous', 2776), ('bonus', 1237), ('boring', 1252), ('retailers', 6087), ('donna', 2408), ('norton', 4997), ('txt', 7427), ('crack', 1971), ('tools', 7279), ('ram', 5766), ('hn', 3451), ('dodgy', 2388), ('natasha', 4888), ('66', 348), ('wishing', 7847), ('wishes', 7846), ('gates', 3106), ('casey', 1504), ('fab', 2775), ('alist', 689), ('woo', 7877), ('opens', 5124), ('grapes', 3224), ('sas', 6275), ('stocking', 6826), ('dobetter', 2379), ('silly', 6532), ('99', 451), ('produce', 5621), ('olivia', 5091), ('valerie', 7588), ('furniture', 3081), ('campus', 1437), ('thnx', 7160), ('bake', 1036), ('halal', 3288), ('biscuit', 1174), ('seven', 6421), ('doughnut', 2423), ('😮', 8150), ('jess', 4027), ('receiver', 5836), ('emily', 2579), ('redirects', 5882), ('dmpm', 2371), ('argh', 867), ('melissa', 4679), ('zoe', 8004), ('halp', 3294), ('incoming', 3822), ('root', 6184), ('memory', 4686), ('ham', 3295), ('dominic', 2401), ('touched', 7291), ('wee', 7756), ('reinstate', 5939), ('chaos', 1576), ('signage', 6518), ('realised', 5809), ('hadnt', 3284), ('stockport', 6827), ('overcrowding', 5194), ('crewe', 1999), ('84', 421), ('ripoff', 6144), ('allie', 695), ('waiver', 7695), ('neha', 4915), ('consumers', 1872), ('dnd', 2374), ('submitting', 6890), ('gu', 3251), ('favourites', 2833), ('recognised', 5849), ('success', 6900), ('ireland', 3953), ('consent', 1858), ('whom', 7810), ('ta', 7002), ('lawrence', 4291), ('accommodate', 510), ('confusing', 1844), ('consistency', 1863), ('dive', 2359), ('hem', 3396), ('thrown', 7183), ('thankfully', 7122), ('13th', 76), ('httpstcofg', 3568), ('departed', 2193), ('disconnecting', 2317), ('031', 8), ('records', 5864), ('jonathan', 4071), ('1709', 93), ('carly', 1481), ('intro', 3927), ('22nd', 152), ('debited', 2126), ('mnp', 4781), ('02', 5), ('17th', 94), ('😏', 8123), ('mco', 4649), ('nervous', 4925), ('hayley', 3346), ('caller', 1424), ('2442', 158), ('unsolicited', 7520), ('tree', 7351), ('accessories', 506), ('cravings', 1982), ('ghost', 3143), ('rings', 6141), ('loaf', 4434), ('cashback', 1506), ('percy', 5335), ('deborah', 2127), ('aid', 629), ('hck', 3351), ('overbooked', 5189), ('naej', 4874), ('travelled', 7340), ('talked', 7020), ('ruth', 6225), ('wonky', 7875), ('parkway', 5260), ('sonia', 6663), ('gill', 3150), ('sunny', 6932), ('gabby', 3088), ('kay', 4131), ('highway', 3422), ('brands', 1286), ('generated', 3122), ('jeans', 4015), ('alternatives', 718), ('1pm', 120), ('tunukiwa', 7404), ('average', 982), ('♥', 8034), ('broadband', 1320), ('pastry', 5286), ('httpstcooy', 3644), ('hurt', 3727), ('cg', 1556), ('sunrise', 6933), ('honeymoon', 3474), ('🥂', 8185), ('volumes', 7674), ('superb', 6937), ('caroline', 1484), ('1tb', 122), ('health', 3368), ('trends', 7354), ('wigan', 7822), ('louis', 4485), ('hardly', 3326), ('hosts', 3502), ('sparks', 6701), ('httpstcofqaato', 3571), ('1chu', 111), ('mamps', 4571), ('101', 31), ('lw', 4520), ('malaysia', 4567), ('advising', 591), ('chantelle', 1575), ('mehvish', 4675), ('nisha', 4968), ('bright', 1307), ('expanding', 2730), ('abroad', 486), ('essential', 2656), ('67', 350), ('tjm', 7228), ('tdh', 7058), ('wheelsup', 7792), ('younger', 7981), ('gluten', 3178), ('eu', 2668), ('inability', 3806), ('nuts', 5037), ('tpa', 7305), ('fll', 2945), ('functioning', 3073), ('vehicles', 7617), ('weekends', 7760), ('en', 2588), ('branches', 1282), ('hat', 3335), ('merry', 4699), ('owen', 5203), ('signs', 6528), ('newly', 4938), ('unsatisfied', 7519), ('committed', 1778), ('improving', 3804), ('joanna', 4052), ('prebooked', 5551), ('collected', 1746), ('forcing', 2983), ('eve', 2675), ('tkt', 7234), ('justine', 4110), ('champion', 1564), ('djessi', 2364), ('statements', 6790), ('ffs', 2867), ('quantity', 5718), ('spamjunk', 6698), ('insist', 3882), ('suspicious', 6968), ('indian', 3844), ('mp', 4839), ('abuse', 491), ('3sf8qpf2nx', 246), ('dairy', 2062), ('als', 712), ('medallion', 4666), ('kent', 4151), ('routing', 6197), ('soul', 6679), ('streets', 6858), ('popped', 5493), ('unimpressed', 7486), ('scotland', 6319), ('1yng0tv', 130), ('statistics', 6796), ('troubleplease', 7370), ('initiated', 3868), ('🎅', 8063), ('trevor', 7355), ('baguette', 1034), ('diana', 2259), ('unreal', 7513), ('httpstcoxsmyp', 3698), ('7lfyg', 400), ('630', 343), ('beer', 1117), ('cj', 1667), ('protein', 5663), ('pieces', 5399), ('locker', 4447), ('httpstcobdlhsjuf', 3543), ('appalled', 820), ('unsafe', 7518), ('trr', 7376), ('happily', 3316), ('centers', 1542), ('difficulty', 2279), ('t5', 7001), ('downgraded', 2427), ('tm', 7237), ('arranged', 873), ('quicker', 5732), ('hospitality', 3498), ('excel', 2702), ('dreams', 2448), ('chasing', 1594), ('pulling', 5689), ('robbed', 6160), ('donations', 2406), ('taxes', 7042), ('represent', 6008), ('👊', 8079), ('scratch', 6322), ('worker', 7886), ('expedite', 2736), ('loosing', 4474), ('10p', 43), ('applies', 838), ('litter', 4412), ('traveler', 7337), ('keepclimbing', 4142), ('s7', 6231), ('wheel', 7789), ('brings', 1313), ('beverage', 1146), ('snack', 6623), ('recommended', 5857), ('spotty', 6748), ('irma', 3954), ('yp', 7990), ('england', 2607), ('81', 418), ('soldier', 6642), ('duplicate', 2484), ('creators', 1991), ('hs', 3531), ('vile', 7648), ('karl', 4122), ('welp', 7770), ('waive', 7693), ('vas', 7607), ('cities', 1664), ('professional', 5626), ('httpstcoetpvyvfyd', 3561), ('1013', 33), ('httpstcoowrdhwst', 3643), ('4h', 274), ('tia', 7192), ('bangalore', 1053), ('autumn', 975), ('crunchy', 2017), ('☕', 8029), ('terri', 7094), ('concert', 1827), ('sardines', 6274), ('faves', 2828), ('rdg', 5793), ('12th', 73), ('iw', 3983), ('68', 351), ('specify', 6718), ('vpn', 7681), ('pnr', 5469), ('inconvenienced', 3828), ('guards', 3258), ('nate', 4889), ('assignment', 909), ('joint', 4067), ('polly', 5485), ('swifts', 6981), ('remark', 5962), ('nk', 4970), ('📦', 8103), ('drain', 2440), ('synced', 6995), ('fucks', 3061), ('sake', 6246), ('1102', 51), ('httpstcolnmcdqt', 3613), ('6fd', 358), ('square', 6756), ('peppers', 5331), ('bd', 1095), ('penny', 5326), ('shuttle', 6507), ('nl', 4971), ('👀', 8075), ('joy', 4080), ('miserable', 4761), ('sees', 6374), ('bottles', 1261), ('thai', 7117), ('dynamic', 2497), ('contracts', 1895), ('😟', 8135), ('httpstcofhrnnrbwj', 3569), ('del', 2159), ('codww', 1733), ('nerves', 4924), ('die', 2266), ('1033', 36), ('5s', 329), ('510', 300), ('serviced', 6410), ('7plus', 402), ('phishing', 5371), ('retweet', 6096), ('lynn', 4524), ('coat', 1729), ('gas', 3104), ('chances', 1567), ('cheer', 1615), ('supporting', 6949), ('goods', 3203), ('branded', 1284), ('caring', 1477), ('tiff', 7199), ('ao', 809), ('amazed', 726), ('shops', 6480), ('permitted', 5350), ('suffer', 6911), ('meaning', 4659), ('majority', 4561), ('prathap', 5548), ('outgoing', 5176), ('wifes', 7820), ('•', 8023), ('reflected', 5899), ('httpstcooeospnwg', 3638), ('0y', 24), ('seeking', 6369), ('10gb', 40), ('steph', 6809), ('battle', 1087), ('greggs', 3236), ('panera', 5244), ('draw', 2445), ('lydia', 4521), ('asda', 888), ('gmail', 3181), ('promising', 5641), ('httpstcofxgz', 3574), ('6htrfa', 360), ('neighbour', 4919), ('returnreplacement', 6094), ('sticking', 6819), ('finder', 2893), ('trueblue', 7380), ('rarely', 5777), ('notifying', 5017), ('ard', 861), ('tjw', 7231), ('minneapolis', 4755), ('han', 3297), ('365', 220), ('fired', 2906), ('62', 341), ('generous', 3125), ('smoother', 6619), ('deposits', 2207), ('posts', 5525), ('disk', 2337), ('blows', 1210), ('accessed', 502), ('fortune', 3001), ('knock', 4209), ('client', 1697), ('0tikt0t1j', 22), ('4pm', 285), ('leanne', 4309), ('connor', 1856), ('woke', 7865), ('possibility', 5513), ('combine', 1759), ('highsierra', 3421), ('hbo', 3348), ('extreme', 2768), ('resulting', 6082), ('straightened', 6847), ('equipped', 2639), ('brightness', 1308), ('focus', 2960), ('palm', 5238), ('oil', 5083), ('marian', 4597), ('strawberries', 6852), ('ast', 923), ('skipping', 6575), ('tjp', 7230), ('commute', 1787), ('reload', 5957), ('bobby', 1227), ('httpstcoczhqrcmwqy', 3552), ('smoking', 6617), ('buffet', 1353), ('kings', 4194), ('lease', 4313), ('adjusted', 564), ('certificate', 1553), ('arti', 882), ('puk', 5686), ('4tffvts', 289), ('125', 70), ('snes', 6630), ('registry', 5926), ('stone', 6833), ('scratched', 6323), ('5c', 315), ('su', 6885), ('cans', 1455), ('costco', 1930), ('partners', 5268), ('fm', 2958), ('locking', 4448), ('disturb', 2356), ('alarms', 666), ('firmware', 2910), ('displaying', 2345), ('rendered', 5975), ('killed', 4177), ('tuna', 7400), ('diesel', 2270), ('litre', 4411), ('26th', 168), ('enforcement', 2601), ('skyclub', 6578), ('occasion', 5052), ('☀', 8028), ('bcw', 1094), ('division', 2361), ('10pm', 44), ('players', 5448), ('badcustomerservice', 1026), ('ruins', 6215), ('hiding', 3415), ('assistant', 913), ('edward', 2537), ('⬇', 8044), ('sundays', 6931), ('€', 8026), ('😓', 8127), ('moon', 4812), ('underground', 7470), ('scheduling', 6314), ('7g6in7ahv', 398), ('otp', 5166), ('struggle', 6872), ('1800jetblue', 100), ('clearance', 1688), ('repeating', 5994), ('accessible', 504), ('artists', 885), ('thrice', 7175), ('customize', 2044), ('sport', 6742), ('dare', 2083), ('overseas', 5199), ('subscriptions', 6897), ('category', 1514), ('53', 302), ('overall', 5188), ('knew', 4208), ('reads', 5805), ('wood', 7878), ('butter', 1386), ('interview', 3924), ('9c3ylv', 455), ('monica', 4804), ('sites', 6557), ('httpstcolqhmot', 3614), ('3apu', 229), ('offpeak', 5078), ('restriction', 6078), ('celebration', 1537), ('res', 6025), ('hpcpaus', 3519), ('officejet', 5072), ('emil', 2578), ('hpaioi', 3518), ('senan', 6386), ('cartridge', 1499), ('ijchelp', 3768), ('deskjet', 2222), ('kathy', 4128), ('foreign', 2984), ('dayin', 2104), ('lives', 4417), ('blush', 1215), ('uninstalled', 7488), ('resist', 6043), ('lazy', 4296), ('👉', 8078), ('wrongly', 7919), ('gutted', 3269), ('mq', 4841), ('incognito', 3821), ('departing', 2194), ('rebate', 5819), ('breakdown', 1292), ('kitchen', 4200), ('pete', 5360), ('httpstcomkvffvwjdz', 3626), ('tall', 7022), ('yard', 7952), ('710', 376), ('swagift', 6973), ('earlybird', 2507), ('clouds', 1712), ('brett', 1299), ('trolleys', 7367), ('awards', 992), ('interaction', 3910), ('warfare', 7712), ('instances', 3891), ('woah', 7864), ('pairs', 5236), ('boycott', 1274), ('kelsey', 4149), ('paybill', 5303), ('prabu', 5540), ('💙', 8094), ('signature', 6522), ('referred', 5895), ('450', 259), ('identifiable', 3751), ('hole', 3459), ('3j24vgxb', 239), ('disappearing', 2306), ('unusual', 7528), ('jimmy', 4041), ('s3', 6230), ('warrington', 7717), ('disability', 2300), ('coins', 1739), ('roughly', 6190), ('threatened', 7171), ('falling', 2801), ('achievements', 522), ('ringing', 6140), ('neighbor', 4916), ('cabs', 1408), ('httpstcoiesxt', 3593), ('5cvhc', 316), ('initiate', 3867), ('httpstcosd', 3666), ('7yh5jmbj', 412), ('polite', 5484), ('thick', 7149), ('38j7tflibf', 224), ('algorithm', 682), ('inappropriate', 3810), ('hml', 3448), ('danking', 2081), ('jacket', 3989), ('knocking', 4211), ('bean', 1099), ('finishing', 2902), ('gon', 3196), ('transportation', 7332), ('3iohqgizs', 238), ('complicated', 1814), ('zone', 8007), ('hash', 3331), ('entry', 2627), ('engineers', 2606), ('stinks', 6822), ('northampton', 4995), ('fireworks', 2909), ('gareth', 3101), ('hints', 3431), ('78', 387), ('portsmouth', 5509), ('scarf', 6307), ('raffle', 5755), ('happiness', 3317), ('hella', 3388), ('mailed', 4553), ('lived', 4415), ('tortillas', 7287), ('hosting', 3501), ('advisors', 593), ('claimed', 1671), ('wj', 7857), ('rated', 5781), ('subtitles', 6899), ('christ', 1648), ('adb', 546), ('appreciation', 845), ('anniversary', 780), ('refreshing', 5902), ('httpstcojyzdtqmyxt', 3600), ('angie', 772), ('recognise', 5848), ('energy', 2600), ('httpstcowaoeicy', 3687), ('9cf', 456), ('initially', 3866), ('merchant', 4697), ('dreadful', 2446), ('dislike', 2338), ('teller', 7077), ('dissapointed', 2352), ('object', 5047), ('speedtest', 6723), ('tick', 7193), ('formal', 2993), ('picks', 5392), ('restock', 6070), ('salt', 6254), ('deeply', 2151), ('stressful', 6862), ('labelled', 4240), ('heroes', 3404), ('authentication', 960), ('odyssey', 5063), ('vn', 7668), ('speaker', 6704), ('whatsapp', 7787), ('mostly', 4822), ('eh', 2550), ('toronto', 7285), ('rocsi', 6171), ('stacey', 6764), ('adrian', 572), ('cooking', 1911), ('inspection', 3883), ('df', 2250), ('flow', 2949), ('colorado', 1753), ('httpstcojp', 3599), ('sep', 6395), ('fairly', 2795), ('inquire', 3873), ('praises', 5546), ('cater', 1515), ('marie', 4598), ('encourage', 2594), ('labels', 4241), ('beta', 1142), ('camo', 1435), ('flagged', 2927), ('nigel', 4957), ('goin', 3191), ('unresolved', 7516), ('controllers', 1898), ('enrolled', 2617), ('qz', 5742), ('httpstcoluv', 3616), ('7xyl61s', 410), ('eek', 2539), ('carousel', 1485), ('mortgage', 4818), ('peeled', 5321), ('supermarkets', 6939), ('gesture', 3135), ('goodwill', 3204), ('obnoxious', 5048), ('pts', 5678), ('maps', 4591), ('callback', 1421), ('cam', 1430), ('linux', 4397), ('malfunctioning', 4569), ('involved', 3944), ('nut', 5036), ('mothers', 4825), ('yc', 7954), ('citibank', 1663), ('httpstcomejmirl', 3622), ('2eb', 179), ('carlos', 1480), ('exceptional', 2706), ('httpstcocuewtd', 3551), ('2eps', 180), ('edge', 2532), ('jamiek', 3998), ('unprocessed', 7511), ('specials', 6713), ('officially', 5076), ('hc', 3349), ('radar', 5753), ('sju', 6567), ('nancy', 4881), ('bearing', 1102), ('effects', 2542), ('pride', 5590), ('1130', 58), ('temperature', 7082), ('asleep', 900), ('000', 2), ('vt', 7685), ('latitia', 4281), ('instruction', 3897), ('trinity', 7361), ('extension', 2764), ('💖', 8092), ('disappears', 2307), ('implement', 3790), ('consecutive', 1857), ('huh', 3718), ('httpstcofnvbyb', 3570), ('7wwy', 409), ('chippenham', 1635), ('screwing', 6331), ('tripping', 7364), ('54', 304), ('lmk', 4427), ('communications', 1784), ('\\U0001f9d0', 8188), ('vital', 7665), ('fewer', 2865), ('genre', 3127), ('ultra', 7451), ('trading', 7316), ('afford', 601), ('million', 4745), ('everyones', 2688), ('robin', 6164), ('kingston', 4195), ('cats', 1519), ('seasonal', 6348), ('impressive', 3799), ('basics', 1077), ('instagram', 3885), ('sheffield', 6448), ('thinks', 7156), ('bomb', 1234), ('identity', 3754), ('barry', 1070), ('regard', 5914), ('resolving', 6049), ('iz', 3984), ('bz', 1401), ('belongings', 1132), ('reprint', 6011), ('5k', 322), ('doorstep', 2415), ('guessing', 3260), ('kfc', 4163), ('burgers', 1372), ('rugby', 6211), ('reviewed', 6106), ('utilize', 7580), ('visual', 7664), ('oneway', 5104), ('singles', 6549), ('httpstcosek', 3669), ('4e4gi22', 269), ('reactivate', 5801), ('bumped', 1366), ('watford', 7737), ('escalation', 2652), ('elizabeth', 2562), ('alf', 681), ('wassup', 7725), ('aadhaar', 468), ('projects', 5637), ('autobrightness', 967), ('accessibility', 503), ('accommodations', 512), ('95', 448), ('generic', 3124), ('forces', 2982), ('allyn', 703), ('😶', 8157), ('abandoned', 477), ('oxford', 5209), ('trolley', 7366), ('ahold', 627), ('gd', 3114), ('jackie', 3990), ('bang', 1052), ('presents', 5572), ('inaccurate', 3807), ('noon', 4987), ('fedex', 2845), ('amazons', 733), ('integrity', 3904), ('associates', 918), ('inconveniencein', 3829), ('spa', 6693), ('donate', 2403), ('homeless', 3467), ('caterpillar', 1517), ('shock', 6469), ('discs', 2328), ('kcb', 4136), ('kindest', 4187), ('2100', 148), ('hb', 3347), ('inactive', 3808), ('nhl', 4946), ('cycling', 2056), ('routermodem', 6194), ('invitation', 3938), ('ym', 7971), ('lucas', 4508), ('afn', 604), ('louisville', 4487), ('arrangements', 875), ('iv', 3981), ('om', 5093), ('05', 10), ('ji', 4037), ('feedbacks', 2849), ('📝', 8102), ('mx', 4867), ('usernames', 7573), ('💰', 8101), ('ideal', 3749), ('aint', 633), ('msa', 4847), ('blaket', 1189), ('unsuccessful', 7523), ('httpstconr', 3633), ('exceed', 2701), ('16th', 91), ('nfm', 4943), ('occurrence', 5057), ('gw', 3273), ('mechanical', 4665), ('aawesome', 475), ('responds', 6057), ('honored', 3477), ('disney', 2340), ('hint', 3430), ('persist', 5351), ('subscribing', 6895), ('bridget', 1305), ('cheque', 1621), ('debt', 2128), ('owned', 5205), ('🤤', 8178), ('businesses', 1382), ('aar', 472), ('resulted', 6081), ('challenges', 1562), ('typed', 7431), ('stl', 6823), ('memphis', 4687), ('schedules', 6313), ('recognition', 5850), ('chester', 1624), ('dana', 2072), ('voting', 7677), ('agency', 615), ('tcc', 7054), ('increasing', 3837), ('importance', 3793), ('larry', 4270), ('philip', 5368), ('jpl', 4082), ('lemonade', 4332), ('backs', 1020), ('girlfriend', 3154), ('flashing', 2931), ('3d', 231), ('topher', 7282), ('lindsay', 4387), ('🍔', 8055), ('discrimination', 2327), ('zelle', 7999), ('rent', 5981), ('communicating', 1782), ('joey', 4060), ('touchscreen', 7293), ('250', 163), ('ew', 2693), ('independent', 3841), ('199', 104), ('minor', 4756), ('jill', 4038), ('katy', 4130), ('intend', 3906), ('loses', 4478), ('inc', 3813), ('brilliant', 1310), ('representatives', 6010), ('discontinue', 2319), ('addressphone', 560), ('cmh', 1722), ('michigan', 4726), ('anyways', 807), ('panic', 5245), ('whit', 7803), ('dvd', 2491), ('richmond', 6124), ('rough', 6189), ('awww', 1001), ('rotten', 6188), ('ontime', 5113), ('27th', 170), ('glutenfree', 3179), ('69', 352), ('crawling', 1983), ('privileges', 5606), ('1900', 103), ('attachment', 939), ('dashboard', 2089), ('eaten', 2522), ('printhead', 5596), ('santa', 6269), ('potentially', 5530), ('tabs', 7008), ('🦃', 8187), ('soundcloud', 6681), ('backlog', 1018), ('ux', 7583), ('premier', 5559), ('stage', 6767), ('uploading', 7545), ('jumped', 4100), ('79', 388), ('summary', 6927), ('lower', 4498), ('curation', 2029), ('vk', 7666), ('bait', 1035), ('infant', 3852), ('approval', 849), ('evan', 2674), ('onthego', 5112), ('txa', 7426), ('3h8wdq4ejk', 236), ('hostage', 3500), ('garden', 3100), ('covers', 1965), ('ajl', 656), ('ripping', 6146), ('tjh', 7227), ('nola', 4980), ('tel', 7073), ('10000', 29), ('leah', 4308), ('exclusively', 2715), ('wa', 7688), ('blocks', 1204), ('keen', 4140), ('faq', 2812), ('inquiries', 3874), ('limitations', 4382), ('await', 989), ('26', 167), ('vr', 7682), ('tray', 7345), ('skimp', 6572), ('poorcustomerservice', 5488), ('httpstcogaheulv', 3577), ('2qw', 192), ('hospital', 3497), ('accidental', 508), ('3h0tnpwp0c', 235), ('noone', 4988), ('customerexperience', 2040), ('excess', 2707), ('ajz', 659), ('tags', 7013), ('introduced', 3929), ('alisha', 686), ('tms', 7245), ('meetings', 4672), ('costing', 1931), ('dns', 2375), ('whitneyj', 7805), ('craving', 1981), ('salted', 6255), ('caramel', 1466), ('yoghurt', 7974), ('county', 1949), ('invest', 3933), ('core', 1916), ('certified', 1554), ('acknowledged', 525), ('insufficient', 3899), ('jio', 4042), ('5gb', 318), ('onward', 5115), ('3hrs', 237), ('counters', 1943), ('nokia', 4979), ('itd', 3973), ('panel', 5243), ('httpstcobivpdfbnj', 3546), ('httpstcoui', 3679), ('1ytnocuz', 132), ('logan', 4451), ('cape', 1460), ('sa', 6233), ('solo', 6644), ('rdu', 5794), ('joshua', 4077), ('prove', 5665), ('jesse', 4028), ('thailand', 7118), ('prosecco', 5658), ('25th', 166), ('kristen', 4225), ('exeter', 2721), ('repairs', 5989), ('laptops', 4266), ('offensive', 5066), ('jq', 4083), ('reopened', 5984), ('jasmine', 4005), ('🙋', 8165), ('pork', 5499), ('jx', 4113), ('manner', 4584), ('forgive', 2988), ('finished', 2901), ('bri', 1300), ('kart', 4123), ('tonights', 7273), ('regions', 5921), ('shortcut', 6483), ('pandora', 5242), ('dennis', 2188), ('leaders', 4303), ('trucks', 7378), ('bwi', 1397), ('swansea', 6974), ('dependent', 2201), ('fml', 2959), ('rank', 5773), ('servicing', 6412), ('pac', 5213), ('tone', 7271), ('described', 2213), ('requiring', 6023), ('kinds', 4191), ('filthy', 2887), ('exception', 2705), ('jeremy', 4022), ('hardwired', 3328), ('terminated', 7092), ('mcdonald', 4642), ('timeframe', 7208), ('adjustment', 565), ('melindar', 4678), ('addressjg', 558), ('layover', 4295), ('sonos', 6664), ('mic', 4723), ('mrs', 4845), ('po', 5470), ('morgan', 4814), ('lasted', 4273), ('approximately', 853), ('canadian', 1440), ('fhc', 2868), ('desperate', 2224), ('pure', 5698), ('onion', 5107), ('tons', 7274), ('tfl', 7111), ('specially', 6712), ('4t', 288), ('15th', 86), ('discomfort', 2314), ('christina', 1650), ('toward', 7296), ('inch', 3814), ('httpstcozkt', 3708), ('0nhvs3p', 20), ('magenta', 4544), ('ooh', 5118), ('dh', 2253), ('msgs', 4849), ('leading', 4305), ('protector', 5662), ('hdd', 3353), ('appeared', 826), ('appropriately', 848), ('downtime', 2433), ('37', 221), ('chargeable', 1580), ('enroll', 2616), ('popup', 5497), ('🏃', 8067), ('assess', 903), ('southwestheart', 6691), ('hills', 3426), ('unlocking', 7503), ('pump', 5690), ('railway', 5758), ('insider', 3880), ('build', 1357), ('domains', 2399), ('manc', 4579), ('paired', 5235), ('flavor', 2933), ('nicholas', 4951), ('replacements', 5998), ('basingstoke', 1078), ('121', 68), ('16gb', 90), ('exhausted', 2722), ('gravy', 3227), ('joseph', 4075), ('eddie', 2531), ('scanner', 6304), ('stamps', 6770), ('microwave', 4728), ('published', 5682), ('stored', 6841), ('shots', 6487), ('prebook', 5550), ('urgency', 7556), ('oakland', 5046), ('lookas', 4466), ('shorter', 6484), ('mcrib', 4650), ('documented', 2386), ('399', 226), ('ima', 3776), ('lookout', 4469), ('pushing', 5704), ('11update', 63), ('unlikely', 7499), ('jokes', 4069), ('pt', 5677), ('😵', 8156), ('farm', 2817), ('salty', 6256), ('dq', 2437), ('hearts', 3374), ('luckily', 4510), ('paste', 5285), ('shattered', 6443), ('meg', 4673), ('photosmart', 5381), ('sn', 6622), ('10x', 46), ('spg', 6731), ('stafford', 6766), ('wind', 7829), ('acts', 540), ('spawn', 6702), ('kills', 4179), ('flavour', 2934), ('art', 881), ('migration', 4736), ('jrw', 4086), ('thanx', 7128), ('bruce', 1338), ('🚂', 8168), ('jumping', 4101), ('xps', 7943), ('utterly', 7582), ('funko', 3078), ('ditch', 2358), ('430', 256), ('chill', 1629), ('blaming', 1191), ('focused', 2961), ('adverts', 587), ('alongside', 708), ('bricked', 1303), ('dock', 2381), ('tbw', 7052), ('tsb', 7390), ('tsl', 7392), ('ports', 5508), ('alicia', 685), ('severely', 6424), ('oneworld', 5105), ('bna', 1218), ('carl', 1478), ('carlisle', 1479), ('airing', 640), ('homepage', 3468), ('touching', 7292), ('1400', 79), ('httpstcoxu', 3699), ('opportunities', 5135), ('garage', 3098), ('aos', 810), ('diamond', 2258), ('alexkimbrell', 680), ('httpstcogefrnvhvqu', 3581), ('leslie', 4336), ('pg', 5364), ('sandy', 6268), ('kicking', 4170), ('ssn', 6761), ('wyd', 7930), ('mixup', 4773), ('digitally', 2284), ('¿', 8014), ('session', 6414), ('portions', 5505), ('lasting', 4274), ('🍎', 8054), ('widget', 7818), ('implemented', 3791), ('momentarily', 4797), ('julier', 4096), ('deli', 2168), ('stroller', 6868), ('hundreds', 3721), ('engaged', 2602), ('securely', 6364), ('blinking', 1200), ('doug', 2421), ('rudely', 6208), ('selfie', 6380), ('nose', 4999), ('nod', 4977), ('laughing', 4284), ('squared', 6757), ('capacity', 1459), ('vindaloo', 7650), ('scenes', 6310), ('parent', 5254), ('arm', 869), ('heated', 3376), ('82', 419), ('degrees', 2158), ('osho', 5162), ('ro', 6155), ('alter', 714), ('billy', 1164), ('amie', 746), ('onedrive', 5101), ('httpstcoevzkgh', 3562), ('5wqz', 335), ('hoped', 3485), ('28th', 173), ('charities', 1586), ('departures', 2199), ('lifetime', 4367), ('oo', 5117), ('milton', 4747), ('approx', 852), ('howdy', 3514), ('oppo', 5134), ('rishi', 6148), ('himself', 3429), ('among', 748), ('featured', 2840), ('toilets', 7259), ('simcard', 6535), ('expiring', 2751), ('yesterdays', 7968), ('httpstcogbstzxayza', 3579), ('hilarious', 3424), ('dy', 2494), ('compatibility', 1794), ('onwards', 5116), ('fallen', 2800), ('httpstcowcqefgilxc', 3689), ('chargers', 1583), ('ripe', 6143), ('everybitofchristmas', 2683), ('gp', 3213), ('targets', 7030), ('cancer', 1450), ('employ', 2584), ('planner', 5435), ('2hr', 184), ('begins', 1124), ('introducing', 3930), ('unattended', 7458), ('banner', 1061), ('recyclable', 5871), ('knowledge', 4214), ('hsd', 3533), ('tablets', 7007), ('volcanic', 7672), ('64', 344), ('unreserved', 7515), ('20mins', 145), ('deliciousness', 2170), ('gavin', 3111), ('quid', 5734), ('compliments', 1817), ('httpstcoiohhsjslde', 3594), ('ldn', 4300), ('newport', 4939), ('qatar', 5710), ('cody', 1735), ('keynes', 4160), ('chair', 1560), ('issuing', 3969), ('unlike', 7498), ('wash', 7720), ('towo', 7301), ('acceptance', 498), ('poorservice', 5490), ('midway', 4733), ('10mins', 42), ('adp', 571), ('knocked', 4210), ('comcastoutage', 1763), ('heavily', 3380), ('spots', 6746), ('roger', 6172), ('additionally', 552), ('63', 342), ('evaluate', 2673), ('ashleigh', 891), ('destinations', 2229), ('baking', 1041), ('choc', 1638), ('token', 7260), ('shoddy', 6472), ('cpu', 1969), ('1015', 34), ('httpstcodceirni', 3554), ('6kv', 363), ('cents', 1545), ('booster', 1248), ('detected', 2236), ('mood', 4811), ('kindness', 4190), ('henry', 3398), ('twitch', 7420), ('tnt', 7248), ('understood', 7473), ('vanessa', 7600), ('😌', 8120), ('mexican', 4714), ('growing', 3245), ('nici', 4952), ('cecilia', 1534), ('linds', 4386), ('bucket', 1345), ('mymathlab', 4869), ('kieran', 4175), ('shipments', 6457), ('3efhzgu8b', 232), ('recall', 5830), ('seagate', 6339), ('candle', 1452), ('coin', 1737), ('shape', 6437), ('🐻', 8074), ('seal', 6340), ('driven', 2456), ('rethink', 6089), ('hiring', 3433), ('httpstcoww', 3692), ('2btlncsr', 177), ('mgr', 4718), ('rachaeltansey', 5748), ('sid', 6511), ('compete', 1799), ('cbs', 1528), ('750', 383), ('numberdetails', 5033), ('1230', 69), ('wp', 7908), ('vf', 7630), ('earphones', 2511), ('firefox', 2907), ('directed', 2294), ('instantly', 3893), ('compare', 1792), ('korea', 4219), ('lord', 4475), ('lighting', 4370), ('lightning', 4371), ('paige', 5230), ('facilities', 2782), ('tdc', 7057), ('admit', 568), ('giftcard', 3146), ('authority', 962), ('moto', 4826), ('cybermonday', 2054), ('mcflurry', 4645), ('115', 59), ('banana', 1048), ('devastated', 2242), ('bagel', 1031), ('hoops', 3482), ('lauderdale', 4282), ('driveway', 2460), ('shite', 6465), ('serv', 6404), ('2500', 164), ('tues', 7396), ('tescos', 7100), ('cast', 1508), ('victim', 7637), ('bogus', 1232), ('1101', 50), ('toggle', 7257), ('cheltenham', 1619), ('union', 7490), ('properties', 5655), ('nigga', 4959), ('lags', 4251), ('separately', 6397), ('donation', 2405), ('jumbo', 4098), ('enhanced', 2609), ('fourth', 3010), ('authorize', 964), ('champagne', 1563), ('busted', 1383), ('chilli', 1630), ('bored', 1251), ('manufacturers', 4588), ('newer', 4936), ('comedy', 1765), ('famous', 2807), ('optimize', 5141), ('secs', 6360), ('quarter', 5719), ('perk', 5345), ('httpstcowkjhdyehjo', 3691), ('percentage', 5334), ('goddamn', 3187), ('hardcore', 3324), ('traveled', 7336), ('completion', 1812), ('qi', 5711), ('felicia', 2856), ('gn', 3182), ('guarantees', 3256), ('container', 1880), ('classy', 1683), ('study', 6880), ('waits', 7692), ('nina', 4965), ('funeral', 3077), ('47', 261), ('105', 37), ('kicks', 4171), ('acctph', 518), ('rbc', 5789), ('httpstcoce', 3549), ('stat', 6786), ('pudding', 5683), ('tommy', 7268), ('watchlist', 7733), ('6xnmexfdix', 370), ('aired', 639), ('rows', 6199), ('bump', 1365), ('convince', 1905), ('httpstcooszokktalm', 3641), ('todd', 7253), ('italy', 3972), ('pkg', 5423), ('httpstcoryq', 3664), ('25s2pfj', 165), ('dom', 2397), ('designated', 2218), ('starving', 6785), ('5vj3nqp3', 334), ('hdv', 3357), ('reliance', 5955), ('mcd', 4640), ('mcgriddles', 4647), ('mcnuggets', 4648), ('sprite', 6753), ('slowed', 6597), ('outta', 5185), ('percent', 5333), ('suli', 6925), ('wondered', 7872), ('cameras', 1433), ('receives', 5837), ('props', 5657), ('hyderabad', 3736), ('happythanksgiving', 3319), ('blake', 1188), ('trophies', 7368), ('asset', 904), ('ir', 3952), ('halo', 3293), ('notices', 5011), ('singing', 6547), ('modern', 4792), ('bx', 1398), ('aneurin', 768), ('hks', 3445), ('swing', 6983), ('bulk', 1360), ('affordable', 602), ('jonny', 4072), ('salmon', 6252), ('httpstcodsjjx', 3556), ('1oyxb', 119), ('5p', 326), ('reconsider', 5859), ('nonexistent', 4983), ('imessages', 3783), ('occasionally', 5053), ('parul', 5272), ('unopened', 7505), ('szechuan', 6999), ('httpstcoegiaye', 3558), ('5jmu', 320), ('ww', 7926), ('silence', 6530), ('pal', 5237), ('reality', 5810), ('snag', 6625), ('zoom', 8009), ('dishonest', 2336), ('glasses', 3168), ('shoe', 6473), ('1999', 105), ('🙅', 8163), ('classes', 1681), ('aside', 895), ('dozen', 2435), ('groups', 3244), ('tfw', 7113), ('delight', 2171), ('httpstcocbfcansnkt', 3548), ('cachecookies', 1410), ('commit', 1776), ('\\U0001f92e', 8182), ('verbatims', 7619), ('resolves', 6048), ('concierge', 1828), ('httpstcofym', 3575), ('9pizor8', 459), ('destroy', 2231), ('tas', 7034), ('jod', 4057), ('httpstcoqz', 3657), ('mikeperez', 4738), ('cracking', 1973), ('samuel', 6262), ('01', 4), ('160', 89), ('instructed', 3896), ('fs', 3054), ('peanut', 5318), ('tape', 7026), ('battlefront', 1088), ('rox', 6200), ('amd', 737), ('oreo', 5153), ('hermes', 3402), ('1x', 128), ('1aghstv6', 108), ('spread', 6749), ('haul', 3339), ('hw', 3733), ('httpstcombymxn', 3619), ('02mi', 6), ('gwrnewtrains', 3275), ('westbury', 7778), ('retention', 6088), ('keithm', 4146), ('landmark', 4259), ('messenger', 4706), ('prepare', 5567), ('kcpe', 4137), ('httpstcoqene', 3651), ('09yc0o', 13), ('scamming', 6301), ('tracy', 7314), ('firstclass', 2912), ('wr', 7909), ('91', 440), ('twickenham', 7419), ('authorisation', 961), ('7ftz6nj80', 396), ('flipkart', 2944), ('lus', 4518), ('mosaic', 4820), ('1wbtdelhu', 127), ('hwg', 3734), ('tch', 7055), ('accommodating', 511), ('zt', 8010), ('yalls', 7950), ('58yhnsq4af', 310), ('detective', 2237), ('hec', 3382), ('airdrop', 638), ('dough', 2422), ('leighton', 4330), ('tenders', 7088), ('springs', 6751), ('strawberry', 6853), ('bios', 1168), ('electronics', 2558), ('ksf', 4228), ('creamer', 1986), ('aloha', 705), ('ears', 2512), ('teammagenta', 7064), ('hubby', 3716), ('jerry', 4025), ('blackberry', 1185), ('kinect', 4192), ('thanksmi', 7125), ('dal', 2063), ('barred', 1069), ('cleveland', 1693), ('rebuild', 5828), ('rad', 5752), ('impress', 3796), ('shg', 6453), ('fp', 3012), ('ohio', 5081), ('amv', 756), ('priorities', 5600), ('pi', 5385), ('141', 80), ('chennai', 1620), ('404', 252), ('mqms', 4842), ('clip', 1699), ('continuous', 1892), ('etd', 2665), ('td', 7056), ('golden', 3194), ('sbi', 6295), ('isaac', 3959), ('avenue', 981), ('weybridge', 7782), ('birds', 1170), ('charlesopacki', 1589), ('tolerate', 7263), ('krispy', 4224), ('buns', 1370), ('tma', 7238), ('decade', 2130), ('allergic', 693), ('barbara', 1063), ('830', 420), ('jlm', 4047), ('professionalism', 5627), ('httpstcoub', 3678), ('sofa', 6636), ('ajr', 657), ('deltaproud', 2182), ('harassment', 3322), ('suits', 6924), ('mcgriddle', 4646), ('recommendation', 5855), ('rap', 5774), ('httpstcoqc', 3649), ('cus', 2035), ('follows', 2970), ('patricia', 5294), ('mcribfinderapp', 4651), ('6idgbjrmtu', 362), ('buds', 1349), ('lindy', 4389), ('93ottxrx', 446), ('taylorbest', 7047), ('mcchicken', 4639), ('911', 441), ('yea', 7957), ('sml', 6615), ('amazongreatindianfestival', 729), ('gl', 3163), ('viacom', 7634), ('7vypc322', 407), ('8ewfkxdnt', 429), ('buttermilk', 1387), ('mlb', 4778), ('v30', 7585), ('jillian', 4039), ('5tkirqd4se', 332), ('httpstcohitfsfb', 3589), ('2rk', 193), ('portrait', 5507), ('sofritas', 6637), ('overwhelmed', 5201), ('haa', 3279), ('rv', 6226), ('snail', 6626), ('hjb', 3440), ('tbs', 7050), ('hel', 3384), ('107', 38), ('hmb', 3447), ('lk', 4423), ('hou', 3507), ('hpl', 3523), ('mart', 4608), ('jasmines', 4006), ('👁', 8076), ('fem', 2860), ('jeromybingham', 4024), ('weatherscan', 7748), ('stephaniegarza', 6811), ('panda', 5241), ('hpf', 3522), ('httpstcouqexsrrlxj', 3681), ('httpstcoqodbosp', 3654), ('4wz', 292), ('httpstcosdsg', 3668), ('93lafu', 445), ('tse', 7391), ('bignightin', 1158), ('mcdelivery', 4641), ('httpstcoxxaxefaskh', 3701)])"
            ]
          },
          "metadata": {
            "tags": []
          },
          "execution_count": 32
        }
      ]
    },
    {
      "cell_type": "code",
      "metadata": {
        "id": "mVZV3-OrUlwt",
        "colab_type": "code",
        "colab": {}
      },
      "source": [
        "# Adding +3 so that we can accomodate UNK(= 0),PAD(= 1),START(= 2)\n",
        "vocab = {k: v+3 for k,v in count_vec.vocabulary_.items()}"
      ],
      "execution_count": 37,
      "outputs": []
    },
    {
      "cell_type": "code",
      "metadata": {
        "id": "XJ4QCe3hVzy6",
        "colab_type": "code",
        "colab": {}
      },
      "source": [
        "vocab['__unk__'] = UNK\n",
        "vocab['__pad__'] = PAD\n",
        "vocab['__start__'] = START"
      ],
      "execution_count": 38,
      "outputs": []
    },
    {
      "cell_type": "code",
      "metadata": {
        "id": "oNp0xVcJV0Kd",
        "colab_type": "code",
        "colab": {}
      },
      "source": [
        "# Reverse vocab will use to converting no. to words\n",
        "reverse_vocab = {v: k for k, v in vocab.items()}"
      ],
      "execution_count": 39,
      "outputs": []
    },
    {
      "cell_type": "code",
      "metadata": {
        "id": "iT6930-TZHzv",
        "colab_type": "code",
        "colab": {}
      },
      "source": [
        "def word_to_number(sentence):\n",
        "  full_length = [vocab.get(tok,UNK) for tok in analyzer(sentence)]+[PAD]*MAX_MESSAGE_LEN\n",
        "  return full_length[:MAX_MESSAGE_LEN] "
      ],
      "execution_count": 44,
      "outputs": []
    },
    {
      "cell_type": "code",
      "metadata": {
        "id": "zNkZMWACaQ-S",
        "colab_type": "code",
        "colab": {
          "base_uri": "https://localhost:8080/",
          "height": 527
        },
        "outputId": "7f2424d9-cdb6-4bdb-a16e-375c492f2908"
      },
      "source": [
        "word_to_number(\"what are you doing saransh where is my bag\")"
      ],
      "execution_count": 45,
      "outputs": [
        {
          "output_type": "execute_result",
          "data": {
            "text/plain": [
              "[7787,\n",
              " 865,\n",
              " 7980,\n",
              " 2397,\n",
              " 0,\n",
              " 7798,\n",
              " 3961,\n",
              " 4871,\n",
              " 1033,\n",
              " 1,\n",
              " 1,\n",
              " 1,\n",
              " 1,\n",
              " 1,\n",
              " 1,\n",
              " 1,\n",
              " 1,\n",
              " 1,\n",
              " 1,\n",
              " 1,\n",
              " 1,\n",
              " 1,\n",
              " 1,\n",
              " 1,\n",
              " 1,\n",
              " 1,\n",
              " 1,\n",
              " 1,\n",
              " 1,\n",
              " 1]"
            ]
          },
          "metadata": {
            "tags": []
          },
          "execution_count": 45
        }
      ]
    },
    {
      "cell_type": "code",
      "metadata": {
        "id": "Q817Xy4haWO5",
        "colab_type": "code",
        "colab": {}
      },
      "source": [
        "def number_to_word(numbers):\n",
        "  return ' '.join(reverse_vocab[idx] for idx in numbers if idx!=PAD).strip()"
      ],
      "execution_count": 46,
      "outputs": []
    },
    {
      "cell_type": "code",
      "metadata": {
        "id": "TjvdLzy0axjs",
        "colab_type": "code",
        "colab": {
          "base_uri": "https://localhost:8080/",
          "height": 35
        },
        "outputId": "23710d3a-68bb-4f86-d5ac-63b84f963f8e"
      },
      "source": [
        "number_to_word([7787,\n",
        " 865,\n",
        " 7980,\n",
        " 2397,\n",
        " 0,\n",
        " 7798,\n",
        " 3961,\n",
        " 4871,\n",
        " 1033,\n",
        " 1,\n",
        " 1,\n",
        " 1,\n",
        " 1,\n",
        " 1,\n",
        " 1,\n",
        " 1,\n",
        " 1,\n",
        " 1,\n",
        " 1,\n",
        " 1,\n",
        " 1,\n",
        " 1,\n",
        " 1,\n",
        " 1,\n",
        " 1,\n",
        " 1,\n",
        " 1,\n",
        " 1,\n",
        " 1,\n",
        " 1])"
      ],
      "execution_count": 47,
      "outputs": [
        {
          "output_type": "execute_result",
          "data": {
            "application/vnd.google.colaboratory.intrinsic": {
              "type": "string"
            },
            "text/plain": [
              "'what are you doing __unk__ where is my bag'"
            ]
          },
          "metadata": {
            "tags": []
          },
          "execution_count": 47
        }
      ]
    },
    {
      "cell_type": "code",
      "metadata": {
        "id": "rKWa2SOya1mz",
        "colab_type": "code",
        "colab": {}
      },
      "source": [
        "x = np.vstack(query_and_response['text_x'].apply(word_to_number).values)"
      ],
      "execution_count": 48,
      "outputs": []
    },
    {
      "cell_type": "code",
      "metadata": {
        "id": "AUZNssvTbrAa",
        "colab_type": "code",
        "colab": {}
      },
      "source": [
        "y = np.vstack(query_and_response['text_y'].apply(word_to_number).values)"
      ],
      "execution_count": 49,
      "outputs": []
    },
    {
      "cell_type": "code",
      "metadata": {
        "id": "JcT7DS1tTsrj",
        "colab_type": "code",
        "colab": {}
      },
      "source": [
        "from sklearn.model_selection import train_test_split"
      ],
      "execution_count": 52,
      "outputs": []
    },
    {
      "cell_type": "code",
      "metadata": {
        "id": "CPRF6CxYT7ED",
        "colab_type": "code",
        "colab": {}
      },
      "source": [
        "train_x ,test_x ,train_y ,test_y = train_test_split(x,y,test_size=0.2,random_state = 42,shuffle=True)"
      ],
      "execution_count": 54,
      "outputs": []
    },
    {
      "cell_type": "code",
      "metadata": {
        "id": "9yVEOXx9UqPy",
        "colab_type": "code",
        "colab": {
          "base_uri": "https://localhost:8080/",
          "height": 153
        },
        "outputId": "4cd637c5-8406-4d4f-ee7f-b08c06e880c6"
      },
      "source": [
        "print(\"----------\")\n",
        "print(\"Train Shape X and Y\")\n",
        "print(train_x.shape)\n",
        "print(train_y.shape)\n",
        "print(\"----------\")\n",
        "print(\"Test Shape X and Y\")\n",
        "print(test_x.shape)\n",
        "print(test_y.shape)"
      ],
      "execution_count": 58,
      "outputs": [
        {
          "output_type": "stream",
          "text": [
            "----------\n",
            "Train Shape X and Y\n",
            "(603380, 30)\n",
            "(603380, 30)\n",
            "----------\n",
            "Test Shape X and Y\n",
            "(150845, 30)\n",
            "(150845, 30)\n"
          ],
          "name": "stdout"
        }
      ]
    },
    {
      "cell_type": "code",
      "metadata": {
        "id": "6mV7CaXCe30r",
        "colab_type": "code",
        "colab": {}
      },
      "source": [
        "# from keras.models import Model\n",
        "# from keras.optimizers import Adam\n",
        "# from keras.layers import Dense, Input, LSTM, Dropout, Embedding, RepeatVector, concatenate,TimeDistributed\n",
        "# from keras.utils import np_utils"
      ],
      "execution_count": null,
      "outputs": []
    },
    {
      "cell_type": "code",
      "metadata": {
        "id": "aQWCXdKjgR64",
        "colab_type": "code",
        "colab": {
          "base_uri": "https://localhost:8080/",
          "height": 34
        },
        "outputId": "15238248-0389-4892-c5d2-eab2303d55e2"
      },
      "source": [
        "# def create_model():\n",
        "#   shared_embedding = Embedding(\n",
        "#       output_dim = EMBEDDING_SIZE,\n",
        "#       input_dim = MAX_VOCAB_SIZE,\n",
        "#       input_length = MAX_MESSAGE_LEN,\n",
        "#       name='embedding',\n",
        "#   )\n",
        "\n",
        "#   encoder_input = INTPUT(\n",
        "#       shape=(MAX_MESSAGE_LEN,),\n",
        "#       dtype='int32',\n",
        "#       name='encoder_input',\n",
        "#   )\n",
        "\n",
        "#   embedded_input = shared_embedding(encoder_input)\n",
        "  \n",
        "#   encoder_rnn = LSTM(\n",
        "#       CONTEXT_SIZE,\n",
        "#       name='encoder',\n",
        "#       dropout = DROPOUT\n",
        "#   )\n",
        "\n",
        "#   context = RepeatVector(MAX_MESSAGE_LEN)(encoder_rnn(embedded_input))\n",
        "  "
      ],
      "execution_count": null,
      "outputs": [
        {
          "output_type": "stream",
          "text": [
            "hel\n"
          ],
          "name": "stdout"
        }
      ]
    },
    {
      "cell_type": "code",
      "metadata": {
        "id": "HC2SIyYOqvU8",
        "colab_type": "code",
        "colab": {}
      },
      "source": [
        ""
      ],
      "execution_count": null,
      "outputs": []
    }
  ]
}