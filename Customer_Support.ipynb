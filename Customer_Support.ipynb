{
  "nbformat": 4,
  "nbformat_minor": 0,
  "metadata": {
    "colab": {
      "name": "Customer Support.ipynb",
      "provenance": [],
      "collapsed_sections": [],
      "authorship_tag": "ABX9TyPQ+Amwr3sIjWScyvzbIgms",
      "include_colab_link": true
    },
    "kernelspec": {
      "name": "python3",
      "display_name": "Python 3"
    },
    "accelerator": "TPU"
  },
  "cells": [
    {
      "cell_type": "markdown",
      "metadata": {
        "id": "view-in-github",
        "colab_type": "text"
      },
      "source": [
        "<a href=\"https://colab.research.google.com/github/saransh2320/Twiiter-Customer-Support-/blob/master/Customer_Support.ipynb\" target=\"_parent\"><img src=\"https://colab.research.google.com/assets/colab-badge.svg\" alt=\"Open In Colab\"/></a>"
      ]
    },
    {
      "cell_type": "code",
      "metadata": {
        "id": "9a0xa6uiaOQI",
        "colab_type": "code",
        "colab": {}
      },
      "source": [
        "import os\n",
        "import json"
      ],
      "execution_count": 1,
      "outputs": []
    },
    {
      "cell_type": "code",
      "metadata": {
        "id": "r6fsgMZNRz0M",
        "colab_type": "code",
        "colab": {
          "base_uri": "https://localhost:8080/",
          "height": 187
        },
        "outputId": "77e811e1-edf0-4661-ad88-da9b17f81957"
      },
      "source": [
        "!pip install pycld2"
      ],
      "execution_count": 2,
      "outputs": [
        {
          "output_type": "stream",
          "text": [
            "Collecting pycld2\n",
            "\u001b[?25l  Downloading https://files.pythonhosted.org/packages/21/d2/8b0def84a53c88d0eb27c67b05269fbd16ad68df8c78849e7b5d65e6aec3/pycld2-0.41.tar.gz (41.4MB)\n",
            "\u001b[K     |████████████████████████████████| 41.4MB 92kB/s \n",
            "\u001b[?25hBuilding wheels for collected packages: pycld2\n",
            "  Building wheel for pycld2 (setup.py) ... \u001b[?25l\u001b[?25hdone\n",
            "  Created wheel for pycld2: filename=pycld2-0.41-cp36-cp36m-linux_x86_64.whl size=9833491 sha256=7c237677fa0f1895595afa1488d0dfbb93d5cc31770de4a00fac07c5ee07842a\n",
            "  Stored in directory: /root/.cache/pip/wheels/c6/8f/e9/08a1a8932a490175bd140206cd86a3dbcfc70498100de11079\n",
            "Successfully built pycld2\n",
            "Installing collected packages: pycld2\n",
            "Successfully installed pycld2-0.41\n"
          ],
          "name": "stdout"
        }
      ]
    },
    {
      "cell_type": "code",
      "metadata": {
        "id": "wX9B5T_pcCvy",
        "colab_type": "code",
        "colab": {}
      },
      "source": [
        "!pip install -q kaggle"
      ],
      "execution_count": 3,
      "outputs": []
    },
    {
      "cell_type": "code",
      "metadata": {
        "id": "W42eBPb-awQP",
        "colab_type": "code",
        "colab": {}
      },
      "source": [
        "kaggle_api_key = '{\"username\":\"hsaransh\",\"key\":\"d751f4719ec73f12f570241faafd19c9\"}'\n",
        "kaggle_api_key = json.loads(kaggle_api_key)"
      ],
      "execution_count": 4,
      "outputs": []
    },
    {
      "cell_type": "code",
      "metadata": {
        "id": "w9FrSKYSoO5B",
        "colab_type": "code",
        "colab": {}
      },
      "source": [
        "!mkdir -p ~/.kaggle"
      ],
      "execution_count": 5,
      "outputs": []
    },
    {
      "cell_type": "code",
      "metadata": {
        "id": "-7Z2imLmbOYo",
        "colab_type": "code",
        "colab": {}
      },
      "source": [
        "with open('kaggle.json', 'w') as json_file:\n",
        "    json.dump(kaggle_api_key, json_file)"
      ],
      "execution_count": 6,
      "outputs": []
    },
    {
      "cell_type": "code",
      "metadata": {
        "id": "3ajWC4dloSy3",
        "colab_type": "code",
        "colab": {}
      },
      "source": [
        "!cp kaggle.json ~/.kaggle/"
      ],
      "execution_count": 7,
      "outputs": []
    },
    {
      "cell_type": "code",
      "metadata": {
        "id": "Rc7Rq39in5EB",
        "colab_type": "code",
        "colab": {}
      },
      "source": [
        "!chmod 600 /root/.kaggle/kaggle.json"
      ],
      "execution_count": 8,
      "outputs": []
    },
    {
      "cell_type": "code",
      "metadata": {
        "id": "wKb8tf3LavZD",
        "colab_type": "code",
        "colab": {
          "base_uri": "https://localhost:8080/",
          "height": 68
        },
        "outputId": "45b30a94-8a4f-47a7-caa9-78ade6d2639c"
      },
      "source": [
        "!kaggle datasets download -d thoughtvector/customer-support-on-twitter"
      ],
      "execution_count": 9,
      "outputs": [
        {
          "output_type": "stream",
          "text": [
            "Downloading customer-support-on-twitter.zip to /content\n",
            "\r  0% 0.00/169M [00:00<?, ?B/s]\r  3% 5.00M/169M [00:00<00:04, 40.9MB/s]\r  7% 12.0M/169M [00:00<00:03, 46.9MB/s]\r 19% 32.0M/169M [00:00<00:02, 61.2MB/s]\r 24% 40.0M/169M [00:00<00:02, 64.0MB/s]\r 29% 49.0M/169M [00:00<00:02, 58.4MB/s]\r 42% 71.0M/169M [00:00<00:01, 75.0MB/s]\r 49% 83.0M/169M [00:00<00:01, 83.7MB/s]\r 58% 97.0M/169M [00:00<00:00, 94.7MB/s]\r 66% 111M/169M [00:01<00:00, 105MB/s]  \r 74% 124M/169M [00:01<00:00, 97.8MB/s]\r 85% 143M/169M [00:01<00:00, 115MB/s] \r 94% 158M/169M [00:01<00:00, 125MB/s]\n",
            "\r100% 169M/169M [00:01<00:00, 103MB/s]\n"
          ],
          "name": "stdout"
        }
      ]
    },
    {
      "cell_type": "code",
      "metadata": {
        "id": "fjXWqsRhnV5Y",
        "colab_type": "code",
        "colab": {
          "base_uri": "https://localhost:8080/",
          "height": 68
        },
        "outputId": "701d01a0-8f32-49f1-ed19-f8a85291b794"
      },
      "source": [
        "!unzip '/content/customer-support-on-twitter.zip'"
      ],
      "execution_count": 10,
      "outputs": [
        {
          "output_type": "stream",
          "text": [
            "Archive:  /content/customer-support-on-twitter.zip\n",
            "  inflating: sample.csv              \n",
            "  inflating: twcs/twcs.csv           \n"
          ],
          "name": "stdout"
        }
      ]
    },
    {
      "cell_type": "code",
      "metadata": {
        "id": "QQIkeP8WpG8c",
        "colab_type": "code",
        "colab": {}
      },
      "source": [
        "import numpy as np\n",
        "import pandas as pd\n",
        "import string"
      ],
      "execution_count": 11,
      "outputs": []
    },
    {
      "cell_type": "code",
      "metadata": {
        "id": "A0JFFo9ApK73",
        "colab_type": "code",
        "colab": {}
      },
      "source": [
        "tweets = pd.read_csv('/content/twcs/twcs.csv')"
      ],
      "execution_count": 12,
      "outputs": []
    },
    {
      "cell_type": "code",
      "metadata": {
        "id": "cLifmmGUpSfG",
        "colab_type": "code",
        "colab": {
          "base_uri": "https://localhost:8080/",
          "height": 204
        },
        "outputId": "354f71a7-8f8c-4e68-b747-6e064020caae"
      },
      "source": [
        "tweets.head()"
      ],
      "execution_count": 13,
      "outputs": [
        {
          "output_type": "execute_result",
          "data": {
            "text/html": [
              "<div>\n",
              "<style scoped>\n",
              "    .dataframe tbody tr th:only-of-type {\n",
              "        vertical-align: middle;\n",
              "    }\n",
              "\n",
              "    .dataframe tbody tr th {\n",
              "        vertical-align: top;\n",
              "    }\n",
              "\n",
              "    .dataframe thead th {\n",
              "        text-align: right;\n",
              "    }\n",
              "</style>\n",
              "<table border=\"1\" class=\"dataframe\">\n",
              "  <thead>\n",
              "    <tr style=\"text-align: right;\">\n",
              "      <th></th>\n",
              "      <th>tweet_id</th>\n",
              "      <th>author_id</th>\n",
              "      <th>inbound</th>\n",
              "      <th>created_at</th>\n",
              "      <th>text</th>\n",
              "      <th>response_tweet_id</th>\n",
              "      <th>in_response_to_tweet_id</th>\n",
              "    </tr>\n",
              "  </thead>\n",
              "  <tbody>\n",
              "    <tr>\n",
              "      <th>0</th>\n",
              "      <td>1</td>\n",
              "      <td>sprintcare</td>\n",
              "      <td>False</td>\n",
              "      <td>Tue Oct 31 22:10:47 +0000 2017</td>\n",
              "      <td>@115712 I understand. I would like to assist y...</td>\n",
              "      <td>2</td>\n",
              "      <td>3.0</td>\n",
              "    </tr>\n",
              "    <tr>\n",
              "      <th>1</th>\n",
              "      <td>2</td>\n",
              "      <td>115712</td>\n",
              "      <td>True</td>\n",
              "      <td>Tue Oct 31 22:11:45 +0000 2017</td>\n",
              "      <td>@sprintcare and how do you propose we do that</td>\n",
              "      <td>NaN</td>\n",
              "      <td>1.0</td>\n",
              "    </tr>\n",
              "    <tr>\n",
              "      <th>2</th>\n",
              "      <td>3</td>\n",
              "      <td>115712</td>\n",
              "      <td>True</td>\n",
              "      <td>Tue Oct 31 22:08:27 +0000 2017</td>\n",
              "      <td>@sprintcare I have sent several private messag...</td>\n",
              "      <td>1</td>\n",
              "      <td>4.0</td>\n",
              "    </tr>\n",
              "    <tr>\n",
              "      <th>3</th>\n",
              "      <td>4</td>\n",
              "      <td>sprintcare</td>\n",
              "      <td>False</td>\n",
              "      <td>Tue Oct 31 21:54:49 +0000 2017</td>\n",
              "      <td>@115712 Please send us a Private Message so th...</td>\n",
              "      <td>3</td>\n",
              "      <td>5.0</td>\n",
              "    </tr>\n",
              "    <tr>\n",
              "      <th>4</th>\n",
              "      <td>5</td>\n",
              "      <td>115712</td>\n",
              "      <td>True</td>\n",
              "      <td>Tue Oct 31 21:49:35 +0000 2017</td>\n",
              "      <td>@sprintcare I did.</td>\n",
              "      <td>4</td>\n",
              "      <td>6.0</td>\n",
              "    </tr>\n",
              "  </tbody>\n",
              "</table>\n",
              "</div>"
            ],
            "text/plain": [
              "   tweet_id   author_id  ...  response_tweet_id in_response_to_tweet_id\n",
              "0         1  sprintcare  ...                  2                     3.0\n",
              "1         2      115712  ...                NaN                     1.0\n",
              "2         3      115712  ...                  1                     4.0\n",
              "3         4  sprintcare  ...                  3                     5.0\n",
              "4         5      115712  ...                  4                     6.0\n",
              "\n",
              "[5 rows x 7 columns]"
            ]
          },
          "metadata": {
            "tags": []
          },
          "execution_count": 13
        }
      ]
    },
    {
      "cell_type": "code",
      "metadata": {
        "id": "Zt-tg6_SpmYJ",
        "colab_type": "code",
        "colab": {
          "base_uri": "https://localhost:8080/",
          "height": 97
        },
        "outputId": "d1bc80f8-7599-409c-af4c-70b0672cb9f0"
      },
      "source": [
        "tweets.loc[lambda tf: tf['tweet_id'] == 81]"
      ],
      "execution_count": 14,
      "outputs": [
        {
          "output_type": "execute_result",
          "data": {
            "text/html": [
              "<div>\n",
              "<style scoped>\n",
              "    .dataframe tbody tr th:only-of-type {\n",
              "        vertical-align: middle;\n",
              "    }\n",
              "\n",
              "    .dataframe tbody tr th {\n",
              "        vertical-align: top;\n",
              "    }\n",
              "\n",
              "    .dataframe thead th {\n",
              "        text-align: right;\n",
              "    }\n",
              "</style>\n",
              "<table border=\"1\" class=\"dataframe\">\n",
              "  <thead>\n",
              "    <tr style=\"text-align: right;\">\n",
              "      <th></th>\n",
              "      <th>tweet_id</th>\n",
              "      <th>author_id</th>\n",
              "      <th>inbound</th>\n",
              "      <th>created_at</th>\n",
              "      <th>text</th>\n",
              "      <th>response_tweet_id</th>\n",
              "      <th>in_response_to_tweet_id</th>\n",
              "    </tr>\n",
              "  </thead>\n",
              "  <tbody>\n",
              "    <tr>\n",
              "      <th>73</th>\n",
              "      <td>81</td>\n",
              "      <td>ChipotleTweets</td>\n",
              "      <td>False</td>\n",
              "      <td>Mon Oct 30 15:00:02 +0000 2017</td>\n",
              "      <td>Just stop by in costume 10/31 3pm-close. Offic...</td>\n",
              "      <td>80,82,83,84,85,86,87,88,89,90,91,92,93,94,95,9...</td>\n",
              "      <td>NaN</td>\n",
              "    </tr>\n",
              "  </tbody>\n",
              "</table>\n",
              "</div>"
            ],
            "text/plain": [
              "    tweet_id  ... in_response_to_tweet_id\n",
              "73        81  ...                     NaN\n",
              "\n",
              "[1 rows x 7 columns]"
            ]
          },
          "metadata": {
            "tags": []
          },
          "execution_count": 14
        }
      ]
    },
    {
      "cell_type": "code",
      "metadata": {
        "id": "2ZgMRjbPp3KP",
        "colab_type": "code",
        "colab": {
          "base_uri": "https://localhost:8080/",
          "height": 97
        },
        "outputId": "6ffcd463-1e78-4408-cf79-22d25d496ef4"
      },
      "source": [
        "tweets.loc[lambda tf: tf['tweet_id'] == 409]"
      ],
      "execution_count": 15,
      "outputs": [
        {
          "output_type": "execute_result",
          "data": {
            "text/html": [
              "<div>\n",
              "<style scoped>\n",
              "    .dataframe tbody tr th:only-of-type {\n",
              "        vertical-align: middle;\n",
              "    }\n",
              "\n",
              "    .dataframe tbody tr th {\n",
              "        vertical-align: top;\n",
              "    }\n",
              "\n",
              "    .dataframe thead th {\n",
              "        text-align: right;\n",
              "    }\n",
              "</style>\n",
              "<table border=\"1\" class=\"dataframe\">\n",
              "  <thead>\n",
              "    <tr style=\"text-align: right;\">\n",
              "      <th></th>\n",
              "      <th>tweet_id</th>\n",
              "      <th>author_id</th>\n",
              "      <th>inbound</th>\n",
              "      <th>created_at</th>\n",
              "      <th>text</th>\n",
              "      <th>response_tweet_id</th>\n",
              "      <th>in_response_to_tweet_id</th>\n",
              "    </tr>\n",
              "  </thead>\n",
              "  <tbody>\n",
              "    <tr>\n",
              "      <th>301</th>\n",
              "      <td>409</td>\n",
              "      <td>McDonalds</td>\n",
              "      <td>False</td>\n",
              "      <td>Tue Oct 31 16:02:50 +0000 2017</td>\n",
              "      <td>So what’ll it be this #Halloween: a trick or a...</td>\n",
              "      <td>410,411,412,413,414,415,416,417,418,419,420,42...</td>\n",
              "      <td>NaN</td>\n",
              "    </tr>\n",
              "  </tbody>\n",
              "</table>\n",
              "</div>"
            ],
            "text/plain": [
              "     tweet_id  ... in_response_to_tweet_id\n",
              "301       409  ...                     NaN\n",
              "\n",
              "[1 rows x 7 columns]"
            ]
          },
          "metadata": {
            "tags": []
          },
          "execution_count": 15
        }
      ]
    },
    {
      "cell_type": "code",
      "metadata": {
        "id": "oePiSnlIAxHy",
        "colab_type": "code",
        "colab": {
          "base_uri": "https://localhost:8080/",
          "height": 34
        },
        "outputId": "24a30d36-ee0e-4b68-c2ec-654f1043bfb0"
      },
      "source": [
        "tweets.shape"
      ],
      "execution_count": 16,
      "outputs": [
        {
          "output_type": "execute_result",
          "data": {
            "text/plain": [
              "(2811774, 7)"
            ]
          },
          "metadata": {
            "tags": []
          },
          "execution_count": 16
        }
      ]
    },
    {
      "cell_type": "code",
      "metadata": {
        "id": "iImRzTjWpVdb",
        "colab_type": "code",
        "colab": {}
      },
      "source": [
        "# First_inbound have all the tweets in_response_to_tweet_id is null (i.e. starting of converstion) and tweets.inbound == true (i.e. started by customer)\n",
        "first_inbound = tweets[pd.isnull(tweets.in_response_to_tweet_id) & tweets.inbound == True]\n",
        "\n",
        "inbounds_and_outbounds = pd.merge(first_inbound,tweets,left_on='tweet_id',right_on='in_response_to_tweet_id')\n",
        "\n",
        "inbounds_and_outbounds = inbounds_and_outbounds[inbounds_and_outbounds.inbound_y ^ True]"
      ],
      "execution_count": 17,
      "outputs": []
    },
    {
      "cell_type": "code",
      "metadata": {
        "id": "DHBjdNRRuWaI",
        "colab_type": "code",
        "colab": {
          "base_uri": "https://localhost:8080/",
          "height": 649
        },
        "outputId": "cd8eabc2-0d2e-4379-e6a5-700a7e119267"
      },
      "source": [
        "inbounds_and_outbounds.head()"
      ],
      "execution_count": 18,
      "outputs": [
        {
          "output_type": "execute_result",
          "data": {
            "text/html": [
              "<div>\n",
              "<style scoped>\n",
              "    .dataframe tbody tr th:only-of-type {\n",
              "        vertical-align: middle;\n",
              "    }\n",
              "\n",
              "    .dataframe tbody tr th {\n",
              "        vertical-align: top;\n",
              "    }\n",
              "\n",
              "    .dataframe thead th {\n",
              "        text-align: right;\n",
              "    }\n",
              "</style>\n",
              "<table border=\"1\" class=\"dataframe\">\n",
              "  <thead>\n",
              "    <tr style=\"text-align: right;\">\n",
              "      <th></th>\n",
              "      <th>tweet_id_x</th>\n",
              "      <th>author_id_x</th>\n",
              "      <th>inbound_x</th>\n",
              "      <th>created_at_x</th>\n",
              "      <th>text_x</th>\n",
              "      <th>response_tweet_id_x</th>\n",
              "      <th>in_response_to_tweet_id_x</th>\n",
              "      <th>tweet_id_y</th>\n",
              "      <th>author_id_y</th>\n",
              "      <th>inbound_y</th>\n",
              "      <th>created_at_y</th>\n",
              "      <th>text_y</th>\n",
              "      <th>response_tweet_id_y</th>\n",
              "      <th>in_response_to_tweet_id_y</th>\n",
              "    </tr>\n",
              "  </thead>\n",
              "  <tbody>\n",
              "    <tr>\n",
              "      <th>0</th>\n",
              "      <td>8</td>\n",
              "      <td>115712</td>\n",
              "      <td>True</td>\n",
              "      <td>Tue Oct 31 21:45:10 +0000 2017</td>\n",
              "      <td>@sprintcare is the worst customer service</td>\n",
              "      <td>9,6,10</td>\n",
              "      <td>NaN</td>\n",
              "      <td>6</td>\n",
              "      <td>sprintcare</td>\n",
              "      <td>False</td>\n",
              "      <td>Tue Oct 31 21:46:24 +0000 2017</td>\n",
              "      <td>@115712 Can you please send us a private messa...</td>\n",
              "      <td>5,7</td>\n",
              "      <td>8.0</td>\n",
              "    </tr>\n",
              "    <tr>\n",
              "      <th>1</th>\n",
              "      <td>8</td>\n",
              "      <td>115712</td>\n",
              "      <td>True</td>\n",
              "      <td>Tue Oct 31 21:45:10 +0000 2017</td>\n",
              "      <td>@sprintcare is the worst customer service</td>\n",
              "      <td>9,6,10</td>\n",
              "      <td>NaN</td>\n",
              "      <td>9</td>\n",
              "      <td>sprintcare</td>\n",
              "      <td>False</td>\n",
              "      <td>Tue Oct 31 21:46:14 +0000 2017</td>\n",
              "      <td>@115712 I would love the chance to review the ...</td>\n",
              "      <td>NaN</td>\n",
              "      <td>8.0</td>\n",
              "    </tr>\n",
              "    <tr>\n",
              "      <th>2</th>\n",
              "      <td>8</td>\n",
              "      <td>115712</td>\n",
              "      <td>True</td>\n",
              "      <td>Tue Oct 31 21:45:10 +0000 2017</td>\n",
              "      <td>@sprintcare is the worst customer service</td>\n",
              "      <td>9,6,10</td>\n",
              "      <td>NaN</td>\n",
              "      <td>10</td>\n",
              "      <td>sprintcare</td>\n",
              "      <td>False</td>\n",
              "      <td>Tue Oct 31 21:45:59 +0000 2017</td>\n",
              "      <td>@115712 Hello! We never like our customers to ...</td>\n",
              "      <td>NaN</td>\n",
              "      <td>8.0</td>\n",
              "    </tr>\n",
              "    <tr>\n",
              "      <th>3</th>\n",
              "      <td>18</td>\n",
              "      <td>115713</td>\n",
              "      <td>True</td>\n",
              "      <td>Tue Oct 31 19:56:01 +0000 2017</td>\n",
              "      <td>@115714 y’all lie about your “great” connectio...</td>\n",
              "      <td>17</td>\n",
              "      <td>NaN</td>\n",
              "      <td>17</td>\n",
              "      <td>sprintcare</td>\n",
              "      <td>False</td>\n",
              "      <td>Tue Oct 31 19:59:13 +0000 2017</td>\n",
              "      <td>@115713 H there! We'd definitely like to work ...</td>\n",
              "      <td>16</td>\n",
              "      <td>18.0</td>\n",
              "    </tr>\n",
              "    <tr>\n",
              "      <th>4</th>\n",
              "      <td>20</td>\n",
              "      <td>115715</td>\n",
              "      <td>True</td>\n",
              "      <td>Tue Oct 31 22:03:34 +0000 2017</td>\n",
              "      <td>@115714 whenever I contact customer support, t...</td>\n",
              "      <td>19</td>\n",
              "      <td>NaN</td>\n",
              "      <td>19</td>\n",
              "      <td>sprintcare</td>\n",
              "      <td>False</td>\n",
              "      <td>Tue Oct 31 22:10:10 +0000 2017</td>\n",
              "      <td>@115715 Please send me a private message so th...</td>\n",
              "      <td>NaN</td>\n",
              "      <td>20.0</td>\n",
              "    </tr>\n",
              "  </tbody>\n",
              "</table>\n",
              "</div>"
            ],
            "text/plain": [
              "   tweet_id_x author_id_x  ...  response_tweet_id_y in_response_to_tweet_id_y\n",
              "0           8      115712  ...                  5,7                       8.0\n",
              "1           8      115712  ...                  NaN                       8.0\n",
              "2           8      115712  ...                  NaN                       8.0\n",
              "3          18      115713  ...                   16                      18.0\n",
              "4          20      115715  ...                  NaN                      20.0\n",
              "\n",
              "[5 rows x 14 columns]"
            ]
          },
          "metadata": {
            "tags": []
          },
          "execution_count": 18
        }
      ]
    },
    {
      "cell_type": "code",
      "metadata": {
        "id": "HTD53sUOkkTz",
        "colab_type": "code",
        "colab": {
          "base_uri": "https://localhost:8080/",
          "height": 34
        },
        "outputId": "59b996a3-6580-4587-d401-02f3b4f0a97a"
      },
      "source": [
        "inbounds_and_outbounds.shape"
      ],
      "execution_count": 19,
      "outputs": [
        {
          "output_type": "execute_result",
          "data": {
            "text/plain": [
              "(794299, 14)"
            ]
          },
          "metadata": {
            "tags": []
          },
          "execution_count": 19
        }
      ]
    },
    {
      "cell_type": "code",
      "metadata": {
        "id": "LPO3gbTnrtnJ",
        "colab_type": "code",
        "colab": {}
      },
      "source": [
        "# query_and_response = inbounds_and_outbounds.drop(['tweet_id_x' ,'author_id_x' ,'inbound_x' ,'created_at_x' ,'response_tweet_id_x','in_response_to_tweet_id_x','tweet_id_y','author_id_y','inbound_y','created_at_y','response_tweet_id_y','in_response_to_tweet_id_y'],axis=1)"
      ],
      "execution_count": 20,
      "outputs": []
    },
    {
      "cell_type": "code",
      "metadata": {
        "id": "y2lPq7HCAH_i",
        "colab_type": "code",
        "colab": {
          "base_uri": "https://localhost:8080/",
          "height": 204
        },
        "outputId": "0230c29f-1e79-41ee-f6dd-9c1e286a12f7"
      },
      "source": [
        "query_and_response = inbounds_and_outbounds[[\"text_x\",\"text_y\"]]\n",
        "query_and_response.head()"
      ],
      "execution_count": 36,
      "outputs": [
        {
          "output_type": "execute_result",
          "data": {
            "text/html": [
              "<div>\n",
              "<style scoped>\n",
              "    .dataframe tbody tr th:only-of-type {\n",
              "        vertical-align: middle;\n",
              "    }\n",
              "\n",
              "    .dataframe tbody tr th {\n",
              "        vertical-align: top;\n",
              "    }\n",
              "\n",
              "    .dataframe thead th {\n",
              "        text-align: right;\n",
              "    }\n",
              "</style>\n",
              "<table border=\"1\" class=\"dataframe\">\n",
              "  <thead>\n",
              "    <tr style=\"text-align: right;\">\n",
              "      <th></th>\n",
              "      <th>text_x</th>\n",
              "      <th>text_y</th>\n",
              "    </tr>\n",
              "  </thead>\n",
              "  <tbody>\n",
              "    <tr>\n",
              "      <th>0</th>\n",
              "      <td>@sprintcare is the worst customer service</td>\n",
              "      <td>@115712 Can you please send us a private messa...</td>\n",
              "    </tr>\n",
              "    <tr>\n",
              "      <th>1</th>\n",
              "      <td>@sprintcare is the worst customer service</td>\n",
              "      <td>@115712 I would love the chance to review the ...</td>\n",
              "    </tr>\n",
              "    <tr>\n",
              "      <th>2</th>\n",
              "      <td>@sprintcare is the worst customer service</td>\n",
              "      <td>@115712 Hello! We never like our customers to ...</td>\n",
              "    </tr>\n",
              "    <tr>\n",
              "      <th>3</th>\n",
              "      <td>@115714 y’all lie about your “great” connectio...</td>\n",
              "      <td>@115713 H there! We'd definitely like to work ...</td>\n",
              "    </tr>\n",
              "    <tr>\n",
              "      <th>4</th>\n",
              "      <td>@115714 whenever I contact customer support, t...</td>\n",
              "      <td>@115715 Please send me a private message so th...</td>\n",
              "    </tr>\n",
              "  </tbody>\n",
              "</table>\n",
              "</div>"
            ],
            "text/plain": [
              "                                              text_x                                             text_y\n",
              "0          @sprintcare is the worst customer service  @115712 Can you please send us a private messa...\n",
              "1          @sprintcare is the worst customer service  @115712 I would love the chance to review the ...\n",
              "2          @sprintcare is the worst customer service  @115712 Hello! We never like our customers to ...\n",
              "3  @115714 y’all lie about your “great” connectio...  @115713 H there! We'd definitely like to work ...\n",
              "4  @115714 whenever I contact customer support, t...  @115715 Please send me a private message so th..."
            ]
          },
          "metadata": {
            "tags": []
          },
          "execution_count": 36
        }
      ]
    },
    {
      "cell_type": "code",
      "metadata": {
        "id": "K9uZkAaKmOBx",
        "colab_type": "code",
        "colab": {
          "base_uri": "https://localhost:8080/",
          "height": 34
        },
        "outputId": "b17092cd-63d8-40fe-bf6c-9ed558e03d0c"
      },
      "source": [
        "query_and_response.shape"
      ],
      "execution_count": 37,
      "outputs": [
        {
          "output_type": "execute_result",
          "data": {
            "text/plain": [
              "(794299, 2)"
            ]
          },
          "metadata": {
            "tags": []
          },
          "execution_count": 37
        }
      ]
    },
    {
      "cell_type": "code",
      "metadata": {
        "id": "Yc6TwnRmHVVo",
        "colab_type": "code",
        "colab": {
          "base_uri": "https://localhost:8080/",
          "height": 102
        },
        "outputId": "d1cbb4c6-2e9a-495b-9ddd-a6ef4dc662e7"
      },
      "source": [
        "query_and_response['text_x'].replace(to_replace=\"@[A-Za-z0-9]+\", value=\"\", regex=True,inplace=True)\n",
        "\n",
        "query_and_response['text_y'].replace(to_replace=\"@[A-Za-z0-9]+\", value=\"\", regex=True,inplace=True)"
      ],
      "execution_count": 38,
      "outputs": [
        {
          "output_type": "stream",
          "text": [
            "/usr/local/lib/python3.6/dist-packages/pandas/core/generic.py:6746: SettingWithCopyWarning: \n",
            "A value is trying to be set on a copy of a slice from a DataFrame\n",
            "\n",
            "See the caveats in the documentation: https://pandas.pydata.org/pandas-docs/stable/user_guide/indexing.html#returning-a-view-versus-a-copy\n",
            "  self._update_inplace(new_data)\n"
          ],
          "name": "stderr"
        }
      ]
    },
    {
      "cell_type": "code",
      "metadata": {
        "id": "S0Jnv5_ECMHN",
        "colab_type": "code",
        "colab": {
          "base_uri": "https://localhost:8080/",
          "height": 204
        },
        "outputId": "3700beed-a1cf-4928-ae8a-6e64f3f08564"
      },
      "source": [
        "query_and_response.head()"
      ],
      "execution_count": 39,
      "outputs": [
        {
          "output_type": "execute_result",
          "data": {
            "text/html": [
              "<div>\n",
              "<style scoped>\n",
              "    .dataframe tbody tr th:only-of-type {\n",
              "        vertical-align: middle;\n",
              "    }\n",
              "\n",
              "    .dataframe tbody tr th {\n",
              "        vertical-align: top;\n",
              "    }\n",
              "\n",
              "    .dataframe thead th {\n",
              "        text-align: right;\n",
              "    }\n",
              "</style>\n",
              "<table border=\"1\" class=\"dataframe\">\n",
              "  <thead>\n",
              "    <tr style=\"text-align: right;\">\n",
              "      <th></th>\n",
              "      <th>text_x</th>\n",
              "      <th>text_y</th>\n",
              "    </tr>\n",
              "  </thead>\n",
              "  <tbody>\n",
              "    <tr>\n",
              "      <th>0</th>\n",
              "      <td>is the worst customer service</td>\n",
              "      <td>Can you please send us a private message, so ...</td>\n",
              "    </tr>\n",
              "    <tr>\n",
              "      <th>1</th>\n",
              "      <td>is the worst customer service</td>\n",
              "      <td>I would love the chance to review the account...</td>\n",
              "    </tr>\n",
              "    <tr>\n",
              "      <th>2</th>\n",
              "      <td>is the worst customer service</td>\n",
              "      <td>Hello! We never like our customers to feel li...</td>\n",
              "    </tr>\n",
              "    <tr>\n",
              "      <th>3</th>\n",
              "      <td>y’all lie about your “great” connection. 5 ba...</td>\n",
              "      <td>H there! We'd definitely like to work with yo...</td>\n",
              "    </tr>\n",
              "    <tr>\n",
              "      <th>4</th>\n",
              "      <td>whenever I contact customer support, they tel...</td>\n",
              "      <td>Please send me a private message so that I ca...</td>\n",
              "    </tr>\n",
              "  </tbody>\n",
              "</table>\n",
              "</div>"
            ],
            "text/plain": [
              "                                              text_x                                             text_y\n",
              "0                      is the worst customer service   Can you please send us a private message, so ...\n",
              "1                      is the worst customer service   I would love the chance to review the account...\n",
              "2                      is the worst customer service   Hello! We never like our customers to feel li...\n",
              "3   y’all lie about your “great” connection. 5 ba...   H there! We'd definitely like to work with yo...\n",
              "4   whenever I contact customer support, they tel...   Please send me a private message so that I ca..."
            ]
          },
          "metadata": {
            "tags": []
          },
          "execution_count": 39
        }
      ]
    },
    {
      "cell_type": "code",
      "metadata": {
        "id": "2TZkxO7HLiwK",
        "colab_type": "code",
        "colab": {}
      },
      "source": [
        "# Testing pycld2 Library\n",
        "import pycld2 as cld2\n",
        "k = (cld2.detect(\"who is here\")[2])[0][1]"
      ],
      "execution_count": 40,
      "outputs": []
    },
    {
      "cell_type": "code",
      "metadata": {
        "id": "KRXWSbguL5Ya",
        "colab_type": "code",
        "colab": {}
      },
      "source": [
        "def is_en(txt):\n",
        "    try:\n",
        "        return ((cld2.detect(txt)[2])[0][1])=='en'\n",
        "    except:\n",
        "        return False\n",
        "\n",
        "query_and_response = query_and_response[query_and_response['text_x'].apply(is_en)]\n",
        "query_and_response = query_and_response[query_and_response['text_y'].apply(is_en)]"
      ],
      "execution_count": 41,
      "outputs": []
    },
    {
      "cell_type": "code",
      "metadata": {
        "id": "LlmSmIx0NmMF",
        "colab_type": "code",
        "colab": {
          "base_uri": "https://localhost:8080/",
          "height": 34
        },
        "outputId": "40e173f2-67c6-485c-c965-77e8aa81df8c"
      },
      "source": [
        "query_and_response.shape"
      ],
      "execution_count": 42,
      "outputs": [
        {
          "output_type": "execute_result",
          "data": {
            "text/plain": [
              "(754225, 2)"
            ]
          },
          "metadata": {
            "tags": []
          },
          "execution_count": 42
        }
      ]
    },
    {
      "cell_type": "code",
      "metadata": {
        "id": "eobayntzOApc",
        "colab_type": "code",
        "colab": {}
      },
      "source": [
        "query_and_response[\"text_x\"] = query_and_response[\"text_x\"].str.lower()\n",
        "query_and_response[\"text_y\"] = query_and_response[\"text_y\"].str.lower()\n"
      ],
      "execution_count": 43,
      "outputs": []
    },
    {
      "cell_type": "code",
      "metadata": {
        "id": "PATuSlT0OFpg",
        "colab_type": "code",
        "colab": {}
      },
      "source": [
        "# PUNCT_TO_REMOVE = string.punctuation\n",
        "\n",
        "def remove_punctuation(text):\n",
        "    text_nopunct = \"\".join([char for char in text if char not in string.punctuation])# It will discard all punctuations\n",
        "    return text_nopunct\n",
        "\n",
        "query_and_response[\"text_x\"] = query_and_response[\"text_x\"].apply(lambda text: remove_punctuation(text))\n",
        "query_and_response[\"text_y\"] = query_and_response[\"text_y\"].apply(lambda text: remove_punctuation(text))\n"
      ],
      "execution_count": 44,
      "outputs": []
    },
    {
      "cell_type": "code",
      "metadata": {
        "id": "4OVqsm9WRllN",
        "colab_type": "code",
        "colab": {
          "base_uri": "https://localhost:8080/",
          "height": 669
        },
        "outputId": "b5f09efa-fccc-46d7-a167-2e1582365361"
      },
      "source": [
        "query_and_response.head(20)"
      ],
      "execution_count": 45,
      "outputs": [
        {
          "output_type": "execute_result",
          "data": {
            "text/html": [
              "<div>\n",
              "<style scoped>\n",
              "    .dataframe tbody tr th:only-of-type {\n",
              "        vertical-align: middle;\n",
              "    }\n",
              "\n",
              "    .dataframe tbody tr th {\n",
              "        vertical-align: top;\n",
              "    }\n",
              "\n",
              "    .dataframe thead th {\n",
              "        text-align: right;\n",
              "    }\n",
              "</style>\n",
              "<table border=\"1\" class=\"dataframe\">\n",
              "  <thead>\n",
              "    <tr style=\"text-align: right;\">\n",
              "      <th></th>\n",
              "      <th>text_x</th>\n",
              "      <th>text_y</th>\n",
              "    </tr>\n",
              "  </thead>\n",
              "  <tbody>\n",
              "    <tr>\n",
              "      <th>0</th>\n",
              "      <td>is the worst customer service</td>\n",
              "      <td>can you please send us a private message so t...</td>\n",
              "    </tr>\n",
              "    <tr>\n",
              "      <th>1</th>\n",
              "      <td>is the worst customer service</td>\n",
              "      <td>i would love the chance to review the account...</td>\n",
              "    </tr>\n",
              "    <tr>\n",
              "      <th>2</th>\n",
              "      <td>is the worst customer service</td>\n",
              "      <td>hello we never like our customers to feel lik...</td>\n",
              "    </tr>\n",
              "    <tr>\n",
              "      <th>3</th>\n",
              "      <td>y’all lie about your “great” connection 5 bar...</td>\n",
              "      <td>h there wed definitely like to work with you ...</td>\n",
              "    </tr>\n",
              "    <tr>\n",
              "      <th>4</th>\n",
              "      <td>whenever i contact customer support they tell...</td>\n",
              "      <td>please send me a private message so that i ca...</td>\n",
              "    </tr>\n",
              "    <tr>\n",
              "      <th>5</th>\n",
              "      <td>actually thats a broken link you sent me and i...</td>\n",
              "      <td>the information pertaining to the account ass...</td>\n",
              "    </tr>\n",
              "    <tr>\n",
              "      <th>6</th>\n",
              "      <td>yo spectrum your customer service reps are sup...</td>\n",
              "      <td>hello my apologies for any frustrations or in...</td>\n",
              "    </tr>\n",
              "    <tr>\n",
              "      <th>7</th>\n",
              "      <td>my picture on spectrum pretty much every day w...</td>\n",
              "      <td>i apologize for the inconvenience i will be g...</td>\n",
              "    </tr>\n",
              "    <tr>\n",
              "      <th>8</th>\n",
              "      <td>somebody from  please help meeeeee 😩😩😩😩 im hav...</td>\n",
              "      <td>help has arrived we are sorry to see that you...</td>\n",
              "    </tr>\n",
              "    <tr>\n",
              "      <th>9</th>\n",
              "      <td>my friend is without internet we need to play...</td>\n",
              "      <td>have your friend message us\\nacm</td>\n",
              "    </tr>\n",
              "    <tr>\n",
              "      <th>11</th>\n",
              "      <td>is the worst isp i’ve ever had</td>\n",
              "      <td>what did we do to make you feel this way and ...</td>\n",
              "    </tr>\n",
              "    <tr>\n",
              "      <th>12</th>\n",
              "      <td>...</td>\n",
              "      <td>in what area are you located all of your serv...</td>\n",
              "    </tr>\n",
              "    <tr>\n",
              "      <th>13</th>\n",
              "      <td>fix your app it wont even open</td>\n",
              "      <td>which app are you referring too \\nacm</td>\n",
              "    </tr>\n",
              "    <tr>\n",
              "      <th>14</th>\n",
              "      <td>\\ni dont fit in my veggie burrito costume ha...</td>\n",
              "      <td>i still think you look great becky</td>\n",
              "    </tr>\n",
              "    <tr>\n",
              "      <th>16</th>\n",
              "      <td>messed up today and didn’t give me my 3 burri...</td>\n",
              "      <td>im so sorry about that please tell us more so...</td>\n",
              "    </tr>\n",
              "    <tr>\n",
              "      <th>17</th>\n",
              "      <td>hey  wanna come to mammoth ill at least eat th...</td>\n",
              "      <td>hopefully well get there at some point becky</td>\n",
              "    </tr>\n",
              "    <tr>\n",
              "      <th>18</th>\n",
              "      <td>when youre the only one in costume boorito</td>\n",
              "      <td>its because youre smart tara</td>\n",
              "    </tr>\n",
              "    <tr>\n",
              "      <th>19</th>\n",
              "      <td>no diet coke and a literal bone this boorito ...</td>\n",
              "      <td>thats incredibly concerning please tell us mo...</td>\n",
              "    </tr>\n",
              "    <tr>\n",
              "      <th>20</th>\n",
              "      <td>happy halloween since im too old to trick or t...</td>\n",
              "      <td>i mean boorito is basically the adult version...</td>\n",
              "    </tr>\n",
              "    <tr>\n",
              "      <th>22</th>\n",
              "      <td>so frustrated with  😡 ordered dinner on saturd...</td>\n",
              "      <td>thats concerning please share this with https...</td>\n",
              "    </tr>\n",
              "  </tbody>\n",
              "</table>\n",
              "</div>"
            ],
            "text/plain": [
              "                                               text_x                                             text_y\n",
              "0                       is the worst customer service   can you please send us a private message so t...\n",
              "1                       is the worst customer service   i would love the chance to review the account...\n",
              "2                       is the worst customer service   hello we never like our customers to feel lik...\n",
              "3    y’all lie about your “great” connection 5 bar...   h there wed definitely like to work with you ...\n",
              "4    whenever i contact customer support they tell...   please send me a private message so that i ca...\n",
              "5   actually thats a broken link you sent me and i...   the information pertaining to the account ass...\n",
              "6   yo spectrum your customer service reps are sup...   hello my apologies for any frustrations or in...\n",
              "7   my picture on spectrum pretty much every day w...   i apologize for the inconvenience i will be g...\n",
              "8   somebody from  please help meeeeee 😩😩😩😩 im hav...   help has arrived we are sorry to see that you...\n",
              "9    my friend is without internet we need to play...                   have your friend message us\\nacm\n",
              "11                     is the worst isp i’ve ever had   what did we do to make you feel this way and ...\n",
              "12                                                ...   in what area are you located all of your serv...\n",
              "13                     fix your app it wont even open              which app are you referring too \\nacm\n",
              "14    \\ni dont fit in my veggie burrito costume ha...                 i still think you look great becky\n",
              "16   messed up today and didn’t give me my 3 burri...   im so sorry about that please tell us more so...\n",
              "17  hey  wanna come to mammoth ill at least eat th...       hopefully well get there at some point becky\n",
              "18        when youre the only one in costume boorito                        its because youre smart tara\n",
              "19   no diet coke and a literal bone this boorito ...   thats incredibly concerning please tell us mo...\n",
              "20  happy halloween since im too old to trick or t...   i mean boorito is basically the adult version...\n",
              "22  so frustrated with  😡 ordered dinner on saturd...   thats concerning please share this with https..."
            ]
          },
          "metadata": {
            "tags": []
          },
          "execution_count": 45
        }
      ]
    },
    {
      "cell_type": "code",
      "metadata": {
        "id": "L_DPgAjmR3Uk",
        "colab_type": "code",
        "colab": {}
      },
      "source": [
        "freqX = pd.Series(''.join(query_and_response['text_x']).split()).value_counts()[:10]\n",
        "freqY = pd.Series(''.join(query_and_response['text_y']).split()).value_counts()[:10]"
      ],
      "execution_count": 54,
      "outputs": []
    },
    {
      "cell_type": "code",
      "metadata": {
        "id": "gf9nIpiGYVhz",
        "colab_type": "code",
        "colab": {
          "base_uri": "https://localhost:8080/",
          "height": 408
        },
        "outputId": "090d40d5-ee1a-46c3-bd4a-b9f8dc4859f3"
      },
      "source": [
        "print(freqX)\n",
        "print(\"-----------\")\n",
        "print(freqY)"
      ],
      "execution_count": 55,
      "outputs": [
        {
          "output_type": "stream",
          "text": [
            "to     448257\n",
            "the    387885\n",
            "i      379725\n",
            "my     302624\n",
            "a      281177\n",
            "and    248641\n",
            "is     207291\n",
            "for    198060\n",
            "on     181021\n",
            "you    168152\n",
            "dtype: int64\n",
            "-----------\n",
            "to      589910\n",
            "you     553615\n",
            "the     434419\n",
            "your    350594\n",
            "we      293641\n",
            "us      276569\n",
            "for     276531\n",
            "can     257925\n",
            "a       251868\n",
            "this    243893\n",
            "dtype: int64\n"
          ],
          "name": "stdout"
        }
      ]
    },
    {
      "cell_type": "code",
      "metadata": {
        "id": "vv6zovDqYaKO",
        "colab_type": "code",
        "colab": {}
      },
      "source": [
        "freqX = list(freqX.index)\n",
        "freqY = list(freqY.index)"
      ],
      "execution_count": 57,
      "outputs": []
    },
    {
      "cell_type": "code",
      "metadata": {
        "id": "D9ZeV1UJa_L-",
        "colab_type": "code",
        "colab": {
          "base_uri": "https://localhost:8080/",
          "height": 35
        },
        "outputId": "4ce3feed-4dd1-4fde-c2b9-ba1b17af69ca"
      },
      "source": [
        "xx = \"whenever i contact customer support they my\"\n",
        "axx = \" \".join(xx for xx in xx.split() if xx not in freqX)\n",
        "axx = \"\";\n",
        "for xx in xx.split():\n",
        "  if(xx not in freqX):\n",
        "    axx += xx\n",
        "    axx += ' '\n",
        "axx"
      ],
      "execution_count": 71,
      "outputs": [
        {
          "output_type": "execute_result",
          "data": {
            "application/vnd.google.colaboratory.intrinsic": {
              "type": "string"
            },
            "text/plain": [
              "'whenever contact customer support they '"
            ]
          },
          "metadata": {
            "tags": []
          },
          "execution_count": 71
        }
      ]
    },
    {
      "cell_type": "code",
      "metadata": {
        "id": "ZhG4D2QgYwIu",
        "colab_type": "code",
        "colab": {}
      },
      "source": [
        "query_and_response[\"text_x\"] = query_and_response[\"text_x\"].apply(lambda x : \" \".join(x for x in x.split() if x not in freqX))\n",
        "query_and_response[\"text_y\"] = query_and_response[\"text_y\"].apply(lambda x : \" \".join(x for x in x.split() if x not in freqY))"
      ],
      "execution_count": 72,
      "outputs": []
    },
    {
      "cell_type": "code",
      "metadata": {
        "id": "DP1rBKf5dd3d",
        "colab_type": "code",
        "colab": {
          "base_uri": "https://localhost:8080/",
          "height": 941
        },
        "outputId": "b0c75fc2-3fb3-4891-c3be-42f0c3721e0f"
      },
      "source": [
        "query_and_response.head(20)"
      ],
      "execution_count": 73,
      "outputs": [
        {
          "output_type": "execute_result",
          "data": {
            "text/html": [
              "<div>\n",
              "<style scoped>\n",
              "    .dataframe tbody tr th:only-of-type {\n",
              "        vertical-align: middle;\n",
              "    }\n",
              "\n",
              "    .dataframe tbody tr th {\n",
              "        vertical-align: top;\n",
              "    }\n",
              "\n",
              "    .dataframe thead th {\n",
              "        text-align: right;\n",
              "    }\n",
              "</style>\n",
              "<table border=\"1\" class=\"dataframe\">\n",
              "  <thead>\n",
              "    <tr style=\"text-align: right;\">\n",
              "      <th></th>\n",
              "      <th>text_x</th>\n",
              "      <th>text_y</th>\n",
              "    </tr>\n",
              "  </thead>\n",
              "  <tbody>\n",
              "    <tr>\n",
              "      <th>0</th>\n",
              "      <td>worst customer service</td>\n",
              "      <td>please send private message so that i gain fur...</td>\n",
              "    </tr>\n",
              "    <tr>\n",
              "      <th>1</th>\n",
              "      <td>worst customer service</td>\n",
              "      <td>i would love chance review account and provide...</td>\n",
              "    </tr>\n",
              "    <tr>\n",
              "      <th>2</th>\n",
              "      <td>worst customer service</td>\n",
              "      <td>hello never like our customers feel like they ...</td>\n",
              "    </tr>\n",
              "    <tr>\n",
              "      <th>3</th>\n",
              "      <td>y’all lie about your “great” connection 5 bars...</td>\n",
              "      <td>h there wed definitely like work with on how l...</td>\n",
              "    </tr>\n",
              "    <tr>\n",
              "      <th>4</th>\n",
              "      <td>whenever contact customer support they tell me...</td>\n",
              "      <td>please send me private message so that i send ...</td>\n",
              "    </tr>\n",
              "    <tr>\n",
              "      <th>5</th>\n",
              "      <td>actually thats broken link sent me incorrect i...</td>\n",
              "      <td>information pertaining account assumption is c...</td>\n",
              "    </tr>\n",
              "    <tr>\n",
              "      <th>6</th>\n",
              "      <td>yo spectrum your customer service reps are sup...</td>\n",
              "      <td>hello my apologies any frustrations or inconve...</td>\n",
              "    </tr>\n",
              "    <tr>\n",
              "      <th>7</th>\n",
              "      <td>picture spectrum pretty much every day why sho...</td>\n",
              "      <td>i apologize inconvenience i will be glad assis...</td>\n",
              "    </tr>\n",
              "    <tr>\n",
              "      <th>8</th>\n",
              "      <td>somebody from please help meeeeee 😩😩😩😩 im havi...</td>\n",
              "      <td>help has arrived are sorry see that are having...</td>\n",
              "    </tr>\n",
              "    <tr>\n",
              "      <th>9</th>\n",
              "      <td>friend without internet we need play videogame...</td>\n",
              "      <td>have friend message acm</td>\n",
              "    </tr>\n",
              "    <tr>\n",
              "      <th>11</th>\n",
              "      <td>worst isp i’ve ever had</td>\n",
              "      <td>what did do make feel way and how fix things b...</td>\n",
              "    </tr>\n",
              "    <tr>\n",
              "      <th>12</th>\n",
              "      <td>gtall of verizon downlt when can we expect fix</td>\n",
              "      <td>in what area are located all of services are d...</td>\n",
              "    </tr>\n",
              "    <tr>\n",
              "      <th>13</th>\n",
              "      <td>fix your app it wont even open</td>\n",
              "      <td>which app are referring too acm</td>\n",
              "    </tr>\n",
              "    <tr>\n",
              "      <th>14</th>\n",
              "      <td>dont fit in veggie burrito costume halloween h...</td>\n",
              "      <td>i still think look great becky</td>\n",
              "    </tr>\n",
              "    <tr>\n",
              "      <th>16</th>\n",
              "      <td>messed up today didn’t give me 3 burrito altho...</td>\n",
              "      <td>im so sorry about that please tell more so hel...</td>\n",
              "    </tr>\n",
              "    <tr>\n",
              "      <th>17</th>\n",
              "      <td>hey wanna come mammoth ill at least eat there ...</td>\n",
              "      <td>hopefully well get there at some point becky</td>\n",
              "    </tr>\n",
              "    <tr>\n",
              "      <th>18</th>\n",
              "      <td>when youre only one in costume boorito</td>\n",
              "      <td>its because youre smart tara</td>\n",
              "    </tr>\n",
              "    <tr>\n",
              "      <th>19</th>\n",
              "      <td>no diet coke literal bone this boorito was ext...</td>\n",
              "      <td>thats incredibly concerning please tell more h...</td>\n",
              "    </tr>\n",
              "    <tr>\n",
              "      <th>20</th>\n",
              "      <td>happy halloween since im too old trick or trea...</td>\n",
              "      <td>i mean boorito is basically adult version of h...</td>\n",
              "    </tr>\n",
              "    <tr>\n",
              "      <th>22</th>\n",
              "      <td>so frustrated with 😡 ordered dinner saturday u...</td>\n",
              "      <td>thats concerning please share with httpstconrh...</td>\n",
              "    </tr>\n",
              "  </tbody>\n",
              "</table>\n",
              "</div>"
            ],
            "text/plain": [
              "                                               text_x                                             text_y\n",
              "0                              worst customer service  please send private message so that i gain fur...\n",
              "1                              worst customer service  i would love chance review account and provide...\n",
              "2                              worst customer service  hello never like our customers feel like they ...\n",
              "3   y’all lie about your “great” connection 5 bars...  h there wed definitely like work with on how l...\n",
              "4   whenever contact customer support they tell me...  please send me private message so that i send ...\n",
              "5   actually thats broken link sent me incorrect i...  information pertaining account assumption is c...\n",
              "6   yo spectrum your customer service reps are sup...  hello my apologies any frustrations or inconve...\n",
              "7   picture spectrum pretty much every day why sho...  i apologize inconvenience i will be glad assis...\n",
              "8   somebody from please help meeeeee 😩😩😩😩 im havi...  help has arrived are sorry see that are having...\n",
              "9   friend without internet we need play videogame...                            have friend message acm\n",
              "11                            worst isp i’ve ever had  what did do make feel way and how fix things b...\n",
              "12     gtall of verizon downlt when can we expect fix  in what area are located all of services are d...\n",
              "13                     fix your app it wont even open                    which app are referring too acm\n",
              "14  dont fit in veggie burrito costume halloween h...                     i still think look great becky\n",
              "16  messed up today didn’t give me 3 burrito altho...  im so sorry about that please tell more so hel...\n",
              "17  hey wanna come mammoth ill at least eat there ...       hopefully well get there at some point becky\n",
              "18             when youre only one in costume boorito                       its because youre smart tara\n",
              "19  no diet coke literal bone this boorito was ext...  thats incredibly concerning please tell more h...\n",
              "20  happy halloween since im too old trick or trea...  i mean boorito is basically adult version of h...\n",
              "22  so frustrated with 😡 ordered dinner saturday u...  thats concerning please share with httpstconrh..."
            ]
          },
          "metadata": {
            "tags": []
          },
          "execution_count": 73
        }
      ]
    },
    {
      "cell_type": "code",
      "metadata": {
        "id": "vpCp3fCxdjml",
        "colab_type": "code",
        "colab": {}
      },
      "source": [
        "import nltk\n",
        "import re"
      ],
      "execution_count": 75,
      "outputs": []
    },
    {
      "cell_type": "code",
      "metadata": {
        "id": "KnXvMj9jdsnt",
        "colab_type": "code",
        "colab": {}
      },
      "source": [
        "def Tokenize(txt):\n",
        "  tokens = re.split('\\W+',txt)\n",
        "  return tokens"
      ],
      "execution_count": 76,
      "outputs": []
    },
    {
      "cell_type": "code",
      "metadata": {
        "id": "FLSsbZ8Ierqf",
        "colab_type": "code",
        "colab": {}
      },
      "source": [
        "query_and_response['text_x'] = query_and_response['text_x'].apply(lambda x: Tokenize(x))\n",
        "query_and_response['text_y'] = query_and_response['text_y'].apply(lambda x: Tokenize(x))\n"
      ],
      "execution_count": 78,
      "outputs": []
    },
    {
      "cell_type": "code",
      "metadata": {
        "id": "u38okMcRfHtP",
        "colab_type": "code",
        "colab": {
          "base_uri": "https://localhost:8080/",
          "height": 204
        },
        "outputId": "dddb281f-3c09-41dd-88e9-1d310dab2330"
      },
      "source": [
        "query_and_response.head()"
      ],
      "execution_count": 79,
      "outputs": [
        {
          "output_type": "execute_result",
          "data": {
            "text/html": [
              "<div>\n",
              "<style scoped>\n",
              "    .dataframe tbody tr th:only-of-type {\n",
              "        vertical-align: middle;\n",
              "    }\n",
              "\n",
              "    .dataframe tbody tr th {\n",
              "        vertical-align: top;\n",
              "    }\n",
              "\n",
              "    .dataframe thead th {\n",
              "        text-align: right;\n",
              "    }\n",
              "</style>\n",
              "<table border=\"1\" class=\"dataframe\">\n",
              "  <thead>\n",
              "    <tr style=\"text-align: right;\">\n",
              "      <th></th>\n",
              "      <th>text_x</th>\n",
              "      <th>text_y</th>\n",
              "    </tr>\n",
              "  </thead>\n",
              "  <tbody>\n",
              "    <tr>\n",
              "      <th>0</th>\n",
              "      <td>[worst, customer, service]</td>\n",
              "      <td>[please, send, private, message, so, that, i, ...</td>\n",
              "    </tr>\n",
              "    <tr>\n",
              "      <th>1</th>\n",
              "      <td>[worst, customer, service]</td>\n",
              "      <td>[i, would, love, chance, review, account, and,...</td>\n",
              "    </tr>\n",
              "    <tr>\n",
              "      <th>2</th>\n",
              "      <td>[worst, customer, service]</td>\n",
              "      <td>[hello, never, like, our, customers, feel, lik...</td>\n",
              "    </tr>\n",
              "    <tr>\n",
              "      <th>3</th>\n",
              "      <td>[y, all, lie, about, your, great, connection, ...</td>\n",
              "      <td>[h, there, wed, definitely, like, work, with, ...</td>\n",
              "    </tr>\n",
              "    <tr>\n",
              "      <th>4</th>\n",
              "      <td>[whenever, contact, customer, support, they, t...</td>\n",
              "      <td>[please, send, me, private, message, so, that,...</td>\n",
              "    </tr>\n",
              "  </tbody>\n",
              "</table>\n",
              "</div>"
            ],
            "text/plain": [
              "                                              text_x                                             text_y\n",
              "0                         [worst, customer, service]  [please, send, private, message, so, that, i, ...\n",
              "1                         [worst, customer, service]  [i, would, love, chance, review, account, and,...\n",
              "2                         [worst, customer, service]  [hello, never, like, our, customers, feel, lik...\n",
              "3  [y, all, lie, about, your, great, connection, ...  [h, there, wed, definitely, like, work, with, ...\n",
              "4  [whenever, contact, customer, support, they, t...  [please, send, me, private, message, so, that,..."
            ]
          },
          "metadata": {
            "tags": []
          },
          "execution_count": 79
        }
      ]
    },
    {
      "cell_type": "code",
      "metadata": {
        "id": "mX1zxDWcgnV3",
        "colab_type": "code",
        "colab": {
          "base_uri": "https://localhost:8080/",
          "height": 68
        },
        "outputId": "7feb4726-6651-48c0-84bb-e993d87ec4ea"
      },
      "source": [
        "nltk.download('wordnet')"
      ],
      "execution_count": 87,
      "outputs": [
        {
          "output_type": "stream",
          "text": [
            "[nltk_data] Downloading package wordnet to /root/nltk_data...\n",
            "[nltk_data]   Unzipping corpora/wordnet.zip.\n"
          ],
          "name": "stdout"
        },
        {
          "output_type": "execute_result",
          "data": {
            "text/plain": [
              "True"
            ]
          },
          "metadata": {
            "tags": []
          },
          "execution_count": 87
        }
      ]
    },
    {
      "cell_type": "code",
      "metadata": {
        "id": "SiRzRpBNiZIv",
        "colab_type": "code",
        "colab": {}
      },
      "source": [
        "from nltk.stem import WordNetLemmatizer"
      ],
      "execution_count": 93,
      "outputs": []
    },
    {
      "cell_type": "code",
      "metadata": {
        "id": "IRq37J6FfOnd",
        "colab_type": "code",
        "colab": {}
      },
      "source": [
        "wnl = WordNetLemmatizer()\n",
        "\n",
        "def lemmatizing(txt):\n",
        "  txt = [wnl.lemmatize(word) for word in txt]\n",
        "  return txt"
      ],
      "execution_count": 101,
      "outputs": []
    },
    {
      "cell_type": "code",
      "metadata": {
        "id": "9Dus78MQgU0x",
        "colab_type": "code",
        "colab": {
          "base_uri": "https://localhost:8080/",
          "height": 34
        },
        "outputId": "5d98daad-d7a3-4705-bfc6-ca7ba34d2977"
      },
      "source": [
        "lemmatizing(['Was', 'has', 'cycling','cycle','what'])"
      ],
      "execution_count": 102,
      "outputs": [
        {
          "output_type": "execute_result",
          "data": {
            "text/plain": [
              "['Was', 'ha', 'cycling', 'cycle', 'what']"
            ]
          },
          "metadata": {
            "tags": []
          },
          "execution_count": 102
        }
      ]
    },
    {
      "cell_type": "code",
      "metadata": {
        "id": "E0ZkyOGRgWq-",
        "colab_type": "code",
        "colab": {}
      },
      "source": [
        ""
      ],
      "execution_count": null,
      "outputs": []
    }
  ]
}